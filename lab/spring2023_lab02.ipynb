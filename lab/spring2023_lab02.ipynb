{
 "cells": [
  {
   "cell_type": "markdown",
   "metadata": {
    "slideshow": {
     "slide_type": "slide"
    }
   },
   "source": [
    "# Lab 2: Performance Tuning\n",
    "## Feb 2 2023\n"
   ]
  },
  {
   "cell_type": "markdown",
   "metadata": {
    "slideshow": {
     "slide_type": "slide"
    }
   },
   "source": [
    "### Timing python code"
   ]
  },
  {
   "cell_type": "code",
   "execution_count": 2,
   "metadata": {},
   "outputs": [
    {
     "name": "stdout",
     "output_type": "stream",
     "text": [
      "155 ns ± 21.5 ns per loop (mean ± std. dev. of 2 runs, 10 loops each)\n"
     ]
    }
   ],
   "source": [
    "import timeit\n",
    "import numpy as np\n",
    "from math import log10 as lg10\n",
    "import matplotlib.pyplot as plt\n",
    "\n",
    "def f(x):\n",
    "    return x * x\n",
    "\n",
    "%timeit -n 10 -r 2 f(3)"
   ]
  },
  {
   "cell_type": "code",
   "execution_count": 3,
   "metadata": {
    "slideshow": {
     "slide_type": "slide"
    }
   },
   "outputs": [
    {
     "name": "stdout",
     "output_type": "stream",
     "text": [
      "3.291999746579677e-07 sec per loop\n"
     ]
    }
   ],
   "source": [
    "mycode = ''' \n",
    "def f(x): \n",
    "    return x*x \n",
    "f(x_val)\n",
    "'''\n",
    "\n",
    "x_val = 3\n",
    "total_time = timeit.timeit(mycode, number = 10, globals=globals())\n",
    "print(f'{total_time/10} sec per loop')"
   ]
  },
  {
   "cell_type": "markdown",
   "metadata": {
    "slideshow": {
     "slide_type": "slide"
    }
   },
   "source": [
    "### Data Structure Choice: Membership Testing"
   ]
  },
  {
   "cell_type": "markdown",
   "metadata": {},
   "source": [
    "### List\n",
    "\n",
    "- Searching for an element in list takes O(N)"
   ]
  },
  {
   "cell_type": "code",
   "execution_count": 5,
   "metadata": {
    "slideshow": {
     "slide_type": "slide"
    }
   },
   "outputs": [
    {
     "name": "stdout",
     "output_type": "stream",
     "text": [
      "['AAA', 'AAS', 'AAD', 'AAF', 'AAG', 'AAH', 'AAJ', 'AAK', 'AAL', 'AAQ']\n"
     ]
    }
   ],
   "source": [
    "letters = 'ASDFGHJKLQWERTYUIOPZXCVBNM'\n",
    "\n",
    "letters_list = [x + y + z for x in letters for y in letters for z in letters]\n",
    "\n",
    "print(letters_list[:10])"
   ]
  },
  {
   "cell_type": "code",
   "execution_count": 1,
   "metadata": {
    "collapsed": true
   },
   "outputs": [
    {
     "data": {
      "text/plain": [
       "[(100, 0),\n",
       " (100, 1),\n",
       " (100, 2),\n",
       " (100, 3),\n",
       " (100, 4),\n",
       " (100, 5),\n",
       " (100, 6),\n",
       " (100, 7),\n",
       " (100, 8),\n",
       " (100, 9),\n",
       " (101, 0),\n",
       " (101, 1),\n",
       " (101, 2),\n",
       " (101, 3),\n",
       " (101, 4),\n",
       " (101, 5),\n",
       " (101, 6),\n",
       " (101, 7),\n",
       " (101, 8),\n",
       " (101, 9),\n",
       " (102, 0),\n",
       " (102, 1),\n",
       " (102, 2),\n",
       " (102, 3),\n",
       " (102, 4),\n",
       " (102, 5),\n",
       " (102, 6),\n",
       " (102, 7),\n",
       " (102, 8),\n",
       " (102, 9),\n",
       " (103, 0),\n",
       " (103, 1),\n",
       " (103, 2),\n",
       " (103, 3),\n",
       " (103, 4),\n",
       " (103, 5),\n",
       " (103, 6),\n",
       " (103, 7),\n",
       " (103, 8),\n",
       " (103, 9),\n",
       " (104, 0),\n",
       " (104, 1),\n",
       " (104, 2),\n",
       " (104, 3),\n",
       " (104, 4),\n",
       " (104, 5),\n",
       " (104, 6),\n",
       " (104, 7),\n",
       " (104, 8),\n",
       " (104, 9)]"
      ]
     },
     "execution_count": 1,
     "metadata": {},
     "output_type": "execute_result"
    }
   ],
   "source": [
    "[(x,z) for x in range(100,105,1)for z in range(10)]\n",
    "# for x in range():\n",
    "#      for z in range():\n",
    "            # x,z"
   ]
  },
  {
   "cell_type": "code",
   "execution_count": 6,
   "metadata": {},
   "outputs": [
    {
     "name": "stdout",
     "output_type": "stream",
     "text": [
      "20.1 µs ± 10.2 µs per loop (mean ± std. dev. of 7 runs, 100 loops each)\n",
      "224 µs ± 51.1 µs per loop (mean ± std. dev. of 7 runs, 100 loops each)\n"
     ]
    }
   ],
   "source": [
    "# note that ABC is not the first element but AAA\n",
    "# use in command line, therefore start with %\n",
    "%timeit -n 100 'ABC' in letters_list \n",
    "\n",
    "%timeit -n 100 'PQR' in letters_list"
   ]
  },
  {
   "cell_type": "code",
   "execution_count": 14,
   "metadata": {
    "slideshow": {
     "slide_type": "slide"
    }
   },
   "outputs": [],
   "source": [
    "# to use timeit in python\n",
    "# cons: need to be string or lambda\n",
    "import matplotlib.pyplot as plt\n",
    "mycode = '''\n",
    "def check_membership(elem):\n",
    "    return elem in numbers_list\n",
    "check_membership(i)\n",
    "'''\n",
    "times = []\n",
    "for i in range(0,100000,10):\n",
    "    numbers_list = np.random.randint(0, i, i)\n",
    "    total_time = timeit.timeit(mycode, number = 5, globals=globals())\n",
    "    \n",
    "    times.append(total_time / 5)\n",
    "    "
   ]
  },
  {
   "cell_type": "code",
   "execution_count": 15,
   "metadata": {
    "slideshow": {
     "slide_type": "slide"
    }
   },
   "outputs": [
    {
     "data": {
      "image/png": "[encoded data removed]",
      "text/plain": [
       "<Figure size 640x480 with 1 Axes>"
      ]
     },
     "metadata": {},
     "output_type": "display_data"
    }
   ],
   "source": [
    "plt.plot(times)\n",
    "plt.xlabel('Size of the list')\n",
    "plt.ylabel('Lookup time')\n",
    "plt.show()"
   ]
  },
  {
   "cell_type": "markdown",
   "metadata": {
    "slideshow": {
     "slide_type": "slide"
    }
   },
   "source": [
    "### Dictionary\n",
    "- Dictionaries are implemented as a Hash table, which hash the key\n",
    "- _Dicts_ and _sets_ are fast when looking up elements. \n",
    "- Insert, search and delete operations are O(1)\n",
    "\n"
   ]
  },
  {
   "cell_type": "code",
   "execution_count": 16,
   "metadata": {
    "slideshow": {
     "slide_type": "slide"
    }
   },
   "outputs": [
    {
     "name": "stdout",
     "output_type": "stream",
     "text": [
      "in dict\n",
      "33.2 ns ± 3.35 ns per loop (mean ± std. dev. of 7 runs, 100 loops each)\n",
      "39.7 ns ± 5.92 ns per loop (mean ± std. dev. of 7 runs, 100 loops each)\n"
     ]
    }
   ],
   "source": [
    "letters_dict = {x: x for x in letters_list}\n",
    "# Time how long it takes to find ‘abc’ and 'pqr'in letters_dict.\n",
    "\n",
    "print('in dict')\n",
    "%timeit -n 100 'ABC' in letters_dict\n",
    "%timeit -n 100 'PQR' in letters_dict"
   ]
  },
  {
   "cell_type": "code",
   "execution_count": 21,
   "metadata": {
    "slideshow": {
     "slide_type": "slide"
    }
   },
   "outputs": [],
   "source": [
    "mycode = '''\n",
    "def check_membership(elem):\n",
    "    return elem in numbers_dict\n",
    "check_membership(i)\n",
    "'''\n",
    "times = []\n",
    "for i in range(0,10000,10):\n",
    "    numbers_list = np.random.randint(0,i,i)\n",
    "    numbers_dict = {k:k for k in numbers_list}\n",
    "    total_time = timeit.timeit(mycode, number = 10, globals=globals())\n",
    "    \n",
    "    times.append(total_time/10)\n",
    "    "
   ]
  },
  {
   "cell_type": "code",
   "execution_count": 22,
   "metadata": {
    "slideshow": {
     "slide_type": "slide"
    }
   },
   "outputs": [
    {
     "data": {
      "text/plain": [
       "Text(0, 0.5, 'Lookup time')"
      ]
     },
     "execution_count": 22,
     "metadata": {},
     "output_type": "execute_result"
    },
    {
     "data": {
      "image/png": "[encoded data removed]",
      "text/plain": [
       "<Figure size 640x480 with 1 Axes>"
      ]
     },
     "metadata": {},
     "output_type": "display_data"
    }
   ],
   "source": [
    "plt.plot(times)\n",
    "plt.xlabel('Size of the dictionary')\n",
    "plt.ylabel('Lookup time')"
   ]
  },
  {
   "cell_type": "markdown",
   "metadata": {
    "slideshow": {
     "slide_type": "slide"
    }
   },
   "source": [
    "### Function Choice: String Concatenation"
   ]
  },
  {
   "cell_type": "markdown",
   "metadata": {},
   "source": [
    "- Python strings are immutable.\n",
    "- str1 + str2 creates a new string. *****\n",
    "- This copying can lead to significant slowdown"
   ]
  },
  {
   "cell_type": "code",
   "execution_count": 23,
   "metadata": {
    "slideshow": {
     "slide_type": "slide"
    }
   },
   "outputs": [],
   "source": [
    "def method1():\n",
    "    out_str = ''\n",
    "    global loop_count\n",
    "    for num in range(loop_count):\n",
    "        out_str += 'num'\n",
    "    return out_str\n",
    "\n",
    "def method2():\n",
    "    str_list = []\n",
    "    global loop_count\n",
    "    for num in range(loop_count):\n",
    "        str_list.append('num')\n",
    "    return ''.join(str_list)\n",
    "\n",
    "def method3():\n",
    "    global loop_count\n",
    "    return ''.join(['num' for i in range(loop_count)])"
   ]
  },
  {
   "cell_type": "code",
   "execution_count": 24,
   "metadata": {
    "slideshow": {
     "slide_type": "slide"
    }
   },
   "outputs": [
    {
     "name": "stdout",
     "output_type": "stream",
     "text": [
      "11.3 ms ± 2.52 ms per loop (mean ± std. dev. of 7 runs, 10 loops each)\n",
      "6.86 ms ± 718 µs per loop (mean ± std. dev. of 7 runs, 10 loops each)\n",
      "3.88 ms ± 883 µs per loop (mean ± std. dev. of 7 runs, 10 loops each)\n"
     ]
    }
   ],
   "source": [
    "loop_count = 100000\n",
    "\n",
    "%timeit -n 10 method1()\n",
    "%timeit -n 10 method2()\n",
    "%timeit -n 10 method3()  # list comprehension -> faster"
   ]
  },
  {
   "cell_type": "markdown",
   "metadata": {
    "slideshow": {
     "slide_type": "slide"
    }
   },
   "source": [
    "### Optimizing loops\n",
    "\n",
    "- Avoid for loops, use map or numpy operations\n",
    "- Numpy is faster due to vectorized implementations\n",
    "\n",
    "Multiply two 1000x1000 matrices"
   ]
  },
  {
   "cell_type": "code",
   "execution_count": 25,
   "metadata": {
    "slideshow": {
     "slide_type": "slide"
    }
   },
   "outputs": [],
   "source": [
    "N = 100\n",
    "arr1 = np.random.random((N,N))\n",
    "arr2 = np.random.random((N,N))"
   ]
  },
  {
   "cell_type": "markdown",
   "metadata": {
    "slideshow": {
     "slide_type": "slide"
    }
   },
   "source": [
    "### How fast is  For loop ?"
   ]
  },
  {
   "cell_type": "code",
   "execution_count": 26,
   "metadata": {
    "slideshow": {
     "slide_type": "slide"
    }
   },
   "outputs": [
    {
     "name": "stdout",
     "output_type": "stream",
     "text": [
      "498 ms ± 11.2 ms per loop (mean ± std. dev. of 7 runs, 1 loop each)\n"
     ]
    }
   ],
   "source": [
    "%%timeit -n 1\n",
    "\n",
    "def multiply(x,y):\n",
    "\n",
    "    m1,n1 = x.shape\n",
    "    m2,n2 = y.shape\n",
    "    \n",
    "    assert(n1 == m2)\n",
    "    z = np.zeros((m1,n2))\n",
    "\n",
    "    for i in range(m1): \n",
    "        for j in range(n2): \n",
    "            for k in range(m2): \n",
    "                z[i][j] += x[i][k] * y[k][j]\n",
    "                \n",
    "    return z\n",
    "\n",
    "multiply(arr1, arr2)"
   ]
  },
  {
   "cell_type": "markdown",
   "metadata": {
    "slideshow": {
     "slide_type": "slide"
    }
   },
   "source": [
    "### How fast is numpy?"
   ]
  },
  {
   "cell_type": "code",
   "execution_count": 27,
   "metadata": {
    "slideshow": {
     "slide_type": "slide"
    }
   },
   "outputs": [
    {
     "name": "stdout",
     "output_type": "stream",
     "text": [
      "The slowest run took 128.59 times longer than the fastest. This could mean that an intermediate result is being cached.\n",
      "462 µs ± 1.05 ms per loop (mean ± std. dev. of 7 runs, 1 loop each)\n"
     ]
    }
   ],
   "source": [
    "%%timeit -n 1\n",
    "\n",
    "def mod_multiply(x,y):\n",
    "    \"\"\"\n",
    "    Multiply two arrays using numpy.\n",
    "    \"\"\"\n",
    "    return np.matmul(x,y)\n",
    "\n",
    "mod_multiply(arr1, arr2)"
   ]
  },
  {
   "cell_type": "markdown",
   "metadata": {
    "slideshow": {
     "slide_type": "slide"
    }
   },
   "source": [
    "### Decorators\n",
    "\n",
    "In Python, functions are the first class objects, which means that:\n",
    "\n",
    "- Functions are objects; they can be referenced to, passed to a variable and returned from other functions as well.\n",
    "\n",
    "- Functions are taken as the argument into another function and then called inside the wrapper function.\n"
   ]
  },
  {
   "cell_type": "code",
   "execution_count": 28,
   "metadata": {
    "slideshow": {
     "slide_type": "slide"
    }
   },
   "outputs": [
    {
     "name": "stdout",
     "output_type": "stream",
     "text": [
      "Something is happening before the function is called.\n",
      "Whee!\n",
      "Something is happening after the function is called.\n"
     ]
    }
   ],
   "source": [
    "# defining a decorator, pass in \"func\", return \"wrapper\"\n",
    "\n",
    "def my_decorator(func):\n",
    "    \n",
    "    def wrapper():\n",
    "        print(\"Something is happening before the function is called.\")\n",
    "        func()\n",
    "        print(\"Something is happening after the function is called.\")\n",
    "    return wrapper\n",
    "\n",
    "def say_whee():\n",
    "    print(\"Whee!\")\n",
    "\n",
    "say_whee = my_decorator(say_whee)\n",
    "say_whee()"
   ]
  },
  {
   "cell_type": "code",
   "execution_count": 29,
   "metadata": {
    "slideshow": {
     "slide_type": "slide"
    }
   },
   "outputs": [
    {
     "name": "stdout",
     "output_type": "stream",
     "text": [
      "Something is happening before the function is called.\n",
      "Whee!\n",
      "Something is happening after the function is called.\n"
     ]
    }
   ],
   "source": [
    "@my_decorator\n",
    "def say_whee():\n",
    "    print(\"Whee!\")\n",
    "say_whee()"
   ]
  },
  {
   "cell_type": "code",
   "execution_count": 30,
   "metadata": {},
   "outputs": [
    {
     "name": "stdout",
     "output_type": "stream",
     "text": [
      "Something is happening before the function is called.\n",
      "Whee!\n",
      "Course:  Python\n",
      "Something is happening after the function is called.\n"
     ]
    }
   ],
   "source": [
    "## Showing args and kwargs for decorators\n",
    "def decorator_with_args(func):\n",
    "    \n",
    "    def wrapper(*args, **kwargs):\n",
    "        print(\"Something is happening before the function is called.\")\n",
    "        func(*args, **kwargs)\n",
    "        print(\"Something is happening after the function is called.\")\n",
    "    return wrapper\n",
    "\n",
    "# * == ... in R, * for positional arg, ** for keyword arg\n",
    "# ** will be save as dict, * will be save as tuple\n",
    "@decorator_with_args\n",
    "def say_whee_withargs(*args, **kwargs):  \n",
    "    print(\"Whee!\")\n",
    "    if 'course' in kwargs:\n",
    "        print('Course: ', kwargs['course'])\n",
    "say_whee_withargs(course='Python')"
   ]
  },
  {
   "cell_type": "markdown",
   "metadata": {
    "slideshow": {
     "slide_type": "slide"
    }
   },
   "source": [
    "### Caching with decorators\n",
    "\n",
    "- Decorators can be used to cache intermediate values\n",
    "- Can be used to avoid repeated calculations (**dynamic programming**)"
   ]
  },
  {
   "cell_type": "code",
   "execution_count": 31,
   "metadata": {
    "slideshow": {
     "slide_type": "slide"
    }
   },
   "outputs": [],
   "source": [
    "def fib(i):\n",
    "    if i < 2: return 1\n",
    "    return fib(i-1) + fib(i-2)\n",
    "\n",
    "def cache_fib(f): \n",
    "    memory = {} \n",
    "  \n",
    "    # This inner function has access to memory \n",
    "    # and 'f' \n",
    "    def inner(num): \n",
    "        if num not in memory:          \n",
    "            memory[num] = f(num) \n",
    "        return memory[num] \n",
    "  \n",
    "    return inner \n",
    "\n",
    "@cache_fib\n",
    "def better_fib(i):\n",
    "    if i < 2: return 1\n",
    "    return better_fib(i-1) + better_fib(i-2)\n"
   ]
  },
  {
   "cell_type": "code",
   "execution_count": 32,
   "metadata": {
    "slideshow": {
     "slide_type": "slide"
    }
   },
   "outputs": [
    {
     "name": "stdout",
     "output_type": "stream",
     "text": [
      "221 ms ± 19.3 ms per loop (mean ± std. dev. of 7 runs, 1 loop each)\n"
     ]
    }
   ],
   "source": [
    "%timeit -n 1 fib(30)\n"
   ]
  },
  {
   "cell_type": "code",
   "execution_count": 33,
   "metadata": {},
   "outputs": [
    {
     "name": "stdout",
     "output_type": "stream",
     "text": [
      "The slowest run took 585.76 times longer than the fastest. This could mean that an intermediate result is being cached.\n",
      "9.17 µs ± 22.1 µs per loop (mean ± std. dev. of 7 runs, 1 loop each)\n"
     ]
    }
   ],
   "source": [
    "%timeit -n 1 better_fib(30)"
   ]
  },
  {
   "cell_type": "code",
   "execution_count": 34,
   "metadata": {},
   "outputs": [
    {
     "name": "stdout",
     "output_type": "stream",
     "text": [
      "The slowest run took 103.97 times longer than the fastest. This could mean that an intermediate result is being cached.\n",
      "2.32 µs ± 5.12 µs per loop (mean ± std. dev. of 7 runs, 1 loop each)\n"
     ]
    }
   ],
   "source": [
    "from functools import lru_cache\n",
    "\n",
    "@lru_cache(maxsize=128)\n",
    "def better_fib(i):\n",
    "    if i < 2: return 1\n",
    "    return better_fib(i-1) + better_fib(i-2)\n",
    "\n",
    "%timeit -n 1 better_fib(30)"
   ]
  }
 ],
 "metadata": {
  "celltoolbar": "Slideshow",
  "kernelspec": {
   "display_name": "Python 3 (ipykernel)",
   "language": "python",
   "name": "python3"
  },
  "language_info": {
   "codemirror_mode": {
    "name": "ipython",
    "version": 3
   },
   "file_extension": ".py",
   "mimetype": "text/x-python",
   "name": "python",
   "nbconvert_exporter": "python",
   "pygments_lexer": "ipython3",
   "version": "3.9.12"
  },
  "vscode": {
   "interpreter": {
    "hash": "3ab5cc24b369747f155f8732b50eb1f1fee0827fe4315773c0d7959480f3b899"
   }
  }
 },
 "nbformat": 4,
 "nbformat_minor": 4
}
