{
 "cells": [
  {
   "cell_type": "markdown",
   "metadata": {},
   "source": [
    "# DS-GA 1019\n",
    "\n",
    "# Lab 9: Concurrency \n",
    "## Mar. 30, 2023"
   ]
  },
  {
   "cell_type": "code",
   "execution_count": 1,
   "metadata": {},
   "outputs": [],
   "source": [
    "import time\n",
    "import threading\n",
    "\n",
    "def do_something():\n",
    "    print('Sleeping 1 second...')\n",
    "    time.sleep(1)    # wait\n",
    "    print('Done sleeping')"
   ]
  },
  {
   "cell_type": "code",
   "execution_count": 2,
   "metadata": {},
   "outputs": [
    {
     "name": "stdout",
     "output_type": "stream",
     "text": [
      "Sleeping 1 second...\n",
      "Done sleeping\n",
      "Sleeping 1 second...\n",
      "Done sleeping\n",
      "Finished in 2.0 seconds\n"
     ]
    }
   ],
   "source": [
    "start = time.time()\n",
    "\n",
    "do_something()\n",
    "do_something()\n",
    "\n",
    "finish = time.time()\n",
    "\n",
    "print(f'Finished in {(finish - start):.1f} seconds')"
   ]
  },
  {
   "cell_type": "markdown",
   "metadata": {},
   "source": [
    "#### Sequential code\n",
    "\n",
    "<img   src=\"images/im1.png\" alt=\"Drawing\" style=\"width: 500px;\"/>\n"
   ]
  },
  {
   "cell_type": "markdown",
   "metadata": {},
   "source": [
    "#### Multi threaded code\n",
    "\n",
    "<img   src=\"images/im2.png\" alt=\"Drawing\" style=\"width: 500px;\"/>\n"
   ]
  },
  {
   "cell_type": "markdown",
   "metadata": {},
   "source": [
    "- only do one func at one time due to python GIL\n",
    "- but will be faster because when interpreter is resting in func 1, it may work on func2\n",
    "\n",
    "Process vs. threads:\n",
    "- threads share the same memory\n",
    "- process: each has it's own memory; run on different CPU"
   ]
  },
  {
   "cell_type": "code",
   "execution_count": 3,
   "metadata": {},
   "outputs": [
    {
     "name": "stdout",
     "output_type": "stream",
     "text": [
      "Sleeping 1 second...\n",
      "Sleeping 1 second...\n",
      "Done sleepingDone sleeping\n",
      "\n",
      "Finished in 1.0 seconds\n"
     ]
    }
   ],
   "source": [
    "start = time.time()\n",
    "# Thread is the class that create thread:\n",
    "t1 = threading.Thread(target = do_something)  # for no arg func\n",
    "t2 = threading.Thread(target = do_something)\n",
    "# > create threads\n",
    "t1.start() # start threads\n",
    "t2.start()\n",
    "\n",
    "#wait for the threads to finish:\n",
    "# need to use .join() when you want to combine the outputs \n",
    "t1.join()  # to make sure the func finish\n",
    "t2.join()  # because\n",
    "\n",
    "finish = time.time()\n",
    "\n",
    "print(f'Finished in {(finish - start):.1f} seconds')"
   ]
  },
  {
   "cell_type": "code",
   "execution_count": 4,
   "metadata": {},
   "outputs": [],
   "source": [
    "def do_something_specific(seconds):\n",
    "    print(f'Sleeping {seconds} seconds...')\n",
    "    time.sleep(seconds)\n",
    "    print('Done sleeping')"
   ]
  },
  {
   "cell_type": "code",
   "execution_count": 5,
   "metadata": {},
   "outputs": [
    {
     "name": "stdout",
     "output_type": "stream",
     "text": [
      "Sleeping 2 seconds...\n",
      "Sleeping 2 seconds...\n",
      "Sleeping 2 seconds...\n",
      "Sleeping 2 seconds...\n",
      "Sleeping 2 seconds...\n",
      "Sleeping 2 seconds...\n",
      "Sleeping 2 seconds...\n",
      "Sleeping 2 seconds...\n",
      "Sleeping 2 seconds...\n",
      "Sleeping 2 seconds...\n",
      "Done sleepingDone sleeping\n",
      "\n",
      "Done sleeping\n",
      "Done sleeping\n",
      "Done sleeping\n",
      "Done sleeping\n",
      "Done sleeping\n",
      "Done sleeping\n",
      "Done sleeping\n",
      "Done sleeping\n",
      "Finished in 2.0 seconds\n"
     ]
    }
   ],
   "source": [
    "start = time.time()\n",
    "\n",
    "threads = []\n",
    "\n",
    "for _ in range(10):  # create 10 threads\n",
    "    t = threading.Thread(target = do_something_specific, args = [2]) # pass a list of arg\n",
    "    t.start()\n",
    "    threads.append(t)\n",
    "\n",
    "for thread in threads:\n",
    "    thread.join()\n",
    "\n",
    "finish = time.time()\n",
    "\n",
    "print(f'Finished in {(finish - start):.1f} seconds')"
   ]
  },
  {
   "cell_type": "markdown",
   "metadata": {},
   "source": [
    "### Queue"
   ]
  },
  {
   "cell_type": "code",
   "execution_count": 6,
   "metadata": {},
   "outputs": [
    {
     "name": "stdout",
     "output_type": "stream",
     "text": [
      "1\n"
     ]
    }
   ],
   "source": [
    "from queue import Queue \n",
    "\n",
    "my_queue = Queue(maxsize=0) #FIFO queue\n",
    "my_queue.put(1) # add something into a queue\n",
    "my_queue.put(2)\n",
    "my_queue.put(3)\n",
    "print(my_queue.get()) # get things from queue\n"
   ]
  },
  {
   "cell_type": "code",
   "execution_count": 7,
   "metadata": {},
   "outputs": [],
   "source": [
    "q = Queue()\n",
    "num_threads = 2"
   ]
  },
  {
   "cell_type": "code",
   "execution_count": 8,
   "metadata": {},
   "outputs": [],
   "source": [
    "def worker():\n",
    "    while True:\n",
    "        print(f'Waiting for message, id = {threading.get_ident()}')\n",
    "        item = q.get()  # if didn't get anythin -> stop\n",
    "        print(f'Message received = {item}, id = {threading.get_ident()}')\n",
    "        \n",
    "        if item is not None:\n",
    "            do_work(item)\n",
    "            q.task_done()  \n",
    "        else:\n",
    "            q.task_done()\n",
    "            break"
   ]
  },
  {
   "cell_type": "code",
   "execution_count": 9,
   "metadata": {},
   "outputs": [],
   "source": [
    "def do_work(item):\n",
    "    print(f'Processing message .... {threading.get_ident()} -- {item}')\n",
    "    time.sleep(2)\n",
    "    print(f'Message processed .... {threading.get_ident()} -- {item}')"
   ]
  },
  {
   "cell_type": "code",
   "execution_count": 10,
   "metadata": {},
   "outputs": [
    {
     "name": "stdout",
     "output_type": "stream",
     "text": [
      "Waiting for message, id = 13139910656Waiting for message, id = 13156700160\n",
      "\n"
     ]
    }
   ],
   "source": [
    "threads = []\n",
    "\n",
    "for _ in range(num_threads):\n",
    "    t = threading.Thread(target = worker)\n",
    "    t.start()\n",
    "    threads.append(t)"
   ]
  },
  {
   "cell_type": "code",
   "execution_count": 11,
   "metadata": {
    "scrolled": true
   },
   "outputs": [
    {
     "name": "stdout",
     "output_type": "stream",
     "text": [
      "Message received = wuphf, id = 13156700160Message received = dot, id = 13139910656\n",
      "Processing message .... 13139910656 -- dot\n",
      "\n",
      "Processing message .... 13156700160 -- wuphf\n"
     ]
    }
   ],
   "source": [
    "#Add items to queue\n",
    "for item in ['wuphf','dot','com']:\n",
    "    q.put(item)"
   ]
  },
  {
   "cell_type": "code",
   "execution_count": 12,
   "metadata": {},
   "outputs": [
    {
     "data": {
      "text/plain": [
       "[<_MainThread(MainThread, started 8643868160)>,\n",
       " <Thread(IOPub, started daemon 13020753920)>,\n",
       " <Heartbeat(Heartbeat, started daemon 13037543424)>,\n",
       " <Thread(Thread-3, started daemon 13055406080)>,\n",
       " <Thread(Thread-4, started daemon 13072195584)>,\n",
       " <ControlThread(Control, started daemon 13088985088)>,\n",
       " <HistorySavingThread(IPythonHistorySavingThread, started 13105774592)>,\n",
       " <ParentPollerUnix(Thread-2, started daemon 13123121152)>,\n",
       " <Thread(Thread-17, started 13139910656)>,\n",
       " <Thread(Thread-18, started 13156700160)>]"
      ]
     },
     "execution_count": 12,
     "metadata": {},
     "output_type": "execute_result"
    }
   ],
   "source": [
    "#Print all running threads\n",
    "threading.enumerate()"
   ]
  },
  {
   "cell_type": "code",
   "execution_count": null,
   "metadata": {},
   "outputs": [],
   "source": [
    "#stop threads\n",
    "for _ in range(num_threads):\n",
    "    q.put(None)"
   ]
  },
  {
   "cell_type": "markdown",
   "metadata": {},
   "source": [
    "### Multiprocessing\n",
    "\n",
    "Tasks are executed on multiple processors / cpus"
   ]
  },
  {
   "cell_type": "code",
   "execution_count": 1,
   "metadata": {},
   "outputs": [
    {
     "name": "stdout",
     "output_type": "stream",
     "text": [
      "Collecting multiprocess\n",
      "  Downloading multiprocess-0.70.14-py38-none-any.whl (132 kB)\n",
      "\u001b[2K     \u001b[90m━━━━━━━━━━━━━━━━━━━━━━━━━━━━━━━━━━━━━━━\u001b[0m \u001b[32m132.0/132.0 kB\u001b[0m \u001b[31m8.6 MB/s\u001b[0m eta \u001b[36m0:00:00\u001b[0m\n",
      "\u001b[?25hCollecting dill>=0.3.6\n",
      "  Using cached dill-0.3.6-py3-none-any.whl (110 kB)\n",
      "Installing collected packages: dill, multiprocess\n",
      "Successfully installed dill-0.3.6 multiprocess-0.70.14\n"
     ]
    }
   ],
   "source": [
    "!pip install multiprocess"
   ]
  },
  {
   "cell_type": "code",
   "execution_count": 2,
   "metadata": {},
   "outputs": [
    {
     "name": "stdout",
     "output_type": "stream",
     "text": [
      "Number of processors:  8\n"
     ]
    }
   ],
   "source": [
    "import multiprocess as mp\n",
    "print(\"Number of processors: \", mp.cpu_count())"
   ]
  },
  {
   "cell_type": "markdown",
   "metadata": {},
   "source": [
    "### Example: Calculate e^x of elements of an array"
   ]
  },
  {
   "cell_type": "code",
   "execution_count": 3,
   "metadata": {},
   "outputs": [],
   "source": [
    "import numpy as np\n",
    "arr = np.random.randint(0, 10, size=[5000])\n",
    "data = arr.tolist()\n"
   ]
  },
  {
   "cell_type": "code",
   "execution_count": 4,
   "metadata": {},
   "outputs": [],
   "source": [
    "def factorial_upto(n):\n",
    "    res = [1]\n",
    "    \n",
    "    for i in range(1, n + 1):\n",
    "        res.append(res[-1] * i)\n",
    "    return res\n",
    "\n",
    "def taylor_exp(x,n=1000):\n",
    "    \n",
    "    factorials = factorial_upto(n)\n",
    "    \n",
    "    res = 0\n",
    "    for i in range(n):\n",
    "        res += x**i / factorials[i]\n",
    "    \n",
    "    return res"
   ]
  },
  {
   "cell_type": "markdown",
   "metadata": {},
   "source": [
    "### Sequential solution"
   ]
  },
  {
   "cell_type": "code",
   "execution_count": 7,
   "metadata": {},
   "outputs": [
    {
     "name": "stdout",
     "output_type": "stream",
     "text": [
      "Finished in 7.4004 seconds\n"
     ]
    }
   ],
   "source": [
    "start = time.time()\n",
    "results = []\n",
    "for x in data:\n",
    "    results.append(taylor_exp(x))\n",
    "\n",
    "print(f'Finished in {(time.time() - start):.4f} seconds')\n"
   ]
  },
  {
   "cell_type": "markdown",
   "metadata": {},
   "source": [
    "### Parallelizing using Pool.map\n",
    "- Pool() start the processing\n",
    "- pool.map(function, data)\n"
   ]
  },
  {
   "cell_type": "code",
   "execution_count": 8,
   "metadata": {},
   "outputs": [
    {
     "name": "stdout",
     "output_type": "stream",
     "text": [
      "Finished in 1.1421 seconds\n"
     ]
    }
   ],
   "source": [
    "import time\n",
    "start = time.time()\n",
    "\n",
    "pool = mp.Pool(mp.cpu_count())\n",
    "\n",
    "results_mp = pool.map(my_func, [x for x in data])\n",
    "\n",
    "pool.close()\n",
    "print(f'Finished in {(time.time() - start):.4f} seconds')\n",
    "\n",
    "assert (results_mp == results)"
   ]
  },
  {
   "cell_type": "code",
   "execution_count": null,
   "metadata": {},
   "outputs": [],
   "source": [
    "a = 5\n",
    "b = a\n",
    "b += 3\n",
    "a,b"
   ]
  },
  {
   "cell_type": "markdown",
   "metadata": {},
   "source": [
    "### Parallelizing using Pool.starmap\n",
    "\n",
    "Lets us pass multiple arguments"
   ]
  },
  {
   "cell_type": "code",
   "execution_count": null,
   "metadata": {},
   "outputs": [],
   "source": [
    "start = time.time()\n",
    "\n",
    "pool = mp.Pool(mp.cpu_count())\n",
    "\n",
    "results_smp = pool.starmap(taylor_exp, [(x,1000) for x in data])\n",
    "\n",
    "pool.close()\n",
    "print(f'Finished in {(time.time() - start):.4f} seconds')\n",
    "\n",
    "assert (results_smp == results)"
   ]
  },
  {
   "cell_type": "code",
   "execution_count": null,
   "metadata": {},
   "outputs": [],
   "source": [
    "!python3 pool_star.py"
   ]
  },
  {
   "cell_type": "markdown",
   "metadata": {},
   "source": [
    "### Global interpreter lock\n",
    "\n",
    "Only one thread can access the interpreter at a time due to GIL\n",
    "\n",
    "Python releases GIL \n",
    "\n",
    "- while a thread is waiting for IO\n",
    "- while numpy is doing an array operation: because numpy runs C in backend. \n",
    "\n",
    "More info on Python GIL - _https://realpython.com/python-gil/_"
   ]
  },
  {
   "cell_type": "code",
   "execution_count": null,
   "metadata": {},
   "outputs": [],
   "source": [
    "import math\n",
    "\n",
    "def f(x): #Doesnot releast GIL\n",
    "    print (x)\n",
    "    y = [1]*5000000\n",
    "    [math.exp(i) for i in y]\n",
    "    \n",
    "def g(x):   #Releases GIL\n",
    "    print (x)\n",
    "    y = np.ones(5000000)\n",
    "    np.exp(y)\n",
    "\n",
    "def do_work(q,func):\n",
    "    while True:\n",
    "        item = q.get()\n",
    "        \n",
    "        if item is not None:\n",
    "            func(item)\n",
    "            q.task_done()\n",
    "        else:\n",
    "            q.task_done()\n",
    "            break"
   ]
  },
  {
   "cell_type": "markdown",
   "metadata": {},
   "source": [
    "### serial f()"
   ]
  },
  {
   "cell_type": "code",
   "execution_count": null,
   "metadata": {
    "scrolled": true
   },
   "outputs": [],
   "source": [
    "start = time.time()\n",
    "\n",
    "for i in range(10):\n",
    "    f(i)\n",
    "\n",
    "print(f'Finished in {(time.time() - start):.4f} seconds')\n"
   ]
  },
  {
   "cell_type": "markdown",
   "metadata": {},
   "source": [
    "### threaded f()"
   ]
  },
  {
   "cell_type": "code",
   "execution_count": null,
   "metadata": {
    "scrolled": true
   },
   "outputs": [],
   "source": [
    "from queue import Queue\n",
    "start = time.time()\n",
    "\n",
    "q = Queue()\n",
    "num_threads = 4\n",
    "\n",
    "for i in range(num_threads):\n",
    "    worker = threading.Thread(target = do_work, args = (q,f)) # refer to q\n",
    "    worker.setDaemon(True) # this stop the threads when the program quits  \n",
    "    # > like with open(), will automatically stops\n",
    "    worker.start()         # start the threads\n",
    "\n",
    "# now we have started 10 threads:\n",
    "\n",
    "for i in range(10):\n",
    "    q.put(i)\n",
    "\n",
    "q.join()\n",
    "print(f'Finished in {(time.time() - start):.4f} seconds')\n"
   ]
  },
  {
   "cell_type": "markdown",
   "metadata": {},
   "source": [
    "### parallel f()"
   ]
  },
  {
   "cell_type": "code",
   "execution_count": null,
   "metadata": {
    "scrolled": true
   },
   "outputs": [],
   "source": [
    "start = time.time()\n",
    "\n",
    "pool = mp.Pool(4)\n",
    "\n",
    "results_mp = pool.map(f, [x for x in range(10)])\n",
    "\n",
    "pool.close()\n",
    "print(f'Finished in {(time.time() - start):.4f} seconds')\n"
   ]
  },
  {
   "cell_type": "code",
   "execution_count": null,
   "metadata": {},
   "outputs": [],
   "source": [
    "!python3 parallel_f.py"
   ]
  },
  {
   "cell_type": "markdown",
   "metadata": {},
   "source": [
    "### serial g()"
   ]
  },
  {
   "cell_type": "code",
   "execution_count": null,
   "metadata": {},
   "outputs": [],
   "source": [
    "start = time.time()\n",
    "\n",
    "for i in range(100):\n",
    "    g(i)\n",
    "\n",
    "print(f'Finished in {(time.time() - start):.4f} seconds')\n"
   ]
  },
  {
   "cell_type": "markdown",
   "metadata": {},
   "source": [
    "### threaded g()"
   ]
  },
  {
   "cell_type": "code",
   "execution_count": null,
   "metadata": {
    "scrolled": true
   },
   "outputs": [],
   "source": [
    "start = time.time()\n",
    "\n",
    "q = Queue()\n",
    "num_threads = 4\n",
    "\n",
    "for i in range(num_threads):\n",
    "    worker = threading.Thread(target = do_work, args = (q,g)) # refer to q\n",
    "    worker.setDaemon(True) # this stop the threads when the program quits  \n",
    "    worker.start()         # start the threads\n",
    "\n",
    "# now we have started 10 threads:\n",
    "\n",
    "for i in range(100):\n",
    "    q.put(i)\n",
    "\n",
    "q.join()\n",
    "print(f'Finished in {(time.time() - start):.4f} seconds')\n"
   ]
  }
 ],
 "metadata": {
  "kernelspec": {
   "display_name": "Python 3 (ipykernel)",
   "language": "python",
   "name": "python3"
  },
  "language_info": {
   "codemirror_mode": {
    "name": "ipython",
    "version": 3
   },
   "file_extension": ".py",
   "mimetype": "text/x-python",
   "name": "python",
   "nbconvert_exporter": "python",
   "pygments_lexer": "ipython3",
   "version": "3.8.16"
  }
 },
 "nbformat": 4,
 "nbformat_minor": 4
}
