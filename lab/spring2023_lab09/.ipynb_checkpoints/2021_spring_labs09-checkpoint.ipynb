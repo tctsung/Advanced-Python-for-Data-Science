{
 "cells": [
  {
   "cell_type": "markdown",
   "metadata": {},
   "source": [
    "## Lab 9: Concurrency "
   ]
  },
  {
   "cell_type": "code",
   "execution_count": null,
   "metadata": {},
   "outputs": [],
   "source": [
    "import time\n",
    "import threading\n",
    "\n",
    "def do_something():\n",
    "    print('Sleeping 1 second...')\n",
    "    time.sleep(1)\n",
    "    print('Done sleeping')"
   ]
  },
  {
   "cell_type": "code",
   "execution_count": null,
   "metadata": {},
   "outputs": [],
   "source": [
    "start = time.time()\n",
    "\n",
    "do_something()\n",
    "do_something()\n",
    "\n",
    "finish = time.time()\n",
    "\n",
    "print(f'Finished in {(finish - start):.1f} seconds')"
   ]
  },
  {
   "cell_type": "markdown",
   "metadata": {},
   "source": [
    "#### Sequential code\n",
    "\n",
    "<img   src=\"images/im1.png\" alt=\"Drawing\" style=\"width: 500px;\"/>\n"
   ]
  },
  {
   "cell_type": "markdown",
   "metadata": {},
   "source": [
    "#### Multi threaded code\n",
    "\n",
    "<img   src=\"images/im2.png\" alt=\"Drawing\" style=\"width: 500px;\"/>\n"
   ]
  },
  {
   "cell_type": "code",
   "execution_count": null,
   "metadata": {},
   "outputs": [],
   "source": [
    "start = time.time()\n",
    "\n",
    "t1 = threading.Thread(target = do_something)\n",
    "t2 = threading.Thread(target = do_something)\n",
    "\n",
    "t1.start()\n",
    "t2.start()\n",
    "\n",
    "#wait for the threads to finish\n",
    "t1.join()\n",
    "t2.join()\n",
    "\n",
    "finish = time.time()\n",
    "\n",
    "print(f'Finished in {(finish - start):.1f} seconds')"
   ]
  },
  {
   "cell_type": "code",
   "execution_count": null,
   "metadata": {},
   "outputs": [],
   "source": [
    "def do_something_specific(seconds):\n",
    "    print(f'Sleeping {seconds} seconds...')\n",
    "    time.sleep(seconds)\n",
    "    print('Done sleeping')"
   ]
  },
  {
   "cell_type": "code",
   "execution_count": null,
   "metadata": {},
   "outputs": [],
   "source": [
    "start = time.time()\n",
    "\n",
    "threads = []\n",
    "\n",
    "for _ in range(10):\n",
    "    t = threading.Thread(target = do_something_specific, args = [2])\n",
    "    t.start()\n",
    "    threads.append(t)\n",
    "\n",
    "for thread in threads:\n",
    "    thread.join()\n",
    "\n",
    "finish = time.time()\n",
    "\n",
    "print(f'Finished in {(finish - start):.1f} seconds')"
   ]
  },
  {
   "cell_type": "markdown",
   "metadata": {},
   "source": [
    "### Queue"
   ]
  },
  {
   "cell_type": "code",
   "execution_count": null,
   "metadata": {},
   "outputs": [],
   "source": [
    "from queue import Queue \n",
    "\n",
    "my_queue = Queue(maxsize=0) #FIFO queue\n",
    "my_queue.put(1)\n",
    "my_queue.put(2)\n",
    "my_queue.put(3)\n",
    "print(my_queue.get())\n"
   ]
  },
  {
   "cell_type": "code",
   "execution_count": null,
   "metadata": {},
   "outputs": [],
   "source": [
    "q = Queue()\n",
    "num_threads = 2"
   ]
  },
  {
   "cell_type": "code",
   "execution_count": null,
   "metadata": {},
   "outputs": [],
   "source": [
    "def worker():\n",
    "    while True:\n",
    "        print(f'Waiting for message, id = {threading.get_ident()}')\n",
    "        item = q.get()\n",
    "        print(f'Message received = {item}, id = {threading.get_ident()}')\n",
    "        \n",
    "        if item is not None:\n",
    "            do_work(item)\n",
    "            q.task_done()\n",
    "        else:\n",
    "            q.task_done()\n",
    "            break"
   ]
  },
  {
   "cell_type": "code",
   "execution_count": null,
   "metadata": {},
   "outputs": [],
   "source": [
    "def do_work(item):\n",
    "    print(f'Processing message .... {threading.get_ident()} -- {item}')\n",
    "    time.sleep(2)\n",
    "    print(f'Message processed .... {threading.get_ident()} -- {item}')"
   ]
  },
  {
   "cell_type": "code",
   "execution_count": null,
   "metadata": {},
   "outputs": [],
   "source": [
    "threads = []\n",
    "\n",
    "for _ in range(num_threads):\n",
    "    t = threading.Thread(target = worker)\n",
    "    t.start()\n",
    "    threads.append(t)"
   ]
  },
  {
   "cell_type": "code",
   "execution_count": null,
   "metadata": {},
   "outputs": [],
   "source": [
    "#Add items to queue\n",
    "for item in ['wuphf','dot','com']:\n",
    "    q.put(item)"
   ]
  },
  {
   "cell_type": "code",
   "execution_count": null,
   "metadata": {},
   "outputs": [],
   "source": [
    "#Print all running threads\n",
    "threading.enumerate()"
   ]
  },
  {
   "cell_type": "code",
   "execution_count": null,
   "metadata": {},
   "outputs": [],
   "source": [
    "#stop threads\n",
    "for _ in range(num_threads):\n",
    "    q.put(None)"
   ]
  },
  {
   "cell_type": "markdown",
   "metadata": {},
   "source": [
    "### Multiprocessing\n",
    "\n",
    "Tasks are executed on multiple processors / cpus"
   ]
  },
  {
   "cell_type": "code",
   "execution_count": null,
   "metadata": {},
   "outputs": [],
   "source": [
    "import multiprocessing as mp\n",
    "print(\"Number of processors: \", mp.cpu_count())"
   ]
  },
  {
   "cell_type": "markdown",
   "metadata": {},
   "source": [
    "### Example: Calculate e^x of elements of an array"
   ]
  },
  {
   "cell_type": "code",
   "execution_count": null,
   "metadata": {},
   "outputs": [],
   "source": [
    "import numpy as np\n",
    "arr = np.random.randint(0, 10, size=[5])\n",
    "data = arr.tolist()\n"
   ]
  },
  {
   "cell_type": "code",
   "execution_count": null,
   "metadata": {},
   "outputs": [],
   "source": [
    "def factorial_upto(n):\n",
    "    res = [1]\n",
    "    \n",
    "    for i in range(1, n + 1):\n",
    "        res.append(res[-1] * i)\n",
    "    return res\n",
    "\n",
    "def taylor_exp(x,n=1000):\n",
    "    \n",
    "    factorials = factorial_upto(n)\n",
    "    \n",
    "    res = 0\n",
    "    for i in range(n):\n",
    "        res += x**i / factorials[i]\n",
    "    \n",
    "    return res"
   ]
  },
  {
   "cell_type": "markdown",
   "metadata": {},
   "source": [
    "### Sequential solution"
   ]
  },
  {
   "cell_type": "code",
   "execution_count": null,
   "metadata": {},
   "outputs": [],
   "source": [
    "start = time.time()\n",
    "results = []\n",
    "for x in data:\n",
    "    results.append(taylor_exp(x))\n",
    "\n",
    "print(f'Finished in {(time.time() - start):.4f} seconds')\n"
   ]
  },
  {
   "cell_type": "markdown",
   "metadata": {},
   "source": [
    "### Parallelizing using Pool.map"
   ]
  },
  {
   "cell_type": "code",
   "execution_count": null,
   "metadata": {},
   "outputs": [],
   "source": [
    "start = time.time()\n",
    "\n",
    "pool = mp.Pool(mp.cpu_count())\n",
    "\n",
    "results_mp = pool.map(taylor_exp, [x for x in data])\n",
    "\n",
    "pool.close()\n",
    "print(f'Finished in {(time.time() - start):.4f} seconds')\n",
    "\n",
    "assert (results_mp == results)"
   ]
  },
  {
   "cell_type": "code",
   "execution_count": null,
   "metadata": {},
   "outputs": [],
   "source": [
    "!python3 pool.py"
   ]
  },
  {
   "cell_type": "markdown",
   "metadata": {},
   "source": [
    "### Parallelizing using Pool.starmap\n",
    "\n",
    "Lets us pass multiple arguments"
   ]
  },
  {
   "cell_type": "code",
   "execution_count": null,
   "metadata": {},
   "outputs": [],
   "source": [
    "start = time.time()\n",
    "\n",
    "pool = mp.Pool(mp.cpu_count())\n",
    "\n",
    "results_smp = pool.starmap(taylor_exp, [(x,1000) for x in data])\n",
    "\n",
    "pool.close()\n",
    "print(f'Finished in {(time.time() - start):.4f} seconds')\n",
    "\n",
    "assert (results_smp == results)"
   ]
  },
  {
   "cell_type": "code",
   "execution_count": null,
   "metadata": {},
   "outputs": [],
   "source": [
    "!python3 pool_star.py"
   ]
  },
  {
   "cell_type": "markdown",
   "metadata": {},
   "source": [
    "### Global interpreter lock\n",
    "\n",
    "Only one thread can access the interpreter at a time due to GIL\n",
    "\n",
    "Python releases GIL \n",
    "\n",
    "- while a thread is waiting for IO\n",
    "- while numpy is doing an array operation"
   ]
  },
  {
   "cell_type": "code",
   "execution_count": null,
   "metadata": {},
   "outputs": [],
   "source": [
    "import math\n",
    "\n",
    "def f(x): #Doesnot releast GIL\n",
    "    print (x)\n",
    "    y = [1]*5000000\n",
    "    [math.exp(i) for i in y]\n",
    "    \n",
    "def g(x):   #Releases GIL\n",
    "    print (x)\n",
    "    y = np.ones(5000000)\n",
    "    np.exp(y)\n",
    "\n",
    "def do_work(q,func):\n",
    "    while True:\n",
    "        item = q.get()\n",
    "        \n",
    "        if item is not None:\n",
    "            func(item)\n",
    "            q.task_done()\n",
    "        else:\n",
    "            q.task_done()\n",
    "            break"
   ]
  },
  {
   "cell_type": "markdown",
   "metadata": {},
   "source": [
    "### serial f()"
   ]
  },
  {
   "cell_type": "code",
   "execution_count": null,
   "metadata": {
    "scrolled": true
   },
   "outputs": [],
   "source": [
    "start = time.time()\n",
    "\n",
    "for i in range(10):\n",
    "    f(i)\n",
    "\n",
    "print(f'Finished in {(time.time() - start):.4f} seconds')\n"
   ]
  },
  {
   "cell_type": "markdown",
   "metadata": {},
   "source": [
    "### threaded f()"
   ]
  },
  {
   "cell_type": "code",
   "execution_count": null,
   "metadata": {
    "scrolled": true
   },
   "outputs": [],
   "source": [
    "start = time.time()\n",
    "\n",
    "q = Queue()\n",
    "num_threads = 4\n",
    "\n",
    "for i in range(num_threads):\n",
    "    worker = threading.Thread(target = do_work, args = (q,f)) # refer to q\n",
    "    worker.setDaemon(True) # this stop the threads when the program quits  \n",
    "    worker.start()         # start the threads\n",
    "\n",
    "# now we have started 10 threads:\n",
    "\n",
    "for i in range(10):\n",
    "    q.put(i)\n",
    "\n",
    "q.join()\n",
    "print(f'Finished in {(time.time() - start):.4f} seconds')\n"
   ]
  },
  {
   "cell_type": "markdown",
   "metadata": {},
   "source": [
    "### parallel f()"
   ]
  },
  {
   "cell_type": "code",
   "execution_count": null,
   "metadata": {
    "scrolled": true
   },
   "outputs": [],
   "source": [
    "start = time.time()\n",
    "\n",
    "pool = mp.Pool(4)\n",
    "\n",
    "results_mp = pool.map(f, [x for x in range(10)])\n",
    "\n",
    "pool.close()\n",
    "print(f'Finished in {(time.time() - start):.4f} seconds')\n"
   ]
  },
  {
   "cell_type": "code",
   "execution_count": null,
   "metadata": {},
   "outputs": [],
   "source": [
    "!python3 parallel_f.py"
   ]
  },
  {
   "cell_type": "markdown",
   "metadata": {},
   "source": [
    "### serial g()"
   ]
  },
  {
   "cell_type": "code",
   "execution_count": null,
   "metadata": {
    "scrolled": true
   },
   "outputs": [],
   "source": [
    "start = time.time()\n",
    "\n",
    "for i in range(100):\n",
    "    g(i)\n",
    "\n",
    "print(f'Finished in {(time.time() - start):.4f} seconds')\n"
   ]
  },
  {
   "cell_type": "markdown",
   "metadata": {},
   "source": [
    "### threaded g()"
   ]
  },
  {
   "cell_type": "code",
   "execution_count": null,
   "metadata": {
    "scrolled": true
   },
   "outputs": [],
   "source": [
    "start = time.time()\n",
    "\n",
    "q = Queue()\n",
    "num_threads = 4\n",
    "\n",
    "for i in range(num_threads):\n",
    "    worker = threading.Thread(target = do_work, args = (q,g)) # refer to q\n",
    "    worker.setDaemon(True) # this stop the threads when the program quits  \n",
    "    worker.start()         # start the threads\n",
    "\n",
    "# now we have started 10 threads:\n",
    "\n",
    "for i in range(100):\n",
    "    q.put(i)\n",
    "\n",
    "q.join()\n",
    "print(f'Finished in {(time.time() - start):.4f} seconds')\n"
   ]
  }
 ],
 "metadata": {
  "kernelspec": {
   "display_name": "Python 3",
   "language": "python",
   "name": "python3"
  },
  "language_info": {
   "codemirror_mode": {
    "name": "ipython",
    "version": 3
   },
   "file_extension": ".py",
   "mimetype": "text/x-python",
   "name": "python",
   "nbconvert_exporter": "python",
   "pygments_lexer": "ipython3",
   "version": "3.8.3"
  }
 },
 "nbformat": 4,
 "nbformat_minor": 4
}
