{
 "cells": [
  {
   "cell_type": "markdown",
   "metadata": {},
   "source": [
    "# DS-GA 1019\n",
    "\n",
    "# Lab 9: Concurrency \n",
    "## Mar. 30, 2023"
   ]
  },
  {
   "cell_type": "code",
   "execution_count": 1,
   "metadata": {},
   "outputs": [],
   "source": [
    "import time\n",
    "import threading\n",
    "\n",
    "def do_something():\n",
    "    print('Sleeping 1 second...')\n",
    "    time.sleep(1)    # wait\n",
    "    print('Done sleeping')"
   ]
  },
  {
   "cell_type": "code",
   "execution_count": 2,
   "metadata": {},
   "outputs": [
    {
     "name": "stdout",
     "output_type": "stream",
     "text": [
      "Sleeping 1 second...\n",
      "Done sleeping\n",
      "Sleeping 1 second...\n",
      "Done sleeping\n",
      "Finished in 2.0 seconds\n"
     ]
    }
   ],
   "source": [
    "start = time.time()\n",
    "\n",
    "do_something()\n",
    "do_something()\n",
    "\n",
    "finish = time.time()\n",
    "\n",
    "print(f'Finished in {(finish - start):.1f} seconds')"
   ]
  },
  {
   "cell_type": "markdown",
   "metadata": {},
   "source": [
    "#### Sequential code\n",
    "\n",
    "<img   src=\"images/im1.png\" alt=\"Drawing\" style=\"width: 500px;\"/>\n"
   ]
  },
  {
   "cell_type": "markdown",
   "metadata": {},
   "source": [
    "#### Multi threaded code\n",
    "\n",
    "<img   src=\"images/im2.png\" alt=\"Drawing\" style=\"width: 500px;\"/>\n"
   ]
  },
  {
   "cell_type": "code",
   "execution_count": 3,
   "metadata": {},
   "outputs": [
    {
     "name": "stdout",
     "output_type": "stream",
     "text": [
      "Sleeping 1 second...\n",
      "Sleeping 1 second...\n",
      "Done sleeping\n",
      "Done sleeping\n",
      "Finished in 1.0 seconds\n"
     ]
    }
   ],
   "source": [
    "start = time.time()\n",
    "\n",
    "t1 = threading.Thread(target = do_something)\n",
    "t2 = threading.Thread(target = do_something)\n",
    "\n",
    "t1.start()\n",
    "t2.start()\n",
    "\n",
    "#wait for the threads to finish\n",
    "t1.join()\n",
    "t2.join()\n",
    "\n",
    "finish = time.time()\n",
    "\n",
    "print(f'Finished in {(finish - start):.1f} seconds')"
   ]
  },
  {
   "cell_type": "code",
   "execution_count": 4,
   "metadata": {},
   "outputs": [],
   "source": [
    "def do_something_specific(seconds):\n",
    "    print(f'Sleeping {seconds} seconds...')\n",
    "    time.sleep(seconds)\n",
    "    print('Done sleeping')"
   ]
  },
  {
   "cell_type": "code",
   "execution_count": 5,
   "metadata": {},
   "outputs": [
    {
     "name": "stdout",
     "output_type": "stream",
     "text": [
      "Sleeping 2 seconds...\n",
      "Sleeping 2 seconds...\n",
      "Sleeping 2 seconds...\n",
      "Sleeping 2 seconds...\n",
      "Sleeping 2 seconds...\n",
      "Sleeping 2 seconds...\n",
      "Sleeping 2 seconds...\n",
      "Sleeping 2 seconds...\n",
      "Sleeping 2 seconds...\n",
      "Sleeping 2 seconds...\n",
      "Done sleeping\n",
      "Done sleeping\n",
      "Done sleeping\n",
      "Done sleeping\n",
      "Done sleeping\n",
      "Done sleeping\n",
      "Done sleeping\n",
      "Done sleeping\n",
      "Done sleeping\n",
      "Done sleeping\n",
      "Finished in 2.0 seconds\n"
     ]
    }
   ],
   "source": [
    "start = time.time()\n",
    "\n",
    "threads = []\n",
    "\n",
    "for _ in range(10):\n",
    "    t = threading.Thread(target = do_something_specific, args = [2])\n",
    "    t.start()\n",
    "    threads.append(t)\n",
    "\n",
    "for thread in threads:\n",
    "    thread.join()\n",
    "\n",
    "finish = time.time()\n",
    "\n",
    "print(f'Finished in {(finish - start):.1f} seconds')"
   ]
  },
  {
   "cell_type": "markdown",
   "metadata": {},
   "source": [
    "### Queue"
   ]
  },
  {
   "cell_type": "code",
   "execution_count": 6,
   "metadata": {},
   "outputs": [
    {
     "name": "stdout",
     "output_type": "stream",
     "text": [
      "1\n"
     ]
    }
   ],
   "source": [
    "from queue import Queue \n",
    "\n",
    "my_queue = Queue(maxsize=0) #FIFO queue\n",
    "my_queue.put(1)\n",
    "my_queue.put(2)\n",
    "my_queue.put(3)\n",
    "print(my_queue.get())\n"
   ]
  },
  {
   "cell_type": "code",
   "execution_count": 7,
   "metadata": {},
   "outputs": [],
   "source": [
    "q = Queue()\n",
    "num_threads = 2"
   ]
  },
  {
   "cell_type": "code",
   "execution_count": 8,
   "metadata": {},
   "outputs": [],
   "source": [
    "def worker():\n",
    "    while True:\n",
    "        print(f'Waiting for message, id = {threading.get_ident()}')\n",
    "        item = q.get()\n",
    "        print(f'Message received = {item}, id = {threading.get_ident()}')\n",
    "        \n",
    "        if item is not None:\n",
    "            do_work(item)\n",
    "            q.task_done()\n",
    "        else:\n",
    "            q.task_done()\n",
    "            break"
   ]
  },
  {
   "cell_type": "code",
   "execution_count": 9,
   "metadata": {},
   "outputs": [],
   "source": [
    "def do_work(item):\n",
    "    print(f'Processing message .... {threading.get_ident()} -- {item}')\n",
    "    time.sleep(2)\n",
    "    print(f'Message processed .... {threading.get_ident()} -- {item}')"
   ]
  },
  {
   "cell_type": "code",
   "execution_count": 10,
   "metadata": {},
   "outputs": [
    {
     "name": "stdout",
     "output_type": "stream",
     "text": [
      "Waiting for message, id = 140297447139072\n",
      "Waiting for message, id = 140297455531776\n"
     ]
    }
   ],
   "source": [
    "threads = []\n",
    "\n",
    "for _ in range(num_threads):\n",
    "    t = threading.Thread(target = worker)\n",
    "    t.start()\n",
    "    threads.append(t)"
   ]
  },
  {
   "cell_type": "code",
   "execution_count": 11,
   "metadata": {},
   "outputs": [
    {
     "name": "stdout",
     "output_type": "stream",
     "text": [
      "Message received = wuphf, id = 140297455531776\n",
      "Processing message .... 140297455531776 -- wuphf\n",
      "Message received = dot, id = 140297447139072\n",
      "Processing message .... 140297447139072 -- dot\n",
      "Message processed .... 140297447139072 -- dotMessage processed .... 140297455531776 -- wuphf\n",
      "Waiting for message, id = 140297455531776\n",
      "Message received = com, id = 140297455531776\n",
      "Processing message .... 140297455531776 -- com\n",
      "\n",
      "Waiting for message, id = 140297447139072\n",
      "Message processed .... 140297455531776 -- com\n",
      "Waiting for message, id = 140297455531776\n"
     ]
    }
   ],
   "source": [
    "#Add items to queue\n",
    "for item in ['wuphf','dot','com']:\n",
    "    q.put(item)"
   ]
  },
  {
   "cell_type": "code",
   "execution_count": 13,
   "metadata": {},
   "outputs": [
    {
     "data": {
      "text/plain": [
       "[<_MainThread(MainThread, started 140298756084352)>,\n",
       " <Thread(IOPub, started daemon 140298686830336)>,\n",
       " <Heartbeat(Heartbeat, started daemon 140298678437632)>,\n",
       " <Thread(Thread-2 (_watch_pipe_fd), started daemon 140298445379328)>,\n",
       " <Thread(Thread-3 (_watch_pipe_fd), started daemon 140298436986624)>,\n",
       " <ControlThread(Control, started daemon 140298428593920)>,\n",
       " <HistorySavingThread(IPythonHistorySavingThread, started 140298420201216)>,\n",
       " <Thread(Thread-16 (worker), started 140297447139072)>,\n",
       " <Thread(Thread-17 (worker), started 140297455531776)>]"
      ]
     },
     "execution_count": 13,
     "metadata": {},
     "output_type": "execute_result"
    }
   ],
   "source": [
    "#Print all running threads\n",
    "threading.enumerate()"
   ]
  },
  {
   "cell_type": "code",
   "execution_count": 14,
   "metadata": {},
   "outputs": [
    {
     "name": "stdout",
     "output_type": "stream",
     "text": [
      "Message received = None, id = 140297455531776\n",
      "Message received = None, id = 140297447139072\n"
     ]
    }
   ],
   "source": [
    "#stop threads\n",
    "for _ in range(num_threads):\n",
    "    q.put(None)"
   ]
  },
  {
   "cell_type": "markdown",
   "metadata": {},
   "source": [
    "### Multiprocessing\n",
    "\n",
    "Tasks are executed on multiple processors / cpus"
   ]
  },
  {
   "cell_type": "code",
   "execution_count": 15,
   "metadata": {},
   "outputs": [
    {
     "name": "stdout",
     "output_type": "stream",
     "text": [
      "Number of processors:  8\n"
     ]
    }
   ],
   "source": [
    "import multiprocessing as mp\n",
    "print(\"Number of processors: \", mp.cpu_count())"
   ]
  },
  {
   "cell_type": "markdown",
   "metadata": {},
   "source": [
    "### Example: Calculate e^x of elements of an array"
   ]
  },
  {
   "cell_type": "code",
   "execution_count": 16,
   "metadata": {},
   "outputs": [],
   "source": [
    "import numpy as np\n",
    "arr = np.random.randint(0, 10, size=[5000])\n",
    "data = arr.tolist()\n"
   ]
  },
  {
   "cell_type": "code",
   "execution_count": 17,
   "metadata": {},
   "outputs": [],
   "source": [
    "def factorial_upto(n):\n",
    "    res = [1]\n",
    "    \n",
    "    for i in range(1, n + 1):\n",
    "        res.append(res[-1] * i)\n",
    "    return res\n",
    "\n",
    "def taylor_exp(x,n=1000):\n",
    "    \n",
    "    factorials = factorial_upto(n)\n",
    "    \n",
    "    res = 0\n",
    "    for i in range(n):\n",
    "        res += x**i / factorials[i]\n",
    "    \n",
    "    return res"
   ]
  },
  {
   "cell_type": "markdown",
   "metadata": {},
   "source": [
    "### Sequential solution"
   ]
  },
  {
   "cell_type": "code",
   "execution_count": 18,
   "metadata": {},
   "outputs": [
    {
     "name": "stdout",
     "output_type": "stream",
     "text": [
      "Finished in 6.7690 seconds\n"
     ]
    }
   ],
   "source": [
    "start = time.time()\n",
    "results = []\n",
    "for x in data:\n",
    "    results.append(taylor_exp(x))\n",
    "\n",
    "print(f'Finished in {(time.time() - start):.4f} seconds')\n"
   ]
  },
  {
   "cell_type": "markdown",
   "metadata": {},
   "source": [
    "### Parallelizing using Pool.map"
   ]
  },
  {
   "cell_type": "code",
   "execution_count": 23,
   "metadata": {},
   "outputs": [
    {
     "name": "stdout",
     "output_type": "stream",
     "text": [
      "Finished in 1.7606 seconds\n"
     ]
    }
   ],
   "source": [
    "start = time.time()\n",
    "\n",
    "pool = mp.Pool(mp.cpu_count())\n",
    "\n",
    "results_mp = pool.map(taylor_exp, [x for x in data])\n",
    "\n",
    "pool.close()\n",
    "print(f'Finished in {(time.time() - start):.4f} seconds')\n",
    "\n",
    "assert (results_mp == results)"
   ]
  },
  {
   "cell_type": "code",
   "execution_count": 20,
   "metadata": {},
   "outputs": [
    {
     "name": "stdout",
     "output_type": "stream",
     "text": [
      "Finished in 1.5272 seconds\n"
     ]
    }
   ],
   "source": [
    "!python3 pool.py"
   ]
  },
  {
   "cell_type": "markdown",
   "metadata": {},
   "source": [
    "### Parallelizing using Pool.starmap\n",
    "\n",
    "Lets us pass multiple arguments"
   ]
  },
  {
   "cell_type": "code",
   "execution_count": 24,
   "metadata": {},
   "outputs": [
    {
     "name": "stdout",
     "output_type": "stream",
     "text": [
      "Finished in 1.6760 seconds\n"
     ]
    }
   ],
   "source": [
    "start = time.time()\n",
    "\n",
    "pool = mp.Pool(mp.cpu_count())\n",
    "\n",
    "results_smp = pool.starmap(taylor_exp, [(x,1000) for x in data])\n",
    "\n",
    "pool.close()\n",
    "print(f'Finished in {(time.time() - start):.4f} seconds')\n",
    "\n",
    "assert (results_smp == results)"
   ]
  },
  {
   "cell_type": "code",
   "execution_count": 25,
   "metadata": {},
   "outputs": [
    {
     "name": "stdout",
     "output_type": "stream",
     "text": [
      "Finished in 1.4978 seconds\n"
     ]
    }
   ],
   "source": [
    "!python3 pool_star.py"
   ]
  },
  {
   "cell_type": "markdown",
   "metadata": {},
   "source": [
    "### Global interpreter lock\n",
    "\n",
    "Only one thread can access the interpreter at a time due to GIL\n",
    "\n",
    "Python releases GIL \n",
    "\n",
    "- while a thread is waiting for IO\n",
    "- while numpy is doing an array operation\n",
    "\n",
    "More info on Python GIL - _https://realpython.com/python-gil/_"
   ]
  },
  {
   "cell_type": "code",
   "execution_count": 26,
   "metadata": {},
   "outputs": [],
   "source": [
    "import math\n",
    "\n",
    "def f(x): #Doesnot releast GIL\n",
    "    print (x)\n",
    "    y = [1]*5000000\n",
    "    [math.exp(i) for i in y]\n",
    "    \n",
    "def g(x):   #Releases GIL\n",
    "    print (x)\n",
    "    y = np.ones(5000000)\n",
    "    np.exp(y)\n",
    "\n",
    "def do_work(q,func):\n",
    "    while True:\n",
    "        item = q.get()\n",
    "        \n",
    "        if item is not None:\n",
    "            func(item)\n",
    "            q.task_done()\n",
    "        else:\n",
    "            q.task_done()\n",
    "            break"
   ]
  },
  {
   "cell_type": "markdown",
   "metadata": {},
   "source": [
    "### serial f()"
   ]
  },
  {
   "cell_type": "code",
   "execution_count": 27,
   "metadata": {
    "scrolled": true
   },
   "outputs": [
    {
     "name": "stdout",
     "output_type": "stream",
     "text": [
      "0\n",
      "1\n",
      "2\n",
      "3\n",
      "4\n",
      "5\n",
      "6\n",
      "7\n",
      "8\n",
      "9\n",
      "Finished in 10.2603 seconds\n"
     ]
    }
   ],
   "source": [
    "start = time.time()\n",
    "\n",
    "for i in range(10):\n",
    "    f(i)\n",
    "\n",
    "print(f'Finished in {(time.time() - start):.4f} seconds')\n"
   ]
  },
  {
   "cell_type": "markdown",
   "metadata": {},
   "source": [
    "### threaded f()"
   ]
  },
  {
   "cell_type": "code",
   "execution_count": 29,
   "metadata": {
    "scrolled": true
   },
   "outputs": [
    {
     "name": "stderr",
     "output_type": "stream",
     "text": [
      "/tmp/ipykernel_1287/96641382.py:8: DeprecationWarning: setDaemon() is deprecated, set the daemon attribute instead\n",
      "  worker.setDaemon(True) # this stop the threads when the program quits\n"
     ]
    },
    {
     "name": "stdout",
     "output_type": "stream",
     "text": [
      "0\n",
      "1\n",
      "2\n",
      "3\n",
      "4\n",
      "5\n",
      "6\n",
      "7\n",
      "8\n",
      "9\n",
      "Finished in 11.6809 seconds\n"
     ]
    }
   ],
   "source": [
    "start = time.time()\n",
    "\n",
    "q = Queue()\n",
    "num_threads = 4\n",
    "\n",
    "for i in range(num_threads):\n",
    "    worker = threading.Thread(target = do_work, args = (q,f)) # refer to q\n",
    "    worker.setDaemon(True) # this stop the threads when the program quits  \n",
    "    worker.start()         # start the threads\n",
    "\n",
    "# now we have started 10 threads:\n",
    "\n",
    "for i in range(10):\n",
    "    q.put(i)\n",
    "\n",
    "q.join()\n",
    "print(f'Finished in {(time.time() - start):.4f} seconds')\n"
   ]
  },
  {
   "cell_type": "markdown",
   "metadata": {},
   "source": [
    "### parallel f()"
   ]
  },
  {
   "cell_type": "code",
   "execution_count": 30,
   "metadata": {
    "scrolled": true
   },
   "outputs": [
    {
     "name": "stdout",
     "output_type": "stream",
     "text": [
      "1023\n",
      "\n",
      "\n",
      "\n",
      "4\n",
      "5\n",
      "6\n",
      "7\n",
      "8\n",
      "9\n",
      "Finished in 3.8591 seconds\n"
     ]
    }
   ],
   "source": [
    "start = time.time()\n",
    "\n",
    "pool = mp.Pool(4)\n",
    "\n",
    "results_mp = pool.map(f, [x for x in range(10)])\n",
    "\n",
    "pool.close()\n",
    "print(f'Finished in {(time.time() - start):.4f} seconds')\n"
   ]
  },
  {
   "cell_type": "code",
   "execution_count": 31,
   "metadata": {},
   "outputs": [
    {
     "name": "stdout",
     "output_type": "stream",
     "text": [
      "0\n",
      "1\n",
      "2\n",
      "3\n",
      "4\n",
      "5\n",
      "6\n",
      "7\n",
      "8\n",
      "9\n",
      "Finished in 3.6530 seconds\n"
     ]
    }
   ],
   "source": [
    "!python3 parallel_f.py"
   ]
  },
  {
   "cell_type": "markdown",
   "metadata": {},
   "source": [
    "### serial g()"
   ]
  },
  {
   "cell_type": "code",
   "execution_count": 32,
   "metadata": {
    "scrolled": true
   },
   "outputs": [
    {
     "name": "stdout",
     "output_type": "stream",
     "text": [
      "0\n",
      "1\n",
      "2\n",
      "3\n",
      "4\n",
      "5\n",
      "6\n",
      "7\n",
      "8\n",
      "9\n",
      "10\n",
      "11\n",
      "12\n",
      "13\n",
      "14\n",
      "15\n",
      "16\n",
      "17\n",
      "18\n",
      "19\n",
      "20\n",
      "21\n",
      "22\n",
      "23\n",
      "24\n",
      "25\n",
      "26\n",
      "27\n",
      "28\n",
      "29\n",
      "30\n",
      "31\n",
      "32\n",
      "33\n",
      "34\n",
      "35\n",
      "36\n",
      "37\n",
      "38\n",
      "39\n",
      "40\n",
      "41\n",
      "42\n",
      "43\n",
      "44\n",
      "45\n",
      "46\n",
      "47\n",
      "48\n",
      "49\n",
      "50\n",
      "51\n",
      "52\n",
      "53\n",
      "54\n",
      "55\n",
      "56\n",
      "57\n",
      "58\n",
      "59\n",
      "60\n",
      "61\n",
      "62\n",
      "63\n",
      "64\n",
      "65\n",
      "66\n",
      "67\n",
      "68\n",
      "69\n",
      "70\n",
      "71\n",
      "72\n",
      "73\n",
      "74\n",
      "75\n",
      "76\n",
      "77\n",
      "78\n",
      "79\n",
      "80\n",
      "81\n",
      "82\n",
      "83\n",
      "84\n",
      "85\n",
      "86\n",
      "87\n",
      "88\n",
      "89\n",
      "90\n",
      "91\n",
      "92\n",
      "93\n",
      "94\n",
      "95\n",
      "96\n",
      "97\n",
      "98\n",
      "99\n",
      "Finished in 2.5225 seconds\n"
     ]
    }
   ],
   "source": [
    "start = time.time()\n",
    "\n",
    "for i in range(100):\n",
    "    g(i)\n",
    "\n",
    "print(f'Finished in {(time.time() - start):.4f} seconds')\n"
   ]
  },
  {
   "cell_type": "markdown",
   "metadata": {},
   "source": [
    "### threaded g()"
   ]
  },
  {
   "cell_type": "code",
   "execution_count": 33,
   "metadata": {
    "scrolled": true
   },
   "outputs": [
    {
     "name": "stderr",
     "output_type": "stream",
     "text": [
      "/tmp/ipykernel_1287/942721258.py:8: DeprecationWarning: setDaemon() is deprecated, set the daemon attribute instead\n",
      "  worker.setDaemon(True) # this stop the threads when the program quits\n"
     ]
    },
    {
     "name": "stdout",
     "output_type": "stream",
     "text": [
      "0\n",
      "1\n",
      "2\n",
      "3\n",
      "4\n",
      "5\n",
      "6\n",
      "7\n",
      "8\n",
      "9\n",
      "10\n",
      "11\n",
      "12\n",
      "13\n",
      "14\n",
      "15\n",
      "16\n",
      "17\n",
      "18\n",
      "19\n",
      "20\n",
      "21\n",
      "22\n",
      "23\n",
      "24\n",
      "25\n",
      "26\n",
      "27\n",
      "28\n",
      "29\n",
      "30\n",
      "31\n",
      "32\n",
      "33\n",
      "34\n",
      "35\n",
      "36\n",
      "37\n",
      "38\n",
      "39\n",
      "40\n",
      "41\n",
      "42\n",
      "43\n",
      "44\n",
      "45\n",
      "46\n",
      "47\n",
      "48\n",
      "49\n",
      "50\n",
      "51\n",
      "52\n",
      "53\n",
      "54\n",
      "55\n",
      "56\n",
      "57\n",
      "58\n",
      "59\n",
      "60\n",
      "61\n",
      "62\n",
      "63\n",
      "64\n",
      "65\n",
      "66\n",
      "67\n",
      "68\n",
      "69\n",
      "70\n",
      "71\n",
      "72\n",
      "73\n",
      "74\n",
      "75\n",
      "76\n",
      "77\n",
      "78\n",
      "79\n",
      "80\n",
      "81\n",
      "82\n",
      "8384\n",
      "\n",
      "85\n",
      "86\n",
      "87\n",
      "88\n",
      "89\n",
      "90\n",
      "91\n",
      "92\n",
      "93\n",
      "94\n",
      "95\n",
      "96\n",
      "97\n",
      "98\n",
      "99\n",
      "Finished in 1.7848 seconds\n"
     ]
    }
   ],
   "source": [
    "start = time.time()\n",
    "\n",
    "q = Queue()\n",
    "num_threads = 4\n",
    "\n",
    "for i in range(num_threads):\n",
    "    worker = threading.Thread(target = do_work, args = (q,g)) # refer to q\n",
    "    worker.setDaemon(True) # this stop the threads when the program quits  \n",
    "    worker.start()         # start the threads\n",
    "\n",
    "# now we have started 10 threads:\n",
    "\n",
    "for i in range(100):\n",
    "    q.put(i)\n",
    "\n",
    "q.join()\n",
    "print(f'Finished in {(time.time() - start):.4f} seconds')\n"
   ]
  }
 ],
 "metadata": {
  "kernelspec": {
   "display_name": "Python 3 (ipykernel)",
   "language": "python",
   "name": "python3"
  },
  "language_info": {
   "codemirror_mode": {
    "name": "ipython",
    "version": 3
   },
   "file_extension": ".py",
   "mimetype": "text/x-python",
   "name": "python",
   "nbconvert_exporter": "python",
   "pygments_lexer": "ipython3",
   "version": "3.8.16"
  }
 },
 "nbformat": 4,
 "nbformat_minor": 4
}
