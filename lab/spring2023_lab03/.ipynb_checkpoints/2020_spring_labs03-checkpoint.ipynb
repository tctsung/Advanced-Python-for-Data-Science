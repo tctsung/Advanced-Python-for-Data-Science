{
 "cells": [
  {
   "cell_type": "markdown",
   "metadata": {
    "slideshow": {
     "slide_type": "slide"
    }
   },
   "source": [
    "## Lab3: Itertools\n"
   ]
  },
  {
   "cell_type": "markdown",
   "metadata": {},
   "source": [
    "### Iterators\n",
    "\n",
    "- Used to access elements from iterable on-demand\n",
    "- Identified using _iter()_ and _next()_ methods"
   ]
  },
  {
   "cell_type": "code",
   "execution_count": 1,
   "metadata": {},
   "outputs": [
    {
     "name": "stdout",
     "output_type": "stream",
     "text": [
      "1\n",
      "2\n",
      "3\n",
      "4\n",
      "5\n"
     ]
    }
   ],
   "source": [
    "import itertools\n",
    "\n",
    "iter_list = iter([1,2,3,4,5])\n",
    "\n",
    "while True:\n",
    "    try:\n",
    "        element = next(iter_list)\n",
    "        print(element)\n",
    "    except StopIteration:\n",
    "        break"
   ]
  },
  {
   "cell_type": "code",
   "execution_count": 2,
   "metadata": {},
   "outputs": [
    {
     "name": "stdout",
     "output_type": "stream",
     "text": [
      "a\n",
      "d\n",
      "v\n",
      "a\n",
      "n\n",
      "c\n",
      "e\n",
      "d\n",
      "_\n",
      "p\n",
      "y\n",
      "t\n",
      "h\n",
      "o\n",
      "n\n",
      "[]\n"
     ]
    }
   ],
   "source": [
    "iter_course = iter('advanced_python')\n",
    "\n",
    "for i in iter_course: \n",
    "    print(i)\n",
    "    \n",
    "print(list(iter_course))"
   ]
  },
  {
   "cell_type": "code",
   "execution_count": 3,
   "metadata": {},
   "outputs": [
    {
     "name": "stdout",
     "output_type": "stream",
     "text": [
      "a\n",
      "d\n",
      "['v', 'a', 'n', 'c', 'e', 'd', '_', 'p', 'y', 't', 'h', 'o', 'n']\n"
     ]
    }
   ],
   "source": [
    "iter_course = iter('advanced_python')\n",
    "\n",
    "print(next(iter_course))\n",
    "print(iter_course.__next__())\n",
    "\n",
    "print(list(iter_course))"
   ]
  },
  {
   "cell_type": "markdown",
   "metadata": {},
   "source": [
    "The idea comes from Generator. \n",
    "\n",
    "- A Generator is a function that uses the `yield` expression\n",
    "- Saves the state of the function.\n"
   ]
  },
  {
   "cell_type": "code",
   "execution_count": 4,
   "metadata": {
    "slideshow": {
     "slide_type": "slide"
    }
   },
   "outputs": [],
   "source": [
    "import itertools\n",
    "import operator\n",
    "# function version\n",
    "def fib(n):\n",
    "    a = b = 1\n",
    "    result = []\n",
    "    for i in range(n):\n",
    "        result.append(a)\n",
    "        a, b = b, a + b\n",
    "    return result\n",
    "\n",
    "# generator version\n",
    "def genfib(n):\n",
    "    a = b = 1\n",
    "    for i in range(n):\n",
    "        yield a\n",
    "        a, b = b, a + b\n"
   ]
  },
  {
   "cell_type": "code",
   "execution_count": 5,
   "metadata": {
    "slideshow": {
     "slide_type": "slide"
    }
   },
   "outputs": [
    {
     "name": "stdout",
     "output_type": "stream",
     "text": [
      "Fib-0 is 1\n",
      "Fib-1 is 1\n",
      "Fib-2 is 2\n",
      "Fib-3 is 3\n",
      "Fib-4 is 5\n",
      "Fib-5 is 8\n",
      "Fib-6 is 13\n",
      "Fib-7 is 21\n",
      "Fib-8 is 34\n",
      "Fib-9 is 55\n"
     ]
    }
   ],
   "source": [
    "g = genfib(10)\n",
    "assert list(genfib(10)) == fib(10)\n",
    "\n",
    "#calling next(gen) yields the next value in the iteration.\n",
    "print('Fib-0 is',next(g))\n",
    "for i,x in enumerate(g):\n",
    "    print(f'Fib-{i+1} is',x)\n"
   ]
  },
  {
   "cell_type": "code",
   "execution_count": 6,
   "metadata": {},
   "outputs": [
    {
     "name": "stdout",
     "output_type": "stream",
     "text": [
      "Func 1 k: 0\n",
      "Func 1 k: 1\n",
      "Func 1 k: 2\n",
      "Func 2 k: 1\n",
      "Func 2 k: 1\n",
      "Func 2 k: 2\n",
      "Func 3: a\n",
      "Func 3: d\n",
      "Func 3: v\n"
     ]
    }
   ],
   "source": [
    "def f1(n):\n",
    "    k = 0\n",
    "    for i in range(n):\n",
    "        yield i\n",
    "        print(\"Func 1 k:\", k)\n",
    "        k += 1\n",
    "        \n",
    "def f2(n):\n",
    "    k = 1\n",
    "    for i in range(n):\n",
    "        yield i\n",
    "        print(\"Func 2 k:\", k)\n",
    "        k *= (i+1)\n",
    "        \n",
    "def f3(n):\n",
    "    iter_course = iter('advanced_python')\n",
    "    for i in range(n):\n",
    "        try: \n",
    "            yield i\n",
    "            print(\"Func 3:\", next(iter_course))\n",
    "        except:\n",
    "            break\n",
    "            \n",
    "def combined(n):\n",
    "    yield from f1(n)\n",
    "    yield from f2(n)\n",
    "    yield from f3(n)\n",
    "    \n",
    "iter_combined = combined(3)\n",
    "\n",
    "for i in iter_combined:\n",
    "    pass"
   ]
  },
  {
   "cell_type": "markdown",
   "metadata": {
    "slideshow": {
     "slide_type": "slide"
    }
   },
   "source": [
    "### Infinite iterators:\n",
    "count(); cycle(); repeat()\n"
   ]
  },
  {
   "cell_type": "code",
   "execution_count": 7,
   "metadata": {},
   "outputs": [
    {
     "name": "stdout",
     "output_type": "stream",
     "text": [
      "0\n",
      "1\n",
      "2\n",
      "3\n"
     ]
    }
   ],
   "source": [
    "counter = itertools.count()\n",
    "print(next(counter))\n",
    "print(next(counter))\n",
    "print(next(counter))\n",
    "print(next(counter))"
   ]
  },
  {
   "cell_type": "code",
   "execution_count": 9,
   "metadata": {
    "slideshow": {
     "slide_type": "slide"
    }
   },
   "outputs": [
    {
     "name": "stdout",
     "output_type": "stream",
     "text": [
      "on\n",
      "off\n",
      "bet\n",
      "on\n",
      "off\n"
     ]
    }
   ],
   "source": [
    "cycle_counter = itertools.cycle(['on','off','bet'])\n",
    "print(next(cycle_counter))\n",
    "print(next(cycle_counter))\n",
    "print(next(cycle_counter))\n",
    "print(next(cycle_counter))\n",
    "print(next(cycle_counter))"
   ]
  },
  {
   "cell_type": "code",
   "execution_count": 11,
   "metadata": {
    "slideshow": {
     "slide_type": "slide"
    }
   },
   "outputs": [
    {
     "name": "stdout",
     "output_type": "stream",
     "text": [
      "2\n",
      "2\n",
      "2\n",
      "2\n"
     ]
    }
   ],
   "source": [
    "repeat_counter = itertools.repeat(2, times = 3)\n",
    "print(next(repeat_counter))\n",
    "print(next(repeat_counter))\n",
    "print(next(repeat_counter))\n",
    "\n",
    "#Throws an exception\n",
    "print(next(repeat_counter))"
   ]
  },
  {
   "cell_type": "code",
   "execution_count": 12,
   "metadata": {},
   "outputs": [
    {
     "name": "stdout",
     "output_type": "stream",
     "text": [
      "[0, 1, 4, 9, 16, 25, 36, 49, 64, 81]\n"
     ]
    }
   ],
   "source": [
    "## Example repeat() application\n",
    "\n",
    "pow_list = list(map(pow, range(10), itertools.repeat(2)))     # list of squares\n",
    "print(pow_list)"
   ]
  },
  {
   "cell_type": "markdown",
   "metadata": {
    "slideshow": {
     "slide_type": "slide"
    }
   },
   "source": [
    "### Iterators terminating on the shortest input sequence:\n",
    "accumulate(); chain(); chain.from_iterable(); compress(); dropwhile(); filterfalse(); \n",
    "groupby(); islice(); starmap(); takewhile(); tee(); zip_longest()\n"
   ]
  },
  {
   "cell_type": "markdown",
   "metadata": {
    "slideshow": {
     "slide_type": "slide"
    }
   },
   "source": [
    "### Starmap: similar to map, takes list of tuples as arguments\n"
   ]
  },
  {
   "cell_type": "code",
   "execution_count": 13,
   "metadata": {
    "slideshow": {
     "slide_type": "-"
    }
   },
   "outputs": [
    {
     "name": "stdout",
     "output_type": "stream",
     "text": [
      "[0, 1, 4, 9]\n"
     ]
    }
   ],
   "source": [
    "\n",
    "squares = itertools.starmap(pow, [(0,2), (1,2), (2,2), (3,2)])\n",
    "print(list(squares))"
   ]
  },
  {
   "cell_type": "markdown",
   "metadata": {
    "slideshow": {
     "slide_type": "slide"
    }
   },
   "source": [
    "### Chain: Loops through iterables"
   ]
  },
  {
   "cell_type": "code",
   "execution_count": 14,
   "metadata": {
    "slideshow": {
     "slide_type": "-"
    }
   },
   "outputs": [
    {
     "name": "stdout",
     "output_type": "stream",
     "text": [
      "a\n",
      "a\n",
      "a\n",
      "1\n",
      "2\n",
      "3\n",
      "4\n",
      "Michael\n",
      "Creed\n"
     ]
    }
   ],
   "source": [
    "letters = itertools.repeat('a',3)\n",
    "numbers = [1,2,3,4]\n",
    "names = ['Michael','Creed']\n",
    "\n",
    "combined = itertools.chain(letters, numbers, names)\n",
    "\n",
    "for item in combined:\n",
    "    print(item)"
   ]
  },
  {
   "cell_type": "code",
   "execution_count": 15,
   "metadata": {},
   "outputs": [
    {
     "name": "stdout",
     "output_type": "stream",
     "text": [
      "Func 1 k: 0\n",
      "Func 1 k: 1\n",
      "Func 1 k: 2\n",
      "Func 2 k: 1\n",
      "Func 2 k: 1\n",
      "Func 2 k: 2\n",
      "Func 3: a\n",
      "Func 3: d\n",
      "Func 3: v\n"
     ]
    }
   ],
   "source": [
    "func_chain = itertools.chain(f1(3), f2(3), f3(3))\n",
    "for item in func_chain:\n",
    "    pass"
   ]
  },
  {
   "cell_type": "markdown",
   "metadata": {
    "slideshow": {
     "slide_type": "slide"
    }
   },
   "source": [
    "### Accumulate: Accumulated result of binary functions\n"
   ]
  },
  {
   "cell_type": "code",
   "execution_count": 16,
   "metadata": {
    "slideshow": {
     "slide_type": "-"
    }
   },
   "outputs": [
    {
     "name": "stdout",
     "output_type": "stream",
     "text": [
      "[1, 3, 6, 10]\n",
      "[1, 2, 6, 24]\n"
     ]
    }
   ],
   "source": [
    "\n",
    "result_sum = itertools.accumulate(numbers) # running sum\n",
    "print(list(result_sum))\n",
    "\n",
    "result_prod = itertools.accumulate(numbers, operator.mul) # running product\n",
    "# result_prod = itertools.accumulate(numbers, lambda x,y: x*y)\n",
    "print(list(result_prod))"
   ]
  },
  {
   "cell_type": "markdown",
   "metadata": {
    "slideshow": {
     "slide_type": "slide"
    }
   },
   "source": [
    "### Combinatoric iterators:\n",
    "product(); permutations(); combinations(); combinations_with_replacement()"
   ]
  },
  {
   "cell_type": "code",
   "execution_count": 17,
   "metadata": {
    "slideshow": {
     "slide_type": "slide"
    }
   },
   "outputs": [
    {
     "name": "stdout",
     "output_type": "stream",
     "text": [
      "('a', 'b')\n",
      "('a', 'c')\n",
      "('a', 'd')\n",
      "('b', 'c')\n",
      "('b', 'd')\n",
      "('c', 'd')\n"
     ]
    }
   ],
   "source": [
    "#Combinations\n",
    "letters = ['a','b','c','d']\n",
    "result = itertools.combinations(letters,2)\n",
    "\n",
    "for item in result:\n",
    "    print(item)"
   ]
  },
  {
   "cell_type": "code",
   "execution_count": 18,
   "metadata": {
    "slideshow": {
     "slide_type": "slide"
    }
   },
   "outputs": [
    {
     "name": "stdout",
     "output_type": "stream",
     "text": [
      "('a', 'b')\n",
      "('a', 'c')\n",
      "('a', 'd')\n",
      "('b', 'a')\n",
      "('b', 'c')\n",
      "('b', 'd')\n",
      "('c', 'a')\n",
      "('c', 'b')\n",
      "('c', 'd')\n",
      "('d', 'a')\n",
      "('d', 'b')\n",
      "('d', 'c')\n"
     ]
    }
   ],
   "source": [
    "#Permutations\n",
    "result = itertools.permutations(letters,2)\n",
    "\n",
    "for item in result:\n",
    "    print(item)"
   ]
  },
  {
   "cell_type": "markdown",
   "metadata": {
    "slideshow": {
     "slide_type": "slide"
    }
   },
   "source": [
    "### Applications"
   ]
  },
  {
   "cell_type": "markdown",
   "metadata": {
    "slideshow": {
     "slide_type": "fragment"
    }
   },
   "source": [
    "### eg. 1: 0-1 Knapsack Problem\n",
    "\n",
    "Given a set of items, each with a weight and a value, determine the number of each item to include in a collection so that the total weight is less than or equal to a given limit and the total value is as large as possible."
   ]
  },
  {
   "cell_type": "code",
   "execution_count": 19,
   "metadata": {
    "slideshow": {
     "slide_type": "slide"
    }
   },
   "outputs": [],
   "source": [
    "val = [10, 40, 30, 50] \n",
    "wt = [5, 4, 6, 3] \n",
    "W = 10"
   ]
  },
  {
   "cell_type": "code",
   "execution_count": 20,
   "metadata": {
    "slideshow": {
     "slide_type": "slide"
    }
   },
   "outputs": [
    {
     "name": "stdout",
     "output_type": "stream",
     "text": [
      "Optimal value is 90\n"
     ]
    }
   ],
   "source": [
    "#Brute force: good approach?\n",
    "\n",
    "ans = 0\n",
    "for n in range(1,4):\n",
    "    for comb in itertools.combinations(zip(val, wt),n):\n",
    "        val_sum = sum([c[0] for c in comb])\n",
    "        wt_sum = sum([c[1] for c in comb])\n",
    "\n",
    "        if wt_sum <= W:\n",
    "            ans = max(ans, val_sum)\n",
    "\n",
    "print('Optimal value is',ans)"
   ]
  },
  {
   "cell_type": "code",
   "execution_count": null,
   "metadata": {
    "slideshow": {
     "slide_type": "slide"
    }
   },
   "outputs": [],
   "source": [
    "#Dynamic programming solution\n",
    "\n",
    "def knapSack(W, wt, val, n): \n",
    "    dp = [[0 for x in range(W+1)] for x in range(n+1)] \n",
    "  \n",
    "    # Build table K[][] in bottom up manner \n",
    "    for i in range(n+1): \n",
    "        for w in range(W+1): \n",
    "            \n",
    "            # Base Case \n",
    "            if i==0 or w==0: \n",
    "                dp[i][w] = 0\n",
    "            \n",
    "            # return the maximum of two cases: \n",
    "                # (1) ith item included \n",
    "                # (2) not included \n",
    "            elif wt[i-1] <= w: \n",
    "                dp[i][w] = max(val[i-1] + dp[i-1][w-wt[i-1]],  dp[i-1][w]) \n",
    "                \n",
    "            # If weight of the nth item is more than Knapsack capacity w\n",
    "            # then this item cannot be included in the optimal solution\n",
    "            else: \n",
    "                dp[i][w] = dp[i-1][w] \n",
    "  \n",
    "    return dp[n][W] \n",
    "\n",
    "print(knapSack(W,wt,val,len(wt)))"
   ]
  },
  {
   "cell_type": "markdown",
   "metadata": {
    "slideshow": {
     "slide_type": "slide"
    }
   },
   "source": [
    "### eg. 2: Generate powerset for a set of integers"
   ]
  },
  {
   "cell_type": "code",
   "execution_count": null,
   "metadata": {
    "slideshow": {
     "slide_type": "-"
    }
   },
   "outputs": [],
   "source": [
    "def powerset(lis):\n",
    "    \n",
    "    combinations = [itertools.combinations(lis, r) for r in range(len(lis)+1)]\n",
    "    \n",
    "    return list(itertools.chain(*combinations))\n",
    "\n",
    "print(powerset([1,2,3]))"
   ]
  },
  {
   "cell_type": "markdown",
   "metadata": {
    "slideshow": {
     "slide_type": "slide"
    }
   },
   "source": [
    "### eg. 3: Recursive functions - two ways of controlling loop"
   ]
  },
  {
   "cell_type": "markdown",
   "metadata": {
    "slideshow": {
     "slide_type": "slide"
    }
   },
   "source": [
    "### Using a for loop"
   ]
  },
  {
   "cell_type": "code",
   "execution_count": 21,
   "metadata": {
    "slideshow": {
     "slide_type": "fragment"
    }
   },
   "outputs": [],
   "source": [
    "import itertools as it\n",
    "def first_order(p, q, initial_val):\n",
    "    \"\"\"Return sequence defined by s(n) = p * s(n-1) + q.\"\"\"\n",
    "    return it.accumulate(it.repeat(initial_val), lambda s, _: p*s + q)"
   ]
  },
  {
   "cell_type": "code",
   "execution_count": 22,
   "metadata": {
    "slideshow": {
     "slide_type": "fragment"
    }
   },
   "outputs": [
    {
     "name": "stdout",
     "output_type": "stream",
     "text": [
      "[0, 2, 4, 6, 8]\n",
      "[1, 3, 5, 7, 9]\n"
     ]
    }
   ],
   "source": [
    "evens = first_order(p=1, q=2, initial_val=0)\n",
    "odds = first_order(p=1, q=2, initial_val=1)\n",
    "print(list(next(evens) for _ in range(5)))\n",
    "print(list(next(odds) for _ in range(5)))"
   ]
  },
  {
   "cell_type": "code",
   "execution_count": 23,
   "metadata": {
    "slideshow": {
     "slide_type": "slide"
    }
   },
   "outputs": [],
   "source": [
    "def second_order(p, q, r, initial_values):\n",
    "    \"\"\"Return sequence defined by s(n) = p * s(n-1) + q * s(n-2) + r.\"\"\"\n",
    "    intermediate = it.accumulate(it.repeat(initial_values),\n",
    "        lambda s, _: (s[1], p*s[1] + q*s[0] + r))\n",
    "    return map(lambda x: x[0], intermediate)"
   ]
  },
  {
   "cell_type": "code",
   "execution_count": 24,
   "metadata": {},
   "outputs": [
    {
     "data": {
      "text/plain": [
       "[0, 1, 1, 2, 3, 5, 8, 13, 21, 34]"
      ]
     },
     "execution_count": 24,
     "metadata": {},
     "output_type": "execute_result"
    }
   ],
   "source": [
    "fibs = second_order(p=1, q=1, r=0, initial_values=(0, 1))\n",
    "list(next(fibs) for _ in range(10))"
   ]
  },
  {
   "cell_type": "markdown",
   "metadata": {
    "slideshow": {
     "slide_type": "slide"
    }
   },
   "source": [
    "### Control in function definition"
   ]
  },
  {
   "cell_type": "code",
   "execution_count": null,
   "metadata": {
    "slideshow": {
     "slide_type": "slide"
    }
   },
   "outputs": [],
   "source": [
    "def first_order(p, q, initial_val, n):\n",
    "    \"\"\"Return sequence defined by s(n) = p * s(n-1) + q.\"\"\"\n",
    "    return it.accumulate(it.repeat(initial_val, n), lambda s, _: p*s + q)\n"
   ]
  },
  {
   "cell_type": "code",
   "execution_count": null,
   "metadata": {},
   "outputs": [],
   "source": [
    "def second_order(p, q, r, initial_values, n):\n",
    "    \"\"\"Return sequence defined by s(n) = p * s(n-1) + q * s(n-2) + r.\"\"\"\n",
    "    intermediate = it.accumulate(it.repeat(initial_values, n),\n",
    "        lambda s, _: (s[1], p*s[1] + q*s[0] + r))\n",
    "    return map(lambda x: x[0], intermediate)"
   ]
  },
  {
   "cell_type": "code",
   "execution_count": null,
   "metadata": {
    "slideshow": {
     "slide_type": "slide"
    }
   },
   "outputs": [],
   "source": [
    "evens = first_order(p=1, q=2, initial_val=0, n = 6)\n",
    "odds = first_order(p=1, q=2, initial_val=1, n = 5)\n",
    "fibs = second_order(p=1, q=1, r=0, initial_values=(0, 1), n = 8)"
   ]
  },
  {
   "cell_type": "code",
   "execution_count": null,
   "metadata": {},
   "outputs": [],
   "source": [
    "print(list(evens))\n",
    "print(list(odds))\n",
    "print(list(fibs))"
   ]
  },
  {
   "cell_type": "markdown",
   "metadata": {
    "slideshow": {
     "slide_type": "slide"
    }
   },
   "source": [
    "### eg 4: Given a list of values inputs and a positive integer n, write a function that splits inputs into groups of length n."
   ]
  },
  {
   "cell_type": "code",
   "execution_count": 25,
   "metadata": {
    "slideshow": {
     "slide_type": "slide"
    }
   },
   "outputs": [
    {
     "data": {
      "text/plain": [
       "[(1, 2), (3, 4), (5, 6), (7, 8), (9, 10)]"
      ]
     },
     "execution_count": 25,
     "metadata": {},
     "output_type": "execute_result"
    }
   ],
   "source": [
    "def naive_grouper(inputs, n):\n",
    "    num_groups = len(inputs) // n\n",
    "    return [tuple(inputs[i*n:(i+1)*n]) for i in range(num_groups)]\n",
    "\n",
    "nums = [1, 2, 3, 4, 5, 6, 7, 8, 9, 10]\n",
    "\n",
    "naive_grouper(nums, 2)"
   ]
  },
  {
   "cell_type": "code",
   "execution_count": 26,
   "metadata": {},
   "outputs": [
    {
     "name": "stdout",
     "output_type": "stream",
     "text": [
      "Memory Used(kB):  3697436.0\r\n",
      "\r\n",
      "real\t0m21.877s\r\n",
      "user\t0m14.305s\r\n",
      "sys\t0m4.386s\r\n"
     ]
    }
   ],
   "source": [
    "## Use the following on Linux machines\n",
    "!time -f \"Memory used (kB): %M\\nUser time (seconds): %U\" python3 naive_grouper.py\n",
    "\n",
    "## Use the following on Mac \n",
    "!time python3 naive_grouper.py"
   ]
  },
  {
   "cell_type": "code",
   "execution_count": 27,
   "metadata": {
    "slideshow": {
     "slide_type": "slide"
    }
   },
   "outputs": [],
   "source": [
    "def better_grouper(inputs, n):\n",
    "    iters = [iter(inputs)] * n\n",
    "    return zip(*iters)\n"
   ]
  },
  {
   "cell_type": "code",
   "execution_count": 28,
   "metadata": {
    "slideshow": {
     "slide_type": "-"
    }
   },
   "outputs": [
    {
     "data": {
      "text/plain": [
       "[4340297104, 4340297104]"
      ]
     },
     "execution_count": 28,
     "metadata": {},
     "output_type": "execute_result"
    }
   ],
   "source": [
    "nums = [1, 2, 3, 4, 5, 6, 7, 8, 9, 10]\n",
    "iters = [iter(nums)] * 2\n",
    "list(id(itr) for itr in iters)"
   ]
  },
  {
   "cell_type": "code",
   "execution_count": 29,
   "metadata": {
    "slideshow": {
     "slide_type": "slide"
    }
   },
   "outputs": [
    {
     "data": {
      "text/plain": [
       "[(1, 2), (3, 4), (5, 6), (7, 8), (9, 10)]"
      ]
     },
     "execution_count": 29,
     "metadata": {},
     "output_type": "execute_result"
    }
   ],
   "source": [
    "nums = [1, 2, 3, 4, 5, 6, 7, 8, 9, 10]\n",
    "\n",
    "list(better_grouper(nums, 2))"
   ]
  },
  {
   "cell_type": "code",
   "execution_count": 31,
   "metadata": {},
   "outputs": [
    {
     "name": "stdout",
     "output_type": "stream",
     "text": [
      "Memory Used(kB):  6652.0\r\n",
      "\r\n",
      "real\t0m2.648s\r\n",
      "user\t0m2.545s\r\n",
      "sys\t0m0.041s\r\n"
     ]
    }
   ],
   "source": [
    "## Use the following on Linux machines\n",
    "!time -f \"Memory used (kB): %M\\nUser time (seconds): %U\" python3 better_grouper.py\n",
    "\n",
    "## Use the following on Mac \n",
    "!time python3 better_grouper.py"
   ]
  },
  {
   "cell_type": "code",
   "execution_count": null,
   "metadata": {},
   "outputs": [],
   "source": []
  }
 ],
 "metadata": {
  "celltoolbar": "Slideshow",
  "kernelspec": {
   "display_name": "Python 3",
   "language": "python",
   "name": "python3"
  },
  "language_info": {
   "codemirror_mode": {
    "name": "ipython",
    "version": 3
   },
   "file_extension": ".py",
   "mimetype": "text/x-python",
   "name": "python",
   "nbconvert_exporter": "python",
   "pygments_lexer": "ipython3",
   "version": "3.8.3"
  }
 },
 "nbformat": 4,
 "nbformat_minor": 4
}
