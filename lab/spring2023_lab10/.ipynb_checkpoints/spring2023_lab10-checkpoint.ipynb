{
 "cells": [
  {
   "cell_type": "markdown",
   "metadata": {},
   "source": [
    "# DS-GA 1019\n",
    "\n",
    "# Lab 10: MPI \n",
    "## Apr. 6, 2023"
   ]
  },
  {
   "cell_type": "markdown",
   "metadata": {},
   "source": [
    "MPI is a standard specification of a message passing interface"
   ]
  },
  {
   "cell_type": "markdown",
   "metadata": {},
   "source": [
    "<img align=\"right\"  src=\"images/mpi1.png\" alt=\"Drawing\" style=\"width: 300px;\"/>\n",
    "\n",
    "<div style=\"text-align: left\"> \n",
    "\n",
    "    SPMD (Single program multiple data):\n",
    "    \n",
    "    - Execution starts in parallel\n",
    "    \n",
    "    - MPI implements SPMD\n",
    "    \n",
    "    -Static parallelism: #processes doesn't change\n",
    "    \n",
    "    \n",
    "    Fork / Join :\n",
    "    \n",
    "    - Execution starts serial\n",
    "    \n",
    "    - New processes created at fork\n",
    "    \n",
    "    - Used in pthreads\n",
    "    \n",
    "    - Dynamic parallelism\n",
    "    \n",
    "    \n",
    "</div>\n"
   ]
  },
  {
   "cell_type": "markdown",
   "metadata": {},
   "source": [
    "### MPI - system components\n",
    "\n",
    "<img  src=\"images/mpi2.png\" alt=\"Drawing\" style=\"width: 600px;\"/>\n",
    "\n",
    "- Node: A single host on network\n",
    "\n",
    "- Rank: Process executing the MPI program"
   ]
  },
  {
   "cell_type": "markdown",
   "metadata": {},
   "source": [
    "### MPI - programmer view\n",
    "\n",
    "<img  src=\"images/mpi3.png\" alt=\"Drawing\" style=\"width: 600px;\"/>\n",
    "\n",
    "- Nodes are transparent to the programmer, only ranks matter\n",
    "\n",
    "- Communicator: Group of ranks that can communicate\n",
    "\n",
    "- Comm world: Communicator that includes all the ranks"
   ]
  },
  {
   "cell_type": "markdown",
   "metadata": {},
   "source": [
    "^ Images source: HPML lectures"
   ]
  },
  {
   "cell_type": "markdown",
   "metadata": {
    "slideshow": {
     "slide_type": "subslide"
    }
   },
   "source": [
    "### Point-to-Point Communication\n",
    "\n",
    "- send() : Comm.send(self, obj, int dest, int tag=0)\n",
    "\n",
    "\n",
    "    - obj: object to be sent\n",
    "    - dest: Rank of destination process\n",
    "    - Tag: Used to differentiate among messages\n",
    "    \n",
    "    \n",
    "- recv() : Comm.recv(self, buf=None, int source=ANY_SOURCE, int tag=ANY_TAG, Status status=None)\n",
    "\n",
    "    \n",
    "    - buf: Optional buffer for the data to be received\n",
    "    - source: Rank of source process\n",
    "    - Tag: Used to differentiate among messages\n",
    "    - status: information about the data received, e.g. rank of source, tag"
   ]
  },
  {
   "cell_type": "markdown",
   "metadata": {},
   "source": [
    "- comm.Get_rank(): Returns the rank of current process\n",
    "\n",
    "- comm.Get_size(): Returns the total number of processes"
   ]
  },
  {
   "cell_type": "markdown",
   "metadata": {},
   "source": [
    "#### Python objects (pickle under the hood)\n",
    "\n",
    "Use lowercase send() and recv() for **python objects**"
   ]
  },
  {
   "cell_type": "code",
   "execution_count": 1,
   "metadata": {},
   "outputs": [
    {
     "name": "stdout",
     "output_type": "stream",
     "text": [
      "Overwriting ex1.py\n"
     ]
    }
   ],
   "source": [
    "%%writefile ex1.py\n",
    "\n",
    "from mpi4py import MPI\n",
    "\n",
    "comm = MPI.COMM_WORLD    # global communicator\n",
    "rank = comm.Get_rank()   # get the rank from global communicator\n",
    "\n",
    "if rank == 0:\n",
    "    data = {'a': 7, 'b': 3.14}         \n",
    "    comm.send(data, dest=1, tag=11)    # lower case: send pickle obj, no need specify dtype\n",
    "elif rank == 1:\n",
    "    data = comm.recv(source=0, tag=11) # from source with rank=0 \n",
    "    \n",
    "    print('Message {} received at rank{}:'.format(data, rank))"
   ]
  },
  {
   "cell_type": "code",
   "execution_count": 2,
   "metadata": {},
   "outputs": [
    {
     "name": "stdout",
     "output_type": "stream",
     "text": [
      "Message {'a': 7, 'b': 3.14} received at rank1:\n"
     ]
    }
   ],
   "source": [
    "!mpiexec -n 2 python ex1.py"
   ]
  },
  {
   "cell_type": "markdown",
   "metadata": {},
   "source": [
    "#### Numpy arrays\n",
    "\n",
    "Use uppercase Send() and Recv()\n",
    "\n",
    "Buffer argument must be specified as [data, TYPE (MPI.DOUBLE)]"
   ]
  },
  {
   "cell_type": "code",
   "execution_count": 3,
   "metadata": {},
   "outputs": [
    {
     "name": "stdout",
     "output_type": "stream",
     "text": [
      "Writing ex2.py\n"
     ]
    }
   ],
   "source": [
    "%%writefile ex2.py\n",
    "\n",
    "from mpi4py import MPI\n",
    "import numpy\n",
    "\n",
    "comm = MPI.COMM_WORLD\n",
    "rank = comm.Get_rank()\n",
    "\n",
    "# passing MPI datatypes explicitly\n",
    "if rank == 0:\n",
    "    data = numpy.arange(1000, dtype='i')\n",
    "    comm.Send([data, MPI.INT], dest=1, tag=77)     # upper case: send with pre-specify dtype\n",
    "elif rank == 1:\n",
    "    data = numpy.empty(1000, dtype='i')\n",
    "    comm.Recv([data, MPI.INT], source=0, tag=77)\n",
    "    \n",
    "    print('Message {} received at rank{}:'.format(data, rank))\n",
    "\n",
    "# automatic MPI datatype discovery\n",
    "if rank == 0:\n",
    "    data = numpy.arange(100, dtype=numpy.float64)\n",
    "    comm.Send(data, dest=1, tag=13)\n",
    "elif rank == 1:\n",
    "    data = numpy.empty(100, dtype=numpy.float64)\n",
    "    comm.Recv(data, source=0, tag=13)\n",
    "    \n",
    "    print('Message {} received at rank{}:'.format(data, rank))"
   ]
  },
  {
   "cell_type": "code",
   "execution_count": 4,
   "metadata": {
    "collapsed": true
   },
   "outputs": [
    {
     "name": "stdout",
     "output_type": "stream",
     "text": [
      "Message [  0   1   2   3   4   5   6   7   8   9  10  11  12  13  14  15  16  17\n",
      "  18  19  20  21  22  23  24  25  26  27  28  29  30  31  32  33  34  35\n",
      "  36  37  38  39  40  41  42  43  44  45  46  47  48  49  50  51  52  53\n",
      "  54  55  56  57  58  59  60  61  62  63  64  65  66  67  68  69  70  71\n",
      "  72  73  74  75  76  77  78  79  80  81  82  83  84  85  86  87  88  89\n",
      "  90  91  92  93  94  95  96  97  98  99 100 101 102 103 104 105 106 107\n",
      " 108 109 110 111 112 113 114 115 116 117 118 119 120 121 122 123 124 125\n",
      " 126 127 128 129 130 131 132 133 134 135 136 137 138 139 140 141 142 143\n",
      " 144 145 146 147 148 149 150 151 152 153 154 155 156 157 158 159 160 161\n",
      " 162 163 164 165 166 167 168 169 170 171 172 173 174 175 176 177 178 179\n",
      " 180 181 182 183 184 185 186 187 188 189 190 191 192 193 194 195 196 197\n",
      " 198 199 200 201 202 203 204 205 206 207 208 209 210 211 212 213 214 215\n",
      " 216 217 218 219 220 221 222 223 224 225 226 227 228 229 230 231 232 233\n",
      " 234 235 236 237 238 239 240 241 242 243 244 245 246 247 248 249 250 251\n",
      " 252 253 254 255 256 257 258 259 260 261 262 263 264 265 266 267 268 269\n",
      " 270 271 272 273 274 275 276 277 278 279 280 281 282 283 284 285 286 287\n",
      " 288 289 290 291 292 293 294 295 296 297 298 299 300 301 302 303 304 305\n",
      " 306 307 308 309 310 311 312 313 314 315 316 317 318 319 320 321 322 323\n",
      " 324 325 326 327 328 329 330 331 332 333 334 335 336 337 338 339 340 341\n",
      " 342 343 344 345 346 347 348 349 350 351 352 353 354 355 356 357 358 359\n",
      " 360 361 362 363 364 365 366 367 368 369 370 371 372 373 374 375 376 377\n",
      " 378 379 380 381 382 383 384 385 386 387 388 389 390 391 392 393 394 395\n",
      " 396 397 398 399 400 401 402 403 404 405 406 407 408 409 410 411 412 413\n",
      " 414 415 416 417 418 419 420 421 422 423 424 425 426 427 428 429 430 431\n",
      " 432 433 434 435 436 437 438 439 440 441 442 443 444 445 446 447 448 449\n",
      " 450 451 452 453 454 455 456 457 458 459 460 461 462 463 464 465 466 467\n",
      " 468 469 470 471 472 473 474 475 476 477 478 479 480 481 482 483 484 485\n",
      " 486 487 488 489 490 491 492 493 494 495 496 497 498 499 500 501 502 503\n",
      " 504 505 506 507 508 509 510 511 512 513 514 515 516 517 518 519 520 521\n",
      " 522 523 524 525 526 527 528 529 530 531 532 533 534 535 536 537 538 539\n",
      " 540 541 542 543 544 545 546 547 548 549 550 551 552 553 554 555 556 557\n",
      " 558 559 560 561 562 563 564 565 566 567 568 569 570 571 572 573 574 575\n",
      " 576 577 578 579 580 581 582 583 584 585 586 587 588 589 590 591 592 593\n",
      " 594 595 596 597 598 599 600 601 602 603 604 605 606 607 608 609 610 611\n",
      " 612 613 614 615 616 617 618 619 620 621 622 623 624 625 626 627 628 629\n",
      " 630 631 632 633 634 635 636 637 638 639 640 641 642 643 644 645 646 647\n",
      " 648 649 650 651 652 653 654 655 656 657 658 659 660 661 662 663 664 665\n",
      " 666 667 668 669 670 671 672 673 674 675 676 677 678 679 680 681 682 683\n",
      " 684 685 686 687 688 689 690 691 692 693 694 695 696 697 698 699 700 701\n",
      " 702 703 704 705 706 707 708 709 710 711 712 713 714 715 716 717 718 719\n",
      " 720 721 722 723 724 725 726 727 728 729 730 731 732 733 734 735 736 737\n",
      " 738 739 740 741 742 743 744 745 746 747 748 749 750 751 752 753 754 755\n",
      " 756 757 758 759 760 761 762 763 764 765 766 767 768 769 770 771 772 773\n",
      " 774 775 776 777 778 779 780 781 782 783 784 785 786 787 788 789 790 791\n",
      " 792 793 794 795 796 797 798 799 800 801 802 803 804 805 806 807 808 809\n",
      " 810 811 812 813 814 815 816 817 818 819 820 821 822 823 824 825 826 827\n",
      " 828 829 830 831 832 833 834 835 836 837 838 839 840 841 842 843 844 845\n",
      " 846 847 848 849 850 851 852 853 854 855 856 857 858 859 860 861 862 863\n",
      " 864 865 866 867 868 869 870 871 872 873 874 875 876 877 878 879 880 881\n",
      " 882 883 884 885 886 887 888 889 890 891 892 893 894 895 896 897 898 899\n",
      " 900 901 902 903 904 905 906 907 908 909 910 911 912 913 914 915 916 917\n",
      " 918 919 920 921 922 923 924 925 926 927 928 929 930 931 932 933 934 935\n",
      " 936 937 938 939 940 941 942 943 944 945 946 947 948 949 950 951 952 953\n",
      " 954 955 956 957 958 959 960 961 962 963 964 965 966 967 968 969 970 971\n",
      " 972 973 974 975 976 977 978 979 980 981 982 983 984 985 986 987 988 989\n",
      " 990 991 992 993 994 995 996 997 998 999] received at rank1:\n",
      "Message [ 0.  1.  2.  3.  4.  5.  6.  7.  8.  9. 10. 11. 12. 13. 14. 15. 16. 17.\n",
      " 18. 19. 20. 21. 22. 23. 24. 25. 26. 27. 28. 29. 30. 31. 32. 33. 34. 35.\n",
      " 36. 37. 38. 39. 40. 41. 42. 43. 44. 45. 46. 47. 48. 49. 50. 51. 52. 53.\n",
      " 54. 55. 56. 57. 58. 59. 60. 61. 62. 63. 64. 65. 66. 67. 68. 69. 70. 71.\n",
      " 72. 73. 74. 75. 76. 77. 78. 79. 80. 81. 82. 83. 84. 85. 86. 87. 88. 89.\n",
      " 90. 91. 92. 93. 94. 95. 96. 97. 98. 99.] received at rank1:\n"
     ]
    }
   ],
   "source": [
    "!mpiexec -n 2 python ex2.py"
   ]
  },
  {
   "cell_type": "code",
   "execution_count": 2,
   "metadata": {},
   "outputs": [
    {
     "name": "stdout",
     "output_type": "stream",
     "text": [
      "Overwriting ex3.py\n"
     ]
    }
   ],
   "source": [
    "%%writefile ex3.py\n",
    "\n",
    "from mpi4py import MPI\n",
    "\n",
    "comm = MPI.COMM_WORLD\n",
    "\n",
    "my_rank = comm.Get_rank()\n",
    "p = comm.Get_size()        # total number of process = value from arg -n\n",
    "\n",
    "if my_rank != 0:\n",
    "    message = 'Hello from the other rank {}'.format(my_rank)\n",
    "    comm.send(message, dest = 0)\n",
    "\n",
    "else:\n",
    "    for pid in range(1,p):\n",
    "        message = comm.recv(source = pid)\n",
    "        print('Process {} receives message: {}'.format(my_rank, message))"
   ]
  },
  {
   "cell_type": "code",
   "execution_count": 3,
   "metadata": {},
   "outputs": [
    {
     "name": "stdout",
     "output_type": "stream",
     "text": [
      "Process 0 receives message: Hello from the other rank 1\r\n",
      "Process 0 receives message: Hello from the other rank 2\r\n",
      "Process 0 receives message: Hello from the other rank 3\r\n"
     ]
    }
   ],
   "source": [
    "!mpiexec -n 4 python ex3.py"
   ]
  },
  {
   "cell_type": "markdown",
   "metadata": {},
   "source": [
    "### Non-blocking communication:\n",
    "\n",
    "Isend(), Irecv() are non blocking:\n",
    "    \n",
    "    Process can continue execution and wait later"
   ]
  },
  {
   "cell_type": "code",
   "execution_count": 7,
   "metadata": {},
   "outputs": [
    {
     "name": "stdout",
     "output_type": "stream",
     "text": [
      "Writing ex4.py\n"
     ]
    }
   ],
   "source": [
    "%%writefile ex4.py\n",
    "\n",
    "from mpi4py import MPI\n",
    "import time\n",
    "\n",
    "comm = MPI.COMM_WORLD\n",
    "rank = comm.Get_rank()\n",
    "\n",
    "if rank == 0:\n",
    "    data = {'a': 7, 'b': 3.14}\n",
    "    req = comm.isend(data, dest=1, tag=11)\n",
    "    req.wait()\n",
    "    print('Process {} sent {}'.format(rank, data))\n",
    "    \n",
    "elif rank == 1:\n",
    "    req = comm.irecv(source=0, tag=11)\n",
    "    # do something\n",
    "    time.sleep(2)\n",
    "    \n",
    "    data = req.wait() # wait until receive\n",
    "    print('Process {} received {}'.format(rank, data))\n"
   ]
  },
  {
   "cell_type": "code",
   "execution_count": 8,
   "metadata": {},
   "outputs": [
    {
     "name": "stdout",
     "output_type": "stream",
     "text": [
      "Process 0 sent {'a': 7, 'b': 3.14}\n",
      "Process 1 received {'a': 7, 'b': 3.14}\n"
     ]
    }
   ],
   "source": [
    "!mpiexec -n 2 python ex4.py"
   ]
  },
  {
   "cell_type": "markdown",
   "metadata": {},
   "source": [
    "### Performance gain"
   ]
  },
  {
   "cell_type": "code",
   "execution_count": 4,
   "metadata": {},
   "outputs": [
    {
     "name": "stdout",
     "output_type": "stream",
     "text": [
      "Overwriting ex5.py\n"
     ]
    }
   ],
   "source": [
    "%%writefile ex5.py\n",
    "\n",
    "from mpi4py import MPI\n",
    "import timeit\n",
    "\n",
    "comm = MPI.COMM_WORLD\n",
    "rank = comm.Get_rank()\n",
    "\n",
    "N = 10000000\n",
    "\n",
    "def parSum():\n",
    "    if rank == 0: \n",
    "        s = sum(range(N//2))\n",
    "        comm.send(s,dest=2)\n",
    "        \n",
    "    elif rank == 1:\n",
    "        s = sum(range(N//2+1,N))\n",
    "        comm.send(s,dest=2)\n",
    "        \n",
    "    elif rank == 2:\n",
    "        s1 = comm.recv(source=0)\n",
    "        s2 = comm.recv(source=1)\n",
    "        print (s1+s2)\n",
    "\n",
    "\n",
    "def serSum():\n",
    "    s = sum(range(N))\n",
    "\n",
    "if rank == 0:\n",
    "    \n",
    "    tp = timeit.Timer(\"parSum()\",\"from __main__ import parSum\")\n",
    "    print ('Parallel time: {:.4f} sec'.format(tp.timeit(number=10))) \n",
    "\n",
    "    ts = timeit.Timer(\"serSum()\",\"from __main__ import serSum\")\n",
    "    print ('Serial time: {:.4f} sec'.format(ts.timeit(number=10))) \n",
    "\n"
   ]
  },
  {
   "cell_type": "code",
   "execution_count": 5,
   "metadata": {},
   "outputs": [
    {
     "name": "stdout",
     "output_type": "stream",
     "text": [
      "Parallel time: 0.8648 sec\r\n",
      "Serial time: 1.7282 sec\r\n"
     ]
    }
   ],
   "source": [
    "!mpiexec -n 3 python ex5.py"
   ]
  }
 ],
 "metadata": {
  "kernelspec": {
   "display_name": "Python 3 (ipykernel)",
   "language": "python",
   "name": "python3"
  },
  "language_info": {
   "codemirror_mode": {
    "name": "ipython",
    "version": 3
   },
   "file_extension": ".py",
   "mimetype": "text/x-python",
   "name": "python",
   "nbconvert_exporter": "python",
   "pygments_lexer": "ipython3",
   "version": "3.8.16"
  },
  "vscode": {
   "interpreter": {
    "hash": "3ab5cc24b369747f155f8732b50eb1f1fee0827fe4315773c0d7959480f3b899"
   }
  }
 },
 "nbformat": 4,
 "nbformat_minor": 4
}
