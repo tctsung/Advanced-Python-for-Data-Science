{
 "cells": [
  {
   "cell_type": "markdown",
   "metadata": {},
   "source": [
    "# DS-GA 1019\n",
    "\n",
    "# Lab 11: Collectives \n",
    "## Apr. 13, 2023"
   ]
  },
  {
   "cell_type": "markdown",
   "metadata": {},
   "source": [
    "### Collectives\n",
    "Communication patterns that involve data exchange across multiple ranks."
   ]
  },
  {
   "cell_type": "markdown",
   "metadata": {},
   "source": [
    "### Broadcast \n",
    "\n",
    "Root rank sends the same single message to multiple receivers.\n",
    "\n",
    "- actually it's not sending one info to everyone at once. It's time consuming & one node has bottleneck to send. It's actually more like a tree sequential process\n",
    "\n",
    "<img   src=\"images/im1.png\" style=\"width: 500px;\"/>\n",
    "\n",
    "\n"
   ]
  },
  {
   "cell_type": "markdown",
   "metadata": {},
   "source": [
    "Naive implementation: 7 time steps needed\n",
    "\n",
    "<img   src=\"images/im3.png\" style=\"width: 500px;\"/>\n"
   ]
  },
  {
   "cell_type": "markdown",
   "metadata": {},
   "source": [
    "Parallel implementation: 3 time steps needed\n",
    "\n",
    "<img   src=\"images/im4.png\" style=\"width: 500px;\"/>\n",
    "\n",
    "More info on implementaion of MPI Broadcast - https://mpitutorial.com/tutorials/mpi-broadcast-and-collective-communication/#broadcasting-with-mpi_send-and-mpi_recv\n"
   ]
  },
  {
   "cell_type": "markdown",
   "metadata": {},
   "source": [
    "### Scatter \n",
    "\n",
    "Root rank sends a different message to each receiver.\n",
    "\n",
    "<img   src=\"images/im2.png\" style=\"width: 500px;\"/>\n"
   ]
  },
  {
   "cell_type": "markdown",
   "metadata": {},
   "source": [
    "### Gather \n",
    "\n",
    "Root rank sends a different message to each receiver.\n",
    "\n",
    "<img   src=\"images/im5.png\" style=\"width: 500px;\"/>\n",
    "\n",
    "**All gather**: One gather for each rank\n",
    "\n",
    "<img   src=\"images/im6.png\" style=\"width: 500px;\"/>\n"
   ]
  },
  {
   "cell_type": "markdown",
   "metadata": {},
   "source": [
    "### Average with gather and scatter\n",
    "\n",
    "Compute the average of first 100 whole numbers"
   ]
  },
  {
   "cell_type": "code",
   "execution_count": 14,
   "metadata": {},
   "outputs": [
    {
     "name": "stdout",
     "output_type": "stream",
     "text": [
      "Overwriting avg.py\n"
     ]
    }
   ],
   "source": [
    "%%writefile avg.py\n",
    "\n",
    "from mpi4py import MPI\n",
    "import numpy as np\n",
    "\n",
    "comm = MPI.COMM_WORLD\n",
    "\n",
    "my_rank = comm.Get_rank()\n",
    "p = comm.Get_size()\n",
    "\n",
    "n = 100\n",
    "\n",
    "if my_rank == 0:\n",
    "    data = np.arange(n,dtype='f')       #shape: (100)\n",
    "    data = data.reshape(p, int(n/p))    #shape: (4,25), each process gets 25\n",
    "    \n",
    "else:\n",
    "    data = None\n",
    "\n",
    "recvbuf = np.empty(int(n/p),dtype='f')\n",
    "\n",
    "#Scatter the numbers to all processes\n",
    "comm.Scatter(data,recvbuf, root = 0)    \n",
    "# why can't we do Scatter for rank 0 only?\n",
    "# > because other need to node they are operating Scatter, \n",
    "# root=0 is making sure only data from rank=0 is doing operation\n",
    "\n",
    "\n",
    "\n",
    "#Compute the average of subset\n",
    "sub_avg = np.mean(recvbuf)             \n",
    "\n",
    "print('Process {}, sub array average is {}'.format(my_rank,sub_avg))\n",
    "\n",
    "sub_avgs = None\n",
    "\n",
    "if my_rank == 0:\n",
    "    sub_avgs = np.empty(p,dtype='f')\n",
    "\n",
    "#Gather the partial averages down to the root process\n",
    "#Comm.Gather(sendbuf, recvbuf, root=0)\n",
    "comm.Gather(sub_avg, sub_avgs, root=0)\n",
    "    \n",
    "#Compute the total average of all numbers\n",
    "if my_rank == 0:\n",
    "    avg = np.mean(sub_avgs)\n",
    "    print('Average is',avg)\n"
   ]
  },
  {
   "cell_type": "code",
   "execution_count": 15,
   "metadata": {},
   "outputs": [
    {
     "name": "stdout",
     "output_type": "stream",
     "text": [
      "Process 1, sub array average is 0.0\r\n",
      "Process 2, sub array average is 0.0\r\n",
      "Process 3, sub array average is 0.0\r\n",
      "Process 0, sub array average is 12.0\r\n",
      "Average is 3.0\r\n"
     ]
    }
   ],
   "source": [
    "!mpiexec -n 4 python avg.py"
   ]
  },
  {
   "cell_type": "markdown",
   "metadata": {},
   "source": [
    "### Reduce \n",
    "\n",
    "Reduces a set of numbers into a smaller set of numbers via a function\n",
    "\n",
    "<img   src=\"images/im7.png\" style=\"width: 500px;\"/>\n",
    "\n",
    "**All reduce**: Reduce + each rank obtains the result\n",
    "\n",
    "<img   src=\"images/im8.png\" style=\"width: 500px;\"/>\n"
   ]
  },
  {
   "cell_type": "markdown",
   "metadata": {},
   "source": [
    "### StdDev with All reduce\n",
    "\n",
    "Using all reduce to compute the standard deviation of a set of numbers"
   ]
  },
  {
   "cell_type": "code",
   "execution_count": 5,
   "metadata": {},
   "outputs": [
    {
     "data": {
      "text/plain": [
       "(25,)"
      ]
     },
     "execution_count": 5,
     "metadata": {},
     "output_type": "execute_result"
    }
   ],
   "source": [
    "import numpy as np\n",
    "n=100\n",
    "p=4\n",
    "np.empty(int(n/p),dtype='f').shape"
   ]
  },
  {
   "cell_type": "code",
   "execution_count": 3,
   "metadata": {},
   "outputs": [
    {
     "name": "stdout",
     "output_type": "stream",
     "text": [
      "Overwriting std.py\n"
     ]
    }
   ],
   "source": [
    "%%writefile std.py\n",
    "\n",
    "from mpi4py import MPI\n",
    "import numpy as np\n",
    "\n",
    "comm = MPI.COMM_WORLD\n",
    "\n",
    "my_rank = comm.Get_rank()\n",
    "p = comm.Get_size()\n",
    "\n",
    "n = 100\n",
    "\n",
    "if my_rank == 0:\n",
    "    data = np.random.random(n).astype('f')     # 100   \n",
    "    data = data.reshape(p, int(n/p))           # 4, 25\n",
    "    \n",
    "else:\n",
    "    data = None\n",
    "\n",
    "recvbuf = np.empty(int(n/p),dtype='float64') # (25,) to receive info from scatter source\n",
    "\n",
    "#Scatter the numbers to all processes\n",
    "comm.Scatter(data,recvbuf, root = 0)   # 0 to 0,1,2,3\n",
    "\n",
    "local_sum = sum(recvbuf)\n",
    "print('Process {}, local sum = {:.4f}'.format(my_rank, local_sum))\n",
    "\n",
    "#Reduce local sums into a global sum to calculate the mean\n",
    "global_sum = comm.allreduce(local_sum, MPI.SUM)\n",
    "mean = global_sum/n\n",
    "\n",
    "#Compute the local sum of squared differences from the mean\n",
    "\n",
    "local_sq_diff = sum((num-mean)**2 for num in recvbuf)\n",
    "\n",
    "#Reduce the global sum of the squared differences to the root process\n",
    "global_sq_diff = comm.reduce(local_sq_diff, MPI.SUM, 0)\n",
    "\n",
    "if my_rank == 0:\n",
    "    stddev = np.sqrt(global_sq_diff / n)\n",
    "    print('\\nMean: {:.4f}, Standard deviation: {:.4f}'.format(mean, stddev))\n",
    "    print('Standard deviation using numpy: {:.4f}'.format(np.std(data)))"
   ]
  },
  {
   "cell_type": "code",
   "execution_count": 4,
   "metadata": {},
   "outputs": [
    {
     "name": "stdout",
     "output_type": "stream",
     "text": [
      "Process 0, local sum = 11.7849\n",
      "Process 2, local sum = 13.4773\n",
      "Process 3, local sum = 11.7496\n",
      "Process 1, local sum = 12.2990\n",
      "\n",
      "Mean: 0.4931, Standard deviation: 0.2585\n",
      "Standard deviation using numpy: 0.2585\n"
     ]
    }
   ],
   "source": [
    "!mpiexec -n 4 python std.py"
   ]
  },
  {
   "cell_type": "markdown",
   "metadata": {},
   "source": [
    "### Parallel merge sort *\n",
    "\n",
    "*Inefficient implementation"
   ]
  },
  {
   "cell_type": "code",
   "execution_count": 1,
   "metadata": {},
   "outputs": [
    {
     "name": "stdout",
     "output_type": "stream",
     "text": [
      "Overwriting mergesort.py\n"
     ]
    }
   ],
   "source": [
    "%%writefile mergesort.py\n",
    "\n",
    "from mpi4py import MPI\n",
    "import numpy as np\n",
    "import timeit\n",
    "\n",
    "comm = MPI.COMM_WORLD\n",
    "\n",
    "my_rank = comm.Get_rank()\n",
    "p = comm.Get_size()\n",
    "\n",
    "def merge(L, R):\n",
    "\n",
    "    f=[]\n",
    "    i = j = 0\n",
    "          \n",
    "    # Copy data to temp arrays L[] and R[] \n",
    "    while i < len(L) and j < len(R): \n",
    "        if L[i] < R[j]: \n",
    "            f.append(L[i] )\n",
    "            i+=1\n",
    "        else: \n",
    "            f.append(R[j]) \n",
    "            j+=1\n",
    "\n",
    "    # Checking if any element was left \n",
    "    while i < len(L): \n",
    "        f.append(L[i]) \n",
    "        i+=1\n",
    "\n",
    "    while j < len(R): \n",
    "        f.append(R[j]) \n",
    "        j+=1\n",
    "    \n",
    "    return f\n",
    "\n",
    "def merge_sort(l):\n",
    "    \n",
    "    if len(l) <= 1:\n",
    "        return l\n",
    "    \n",
    "    left = merge_sort(l[: len(l)//2])\n",
    "    right = merge_sort(l[len(l)//2 :])\n",
    "    \n",
    "    \n",
    "    return merge(left, right)\n",
    "\n",
    "\n",
    "n = 10000\n",
    "\n",
    "\n",
    "def serial_mergesort():\n",
    "    data = np.random.randint(0, n, n).astype('f')\n",
    "    sorted_data = merge_sort(data)\n",
    "        \n",
    "\n",
    "def par_mergesort():\n",
    "    if my_rank == 0:\n",
    "        data = np.random.randint(0, n, n).astype('f')\n",
    "        data = data.reshape(p, int(n/p))    \n",
    "    else:\n",
    "        data = None\n",
    "\n",
    "    sub_array = np.empty(int(n/p),dtype='f')\n",
    "    #Send subarrays to each process\n",
    "    comm.Scatter(data,sub_array, root = 0)\n",
    "\n",
    "    sorted_arr = merge_sort(sub_array)\n",
    "\n",
    "    data = comm.gather(sorted_arr,root=0)\n",
    "    \n",
    "    if my_rank == 0:\n",
    "        j = len(data)-1\n",
    "\n",
    "        while j != 0:\n",
    "            i = 0\n",
    "            while i<j:\n",
    "                data[i] = merge(data[i], data[j])\n",
    "                i += 1\n",
    "                j -= 1\n",
    "\n",
    "        l = data[0]\n",
    "        assert all(l[i] <= l[i+1] for i in range(len(l)-1))\n",
    "\n",
    "        \n",
    "tp = timeit.Timer(\"par_mergesort()\",\"from __main__ import par_mergesort\")\n",
    "ts = timeit.Timer(\"serial_mergesort()\",\"from __main__ import serial_mergesort\")\n",
    "\n",
    "parallel_time = tp.timeit(number=10)\n",
    "\n",
    "\n",
    "if my_rank == 0:\n",
    "    serial_time = ts.timeit(number=10)\n",
    "    \n",
    "    print ('Parallel time: {:.4f} sec'.format(parallel_time)) \n",
    "    print ('Serial time: {:.4f} sec'.format(serial_time)) \n",
    "\n"
   ]
  },
  {
   "cell_type": "code",
   "execution_count": 2,
   "metadata": {
    "collapsed": true
   },
   "outputs": [
    {
     "name": "stdout",
     "output_type": "stream",
     "text": [
      "(2500,)\n",
      "(2500,)\n",
      "(2500,)\n",
      "(2500,)\n",
      "(2500,)\n",
      "(2500,)\n",
      "(2500,)\n",
      "(2500,)\n",
      "(2500,)\n",
      "(2500,)\n",
      "(2500,)\n",
      "(2500,)\n",
      "(2500,)\n",
      "(2500,)\n",
      "(2500,)\n",
      "(2500,)\n",
      "(2500,)\n",
      "(2500,)\n",
      "(2500,)\n",
      "(2500,)\n",
      "(2500,)\n",
      "(2500,)\n",
      "(2500,)\n",
      "(2500,)\n",
      "(2500,)\n",
      "(2500,)\n",
      "(2500,)\n",
      "(2500,)\n",
      "(2500,)\n",
      "(2500,)\n",
      "(4, 2500)\n",
      "(2500,)\n",
      "(4, 2500)\n",
      "(2500,)\n",
      "(4, 2500)\n",
      "(2500,)\n",
      "(4, 2500)\n",
      "(2500,)\n",
      "(4, 2500)\n",
      "(2500,)\n",
      "(4, 2500)\n",
      "(2500,)\n",
      "(4, 2500)\n",
      "(2500,)\n",
      "(4, 2500)\n",
      "(2500,)\n",
      "(4, 2500)\n",
      "(2500,)\n",
      "(4, 2500)\n",
      "(2500,)\n",
      "Parallel time: 0.2361 sec\n",
      "Serial time: 0.4283 sec\n"
     ]
    }
   ],
   "source": [
    "!mpiexec -n 4 python mergesort.py"
   ]
  },
  {
   "cell_type": "code",
   "execution_count": null,
   "metadata": {},
   "outputs": [],
   "source": []
  }
 ],
 "metadata": {
  "kernelspec": {
   "display_name": "Python 3 (ipykernel)",
   "language": "python",
   "name": "python3"
  },
  "language_info": {
   "codemirror_mode": {
    "name": "ipython",
    "version": 3
   },
   "file_extension": ".py",
   "mimetype": "text/x-python",
   "name": "python",
   "nbconvert_exporter": "python",
   "pygments_lexer": "ipython3",
   "version": "3.8.16"
  }
 },
 "nbformat": 4,
 "nbformat_minor": 4
}
