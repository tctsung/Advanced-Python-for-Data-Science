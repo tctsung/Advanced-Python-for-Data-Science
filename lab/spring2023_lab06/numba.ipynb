{
 "cells": [
  {
   "cell_type": "markdown",
   "metadata": {
    "id": "bCnfDyGkdFdR"
   },
   "source": [
    "## Numba"
   ]
  },
  {
   "cell_type": "markdown",
   "metadata": {
    "id": "2W79-flTdJ9B"
   },
   "source": [
    "### What is Numba?\n",
    "\n",
    "a JIT compiler for Python that:\n",
    "- generates optimized machine code using LLVM compiler\n",
    "- integrates well with the Scientific Python stack (Numpy) "
   ]
  },
  {
   "cell_type": "markdown",
   "metadata": {
    "id": "6lP41sabdOhc"
   },
   "source": [
    "<img align=\"right\" src=\"https://i.ibb.co/C2qPRJY/img1.png\" width=\"400\" height=\"400\">\n",
    "\n",
    "<div style=\"text-align: left\"> \n",
    "\n",
    "    Interpretation: \n",
    "        1. Compile to bytecode\n",
    "        2. Interpret in a virtual machine\n",
    "            Ex: Python, Java\n",
    "    \n",
    "    Ahead of time compilation:\n",
    "        1. Compile to binary code\n",
    "        2. Execute on hardware\n",
    "            Ex: C, C++\n",
    "\n",
    "</div>\n",
    "    "
   ]
  },
  {
   "cell_type": "markdown",
   "metadata": {
    "id": "50YUDBJldbLY"
   },
   "source": [
    "   ### Just in time compilation\n",
    "<img src=\"https://i.ibb.co/nmtzCfP/img2.png\" width=\"400\" height=\"400\">\n"
   ]
  },
  {
   "cell_type": "markdown",
   "metadata": {
    "id": "v0EY31wFdhZ9"
   },
   "source": [
    "#### Array sum\n",
    "The function below is a naive sum function"
   ]
  },
  {
   "cell_type": "code",
   "execution_count": 1,
   "metadata": {
    "id": "0N_12XWndm4Z"
   },
   "outputs": [],
   "source": [
    "import numpy as np\n",
    "\n",
    "def sum_array(arr):\n",
    "    r, c = arr.shape\n",
    "    \n",
    "    mysum = 0\n",
    "    for i in range(r):\n",
    "        for j in range(c):\n",
    "            mysum += arr[i, j]\n",
    "            \n",
    "    return mysum"
   ]
  },
  {
   "cell_type": "code",
   "execution_count": 2,
   "metadata": {
    "id": "qklfUHwVdwpe"
   },
   "outputs": [],
   "source": [
    "arr = np.random.random((300, 300))"
   ]
  },
  {
   "cell_type": "code",
   "execution_count": 3,
   "metadata": {
    "id": "c4VhwIDYd0XT"
   },
   "outputs": [
    {
     "data": {
      "text/plain": [
       "45094.22268032044"
      ]
     },
     "execution_count": 3,
     "metadata": {},
     "output_type": "execute_result"
    }
   ],
   "source": [
    "sum_array(arr)"
   ]
  },
  {
   "cell_type": "code",
   "execution_count": 4,
   "metadata": {
    "id": "0ODS72izd3he"
   },
   "outputs": [
    {
     "name": "stdout",
     "output_type": "stream",
     "text": [
      "18.1 ms ± 182 µs per loop (mean ± std. dev. of 7 runs, 100 loops each)\n"
     ]
    }
   ],
   "source": [
    "plain = %timeit -o sum_array(arr)"
   ]
  },
  {
   "cell_type": "code",
   "execution_count": 5,
   "metadata": {
    "id": "9M4D_jfTd5HV"
   },
   "outputs": [],
   "source": [
    "from numba import jit"
   ]
  },
  {
   "cell_type": "markdown",
   "metadata": {
    "id": "vq_19FE0d6yt"
   },
   "source": [
    "### As a function call"
   ]
  },
  {
   "cell_type": "code",
   "execution_count": 6,
   "metadata": {
    "id": "og6xhJKKd9n8"
   },
   "outputs": [],
   "source": [
    "sum_array_numba = jit()(sum_array)"
   ]
  },
  {
   "cell_type": "code",
   "execution_count": 7,
   "metadata": {
    "id": "-1UpSy7ad_EF"
   },
   "outputs": [
    {
     "name": "stdout",
     "output_type": "stream",
     "text": [
      "81.7 µs ± 6.83 µs per loop (mean ± std. dev. of 7 runs, 1 loop each)\n"
     ]
    }
   ],
   "source": [
    "jitted = %timeit -o sum_array_numba(arr)"
   ]
  },
  {
   "cell_type": "code",
   "execution_count": 8,
   "metadata": {
    "id": "vnFds1qLeAO1"
   },
   "outputs": [
    {
     "data": {
      "text/plain": [
       "131.7665637399548"
      ]
     },
     "execution_count": 8,
     "metadata": {},
     "output_type": "execute_result"
    }
   ],
   "source": [
    "plain.best / jitted.best"
   ]
  },
  {
   "cell_type": "markdown",
   "metadata": {
    "id": "mxR98a2geB4t"
   },
   "source": [
    "### As a decorator"
   ]
  },
  {
   "cell_type": "code",
   "execution_count": 9,
   "metadata": {
    "id": "pd2toeh7eFmk"
   },
   "outputs": [],
   "source": [
    "@jit\n",
    "def sum_array(inp):\n",
    "    r, c = arr.shape\n",
    "    \n",
    "    mysum = 0\n",
    "    for i in range(r):\n",
    "        for j in range(c):\n",
    "            mysum += arr[i, j]\n",
    "            \n",
    "    return mysum\n"
   ]
  },
  {
   "cell_type": "code",
   "execution_count": 10,
   "metadata": {
    "id": "dQ158Ga9eG3F"
   },
   "outputs": [
    {
     "data": {
      "text/plain": [
       "45028.875783920965"
      ]
     },
     "execution_count": 10,
     "metadata": {},
     "output_type": "execute_result"
    }
   ],
   "source": [
    "sum_array(arr)"
   ]
  },
  {
   "cell_type": "code",
   "execution_count": 11,
   "metadata": {
    "id": "3Nc3EXhweIOd"
   },
   "outputs": [
    {
     "name": "stdout",
     "output_type": "stream",
     "text": [
      "83.4 µs ± 1.5 µs per loop (mean ± std. dev. of 7 runs, 10,000 loops each)\n"
     ]
    }
   ],
   "source": [
    "%timeit sum_array(arr)"
   ]
  },
  {
   "cell_type": "markdown",
   "metadata": {
    "id": "3Iv2WGk0eKR1"
   },
   "source": [
    "### Defining ufuncs using vectorize\n",
    "\n",
    "* ufuncs: the universal function used for implement in all position"
   ]
  },
  {
   "cell_type": "code",
   "execution_count": 5,
   "metadata": {
    "id": "L6pqqb9UeNsc"
   },
   "outputs": [],
   "source": [
    "import math\n",
    "\n",
    "def f(a, b):\n",
    "    return math.sin(a**2) * math.exp(b)\n"
   ]
  },
  {
   "cell_type": "code",
   "execution_count": 13,
   "metadata": {
    "id": "NZU5PZNaePF4"
   },
   "outputs": [
    {
     "data": {
      "text/plain": [
       "2.2873552871788423"
      ]
     },
     "execution_count": 13,
     "metadata": {},
     "output_type": "execute_result"
    }
   ],
   "source": [
    "f(1,1)"
   ]
  },
  {
   "cell_type": "code",
   "execution_count": 9,
   "metadata": {
    "id": "hHDfqTxxeSS1"
   },
   "outputs": [],
   "source": [
    "a = np.ones((5,5))\n",
    "b = np.ones((5,5))"
   ]
  },
  {
   "cell_type": "code",
   "execution_count": 10,
   "metadata": {
    "id": "m61eG7preTx-"
   },
   "outputs": [],
   "source": [
    "from numba import vectorize"
   ]
  },
  {
   "cell_type": "code",
   "execution_count": 11,
   "metadata": {
    "id": "ncb4VNTAeaKE"
   },
   "outputs": [
    {
     "data": {
      "text/plain": [
       "array([[2.28735529, 2.28735529, 2.28735529, 2.28735529, 2.28735529],\n",
       "       [2.28735529, 2.28735529, 2.28735529, 2.28735529, 2.28735529],\n",
       "       [2.28735529, 2.28735529, 2.28735529, 2.28735529, 2.28735529],\n",
       "       [2.28735529, 2.28735529, 2.28735529, 2.28735529, 2.28735529],\n",
       "       [2.28735529, 2.28735529, 2.28735529, 2.28735529, 2.28735529]])"
      ]
     },
     "execution_count": 11,
     "metadata": {},
     "output_type": "execute_result"
    }
   ],
   "source": [
    "vec_f = vectorize()(f)\n",
    "\n",
    "vec_f(a,b)"
   ]
  },
  {
   "cell_type": "markdown",
   "metadata": {
    "id": "jv8NkRtdebmt"
   },
   "source": [
    "#### How does it compare to just using NumPy? "
   ]
  },
  {
   "cell_type": "code",
   "execution_count": 17,
   "metadata": {
    "id": "SvaylZQWehuM"
   },
   "outputs": [],
   "source": [
    "def numpy_f(a, b):\n",
    "    return np.sin(a**2) * np.exp(b)\n"
   ]
  },
  {
   "cell_type": "code",
   "execution_count": 18,
   "metadata": {
    "id": "ojM52OvKejEG"
   },
   "outputs": [],
   "source": [
    "a = np.random.random((1000, 1000))\n",
    "b = np.random.random((1000, 1000))"
   ]
  },
  {
   "cell_type": "code",
   "execution_count": 19,
   "metadata": {
    "id": "mjKYIU5hmZWL"
   },
   "outputs": [
    {
     "name": "stdout",
     "output_type": "stream",
     "text": [
      "1.56 µs ± 59.4 ns per loop (mean ± std. dev. of 7 runs, 1,000,000 loops each)\n"
     ]
    }
   ],
   "source": [
    "%timeit f_a_b = [[math.sin(1) * math.exp(1)] * 5 for _ in range(5)]"
   ]
  },
  {
   "cell_type": "code",
   "execution_count": 20,
   "metadata": {
    "id": "EF-dZZNVekdp"
   },
   "outputs": [
    {
     "name": "stdout",
     "output_type": "stream",
     "text": [
      "14.6 ms ± 834 µs per loop (mean ± std. dev. of 7 runs, 100 loops each)\n"
     ]
    }
   ],
   "source": [
    "%timeit vec_f(a, b)"
   ]
  },
  {
   "cell_type": "code",
   "execution_count": null,
   "metadata": {
    "id": "UkB5T6zIel5A"
   },
   "outputs": [],
   "source": [
    "%timeit numpy_f(a, b)"
   ]
  },
  {
   "cell_type": "markdown",
   "metadata": {
    "id": "-El9z6ysenX0"
   },
   "source": [
    "What happens if we specify a signature?"
   ]
  },
  {
   "cell_type": "code",
   "execution_count": 21,
   "metadata": {
    "id": "vx5m3w5Feqik"
   },
   "outputs": [],
   "source": [
    "vec_f = vectorize('float64(float64, float64)')(f)"
   ]
  },
  {
   "cell_type": "code",
   "execution_count": 22,
   "metadata": {
    "id": "9a_AiqWresB6"
   },
   "outputs": [
    {
     "name": "stdout",
     "output_type": "stream",
     "text": [
      "14.1 ms ± 314 µs per loop (mean ± std. dev. of 7 runs, 100 loops each)\n"
     ]
    }
   ],
   "source": [
    "%timeit vec_f(a, b)"
   ]
  },
  {
   "cell_type": "code",
   "execution_count": 23,
   "metadata": {
    "id": "gyWAN3Ofetal"
   },
   "outputs": [],
   "source": [
    "vec_f = vectorize('float64(float64, float64)', target='parallel')(f)"
   ]
  },
  {
   "cell_type": "code",
   "execution_count": 24,
   "metadata": {
    "id": "g5x_ZrlEevVl"
   },
   "outputs": [
    {
     "name": "stdout",
     "output_type": "stream",
     "text": [
      "3.7 ms ± 76.4 µs per loop (mean ± std. dev. of 7 runs, 100 loops each)\n"
     ]
    }
   ],
   "source": [
    "%timeit vec_f(a, b)"
   ]
  }
 ],
 "metadata": {
  "colab": {
   "name": "numba",
   "provenance": []
  },
  "kernelspec": {
   "display_name": "Python 3 (ipykernel)",
   "language": "python",
   "name": "python3"
  },
  "language_info": {
   "codemirror_mode": {
    "name": "ipython",
    "version": 3
   },
   "file_extension": ".py",
   "mimetype": "text/x-python",
   "name": "python",
   "nbconvert_exporter": "python",
   "pygments_lexer": "ipython3",
   "version": "3.8.16"
  }
 },
 "nbformat": 4,
 "nbformat_minor": 1
}
