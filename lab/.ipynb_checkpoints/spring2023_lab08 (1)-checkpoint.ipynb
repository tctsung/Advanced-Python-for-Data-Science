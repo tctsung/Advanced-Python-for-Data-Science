{
 "cells": [
  {
   "cell_type": "markdown",
   "metadata": {
    "id": "GE73Sa95Nsfp"
   },
   "source": [
    "# DS-GA 1019\n",
    "\n",
    "# Lab 8 - Optimization\n",
    "## Mar. 23, 2023"
   ]
  },
  {
   "cell_type": "markdown",
   "metadata": {
    "id": "6fQLG9VaAC31"
   },
   "source": [
    "The basic components\n",
    "\n",
    "- The objective function (also called the 'cost' function)\n"
   ]
  },
  {
   "cell_type": "code",
   "execution_count": 1,
   "metadata": {
    "colab": {
     "base_uri": "https://localhost:8080/"
    },
    "id": "8a2-BenuAC36",
    "outputId": "943f6cab-7a22-41ff-86e6-e1e80a493c48"
   },
   "outputs": [
    {
     "name": "stdout",
     "output_type": "stream",
     "text": [
      "     2\n",
      "1.3 x + 4 x + 0.6\n"
     ]
    }
   ],
   "source": [
    "import numpy as np\n",
    "objective = np.poly1d([1.3, 4.0, 0.6])\n",
    "print(objective)"
   ]
  },
  {
   "cell_type": "markdown",
   "metadata": {
    "id": "jR_RRED1AC36"
   },
   "source": [
    "- The optimizer\n"
   ]
  },
  {
   "cell_type": "code",
   "execution_count": 2,
   "metadata": {
    "colab": {
     "base_uri": "https://localhost:8080/"
    },
    "id": "H8KgCFd1AC36",
    "outputId": "96ed6aec-bb3d-4f1f-bd6d-3ba1a4eaa14d"
   },
   "outputs": [
    {
     "name": "stdout",
     "output_type": "stream",
     "text": [
      "Optimization terminated successfully.\n",
      "         Current function value: -2.476923\n",
      "         Iterations: 20\n",
      "         Function evaluations: 40\n",
      "solution: x=[-1.53845215]\n"
     ]
    }
   ],
   "source": [
    "import scipy.optimize as opt\n",
    "x_ = opt.fmin(objective, [3])\n",
    "print(\"solution: x={}\".format(x_))\n"
   ]
  },
  {
   "cell_type": "code",
   "execution_count": 3,
   "metadata": {
    "colab": {
     "base_uri": "https://localhost:8080/",
     "height": 265
    },
    "id": "J983YJafAC37",
    "outputId": "1344d220-e7cc-47bc-aa45-ac7b5929d878"
   },
   "outputs": [
    {
     "data": {
      "image/png": "[encoded data removed]",
      "text/plain": [
       "<Figure size 432x288 with 1 Axes>"
      ]
     },
     "metadata": {
      "needs_background": "light"
     },
     "output_type": "display_data"
    }
   ],
   "source": [
    "import matplotlib.pyplot as plt\n",
    "\n",
    "x = np.linspace(-4,1,101)\n",
    "plt.plot(x, objective(x))\n",
    "plt.plot(x_, objective(x_), 'ro')\n",
    "plt.show()"
   ]
  },
  {
   "cell_type": "markdown",
   "metadata": {
    "id": "iSSitbhMAC37"
   },
   "source": [
    "- With bounds"
   ]
  },
  {
   "cell_type": "code",
   "execution_count": 4,
   "metadata": {
    "colab": {
     "base_uri": "https://localhost:8080/",
     "height": 265
    },
    "id": "hBEGNy4oAC37",
    "outputId": "31b2cba7-9678-4297-d462-727d97c08626"
   },
   "outputs": [
    {
     "data": {
      "image/png": "[encoded data removed]",
      "text/plain": [
       "<Figure size 432x288 with 1 Axes>"
      ]
     },
     "metadata": {
      "needs_background": "light"
     },
     "output_type": "display_data"
    }
   ],
   "source": [
    "f = lambda x : x ** 3 + x ** 2 - 12 * x - 1\n",
    "x = np.linspace(- 5, 5, 1000)\n",
    "\n",
    "plt.plot(x, f(x))\n",
    "\n",
    "result = opt.minimize_scalar(f, method=\"bounded\", bounds=[0, 4])\n",
    "\n",
    "f_min = f(result.x)\n",
    "plt.plot(result.x, f_min,'ro')\n",
    "plt.show()"
   ]
  },
  {
   "cell_type": "markdown",
   "metadata": {
    "id": "wD37XEESAC37"
   },
   "source": [
    "### Optimization with constraints\n",
    "\n",
    "min $x_1x_4(x_1+x_2+x_3)+x_3$\n",
    "    \n",
    "such that $x_1 x_2 x_3 x_4 \\geq 25$  \n",
    "\n",
    "$x_1^2 + x_2^2 + x_3^2 + x_4^2 = 40$\n",
    "\n",
    "$1 \\leq x_1, x_2, x_3, x_4 \\leq 5$"
   ]
  },
  {
   "cell_type": "code",
   "execution_count": 5,
   "metadata": {
    "id": "nHquf3YfAC38"
   },
   "outputs": [],
   "source": [
    "def objective(x):\n",
    "    x1 = x[0]\n",
    "    x2 = x[1]\n",
    "    x3 = x[2]\n",
    "    x4 = x[3]\n",
    "    return x1*x4*(x1+x2+x3) + x3\n",
    "\n",
    "def constraint1(x):\n",
    "    return x[0]*x[1]*x[2]*x[3] - 25\n",
    "\n",
    "def constraint2(x):\n",
    "    return sum(p**2 for p in x) - 40"
   ]
  },
  {
   "cell_type": "code",
   "execution_count": 6,
   "metadata": {
    "colab": {
     "base_uri": "https://localhost:8080/"
    },
    "id": "2E_YoL54AC38",
    "outputId": "adf301d9-0319-41cb-f94e-1da0cd67466d"
   },
   "outputs": [
    {
     "name": "stdout",
     "output_type": "stream",
     "text": [
      "44\n"
     ]
    }
   ],
   "source": [
    "x0 = [2,4,4,2]\n",
    "print(objective(x0))\n"
   ]
  },
  {
   "cell_type": "code",
   "execution_count": 7,
   "metadata": {
    "id": "32QiOmPqAC38"
   },
   "outputs": [],
   "source": [
    "b = (1,5)\n",
    "bounds = [b,b,b,b]\n",
    "con1 = {'type':'ineq','fun':constraint1}\n",
    "con2 = {'type':'eq','fun':constraint2}\n",
    "\n",
    "cons = [con1, con2]"
   ]
  },
  {
   "cell_type": "code",
   "execution_count": 8,
   "metadata": {
    "id": "IVev2PrmAC38"
   },
   "outputs": [],
   "source": [
    "solution = opt.minimize(objective, x0, bounds= bounds, constraints = cons)"
   ]
  },
  {
   "cell_type": "code",
   "execution_count": 9,
   "metadata": {
    "colab": {
     "base_uri": "https://localhost:8080/"
    },
    "id": "ANUHes7uAC38",
    "outputId": "ecd88a41-8c0f-4670-e076-65666f63d9df"
   },
   "outputs": [
    {
     "data": {
      "text/plain": [
       " message: Optimization terminated successfully\n",
       " success: True\n",
       "  status: 0\n",
       "     fun: 17.014017283490524\n",
       "       x: [ 1.000e+00  4.743e+00  3.821e+00  1.379e+00]\n",
       "     nit: 6\n",
       "     jac: [ 1.457e+01  1.379e+00  2.379e+00  9.564e+00]\n",
       "    nfev: 30\n",
       "    njev: 6"
      ]
     },
     "execution_count": 9,
     "metadata": {},
     "output_type": "execute_result"
    }
   ],
   "source": [
    "solution"
   ]
  },
  {
   "cell_type": "markdown",
   "metadata": {
    "id": "qQ--Qca7AC39"
   },
   "source": [
    "### Jax\n",
    "\n",
    "Numpy for your Accelerator with autograd"
   ]
  },
  {
   "cell_type": "code",
   "execution_count": 10,
   "metadata": {
    "id": "pFZx79PQAC39"
   },
   "outputs": [],
   "source": [
    "import jax.numpy as jnp\n",
    "from jax import grad, jit, vmap\n",
    "from jax import random"
   ]
  },
  {
   "cell_type": "code",
   "execution_count": 12,
   "metadata": {
    "colab": {
     "base_uri": "https://localhost:8080/"
    },
    "id": "eVlxwzuFAC39",
    "outputId": "b44df52e-402b-4466-8d46-9ea70225092b"
   },
   "outputs": [
    {
     "name": "stdout",
     "output_type": "stream",
     "text": [
      "[-0.3721109   0.26423115 -0.18252768 -0.7368197  -0.44030377 -0.1521442\n",
      " -0.67135346 -0.5908641   0.73168886  0.5673026 ]\n",
      "14.4 ms ± 2.08 ms per loop (mean ± std. dev. of 7 runs, 1 loop each)\n"
     ]
    }
   ],
   "source": [
    "key = random.PRNGKey(0)\n",
    "x = random.normal(key, (10,))\n",
    "print(x)\n",
    "\n",
    "\n",
    "size = 3000\n",
    "x = random.normal(key, (size, size), dtype=jnp.float32)\n",
    "%timeit jnp.dot(x, x.T).block_until_ready()  # runs on the GPU"
   ]
  },
  {
   "cell_type": "code",
   "execution_count": 13,
   "metadata": {
    "colab": {
     "base_uri": "https://localhost:8080/"
    },
    "id": "S46qmPOMAC39",
    "outputId": "43b4d227-85ca-4c4b-90dc-969b8f43f5da"
   },
   "outputs": [
    {
     "name": "stdout",
     "output_type": "stream",
     "text": [
      "45.9 ms ± 980 µs per loop (mean ± std. dev. of 7 runs, 10 loops each)\n"
     ]
    }
   ],
   "source": [
    "import numpy as np\n",
    "x = np.random.normal(size=(size, size)).astype(np.float32)\n",
    "%timeit jnp.dot(x, x.T).block_until_ready()"
   ]
  },
  {
   "cell_type": "code",
   "execution_count": 14,
   "metadata": {
    "colab": {
     "base_uri": "https://localhost:8080/"
    },
    "id": "TlAIvMbXNOY8",
    "outputId": "2087c073-4929-41e7-b1e9-ddf5bace60fa"
   },
   "outputs": [
    {
     "name": "stdout",
     "output_type": "stream",
     "text": [
      "16.1 ms ± 1.01 ms per loop (mean ± std. dev. of 7 runs, 10 loops each)\n"
     ]
    }
   ],
   "source": [
    "from jax import device_put\n",
    "\n",
    "x = np.random.normal(size=(size, size)).astype(np.float32)\n",
    "x = device_put(x)\n",
    "%timeit jnp.dot(x, x.T).block_until_ready()"
   ]
  },
  {
   "cell_type": "code",
   "execution_count": 17,
   "metadata": {
    "colab": {
     "base_uri": "https://localhost:8080/"
    },
    "id": "EvBmeJW2NUds",
    "outputId": "e259875a-8c6a-4e4b-fa3b-8dd1389690e2"
   },
   "outputs": [
    {
     "name": "stdout",
     "output_type": "stream",
     "text": [
      "444 ms ± 123 ms per loop (mean ± std. dev. of 7 runs, 1 loop each)\n"
     ]
    }
   ],
   "source": [
    "x = np.random.normal(size=(size, size)).astype(np.float32)\n",
    "%timeit np.dot(x, x.T)"
   ]
  },
  {
   "cell_type": "code",
   "execution_count": 18,
   "metadata": {
    "colab": {
     "base_uri": "https://localhost:8080/"
    },
    "id": "OS3iT8LBNcXD",
    "outputId": "8ffd71ee-765c-41ca-ec8e-a52b961939ed"
   },
   "outputs": [
    {
     "name": "stdout",
     "output_type": "stream",
     "text": [
      "830 µs ± 54.8 µs per loop (mean ± std. dev. of 7 runs, 1 loop each)\n"
     ]
    }
   ],
   "source": [
    "def selu(x, alpha=1.67, lmbda=1.05):\n",
    "  return lmbda * jnp.where(x > 0, x, alpha * jnp.exp(x) - alpha)\n",
    "\n",
    "x = random.normal(key, (1000000,))\n",
    "%timeit selu(x).block_until_ready()"
   ]
  },
  {
   "cell_type": "code",
   "execution_count": 19,
   "metadata": {
    "colab": {
     "base_uri": "https://localhost:8080/"
    },
    "id": "jxtvPEUCNe2n",
    "outputId": "c25af0e0-1b5a-4c74-9540-3ea2e5cc5316"
   },
   "outputs": [
    {
     "name": "stdout",
     "output_type": "stream",
     "text": [
      "141 µs ± 3.78 µs per loop (mean ± std. dev. of 7 runs, 10000 loops each)\n"
     ]
    }
   ],
   "source": [
    "selu_jit = jit(selu)\n",
    "%timeit selu_jit(x).block_until_ready()"
   ]
  },
  {
   "cell_type": "markdown",
   "metadata": {
    "id": "-NNsBei6NhV9"
   },
   "source": [
    "#### Derivatives"
   ]
  },
  {
   "cell_type": "code",
   "execution_count": 26,
   "metadata": {
    "colab": {
     "base_uri": "https://localhost:8080/"
    },
    "id": "QNfboqtZNkah",
    "outputId": "70eafa02-3545-41e1-d058-9f1ad70d28d5"
   },
   "outputs": [
    {
     "name": "stdout",
     "output_type": "stream",
     "text": [
      "Jax Derivative [0.25       0.19661194 0.10499357]\n",
      "Finite difference gradient: [0.24998187 0.1965761  0.10502338]\n"
     ]
    }
   ],
   "source": [
    "def sum_logistic(x):\n",
    "  return jnp.sum(1.0 / (1.0 + jnp.exp(-x)))\n",
    "\n",
    "x_small = jnp.arange(3.)\n",
    "derivative_fn = grad(sum_logistic)\n",
    "print(f\"Jax Derivative {derivative_fn(x_small)}\")\n",
    "\n",
    "\n",
    "# verify using finite differences\n",
    "\n",
    "def first_finite_differences(f, x):\n",
    "  eps = 1e-3\n",
    "  return jnp.array([(f(x + eps * v) - f(x - eps * v)) / (2 * eps)\n",
    "                   for v in jnp.eye(len(x))])\n",
    "\n",
    "\n",
    "print(f\"Finite difference gradient: {first_finite_differences(sum_logistic, x_small)}\")\n",
    "\n",
    "\n",
    "# compute effecient hessians using jax\n",
    "from jax import jacfwd, jacrev\n",
    "def hessian(fun):\n",
    "  return jit(jacfwd(jacrev(fun)))"
   ]
  },
  {
   "cell_type": "markdown",
   "metadata": {
    "id": "wulhbNGuAC39"
   },
   "source": [
    "More information can be found at https://jax.readthedocs.io/en/latest/notebooks/quickstart.html"
   ]
  },
  {
   "cell_type": "markdown",
   "metadata": {
    "id": "V7XBgK8XAC3-"
   },
   "source": [
    "### Implementing a neural network  : Logical OR\n",
    "\n",
    "| x_1 | x_2 | y   |\n",
    "|---- | ----| --- |\n",
    "| 1 | 0 | 1|\n",
    "| 0 | 1 | 1|\n",
    "| 1 | 1 | 1|\n",
    "| 0 | 0 | 0|"
   ]
  },
  {
   "cell_type": "code",
   "execution_count": 27,
   "metadata": {
    "id": "8OccX_1oAC3-"
   },
   "outputs": [],
   "source": [
    "data = np.array([[1,0,1],[0,1,1],[1,1,1],[0,0,0]])"
   ]
  },
  {
   "cell_type": "code",
   "execution_count": 28,
   "metadata": {
    "colab": {
     "base_uri": "https://localhost:8080/"
    },
    "id": "JtZSv-19AC3_",
    "outputId": "6eee6f8d-51ec-4744-8193-2f7386fbc015"
   },
   "outputs": [
    {
     "name": "stdout",
     "output_type": "stream",
     "text": [
      "[[1 0]\n",
      " [0 1]\n",
      " [1 1]\n",
      " [0 0]]\n",
      "[[1]\n",
      " [1]\n",
      " [1]\n",
      " [0]]\n"
     ]
    }
   ],
   "source": [
    "X = data[:,0:2]\n",
    "y = data[:,2].reshape(-1,1)\n",
    "print(X)\n",
    "print(y)"
   ]
  },
  {
   "cell_type": "markdown",
   "metadata": {
    "id": "cpPtsIPhAC3_"
   },
   "source": [
    "$y_{pred} = g(w_1 . x) . w_2 $\n",
    "\n",
    "where $g(z) = \\frac{1}{1+e^{-z}}$ is the sigmoid function"
   ]
  },
  {
   "cell_type": "code",
   "execution_count": 29,
   "metadata": {
    "id": "6A-dsXfTAC3_"
   },
   "outputs": [],
   "source": [
    "def sigmoid(z):\n",
    "\n",
    "    return 1/(1+np.exp(-z))"
   ]
  },
  {
   "cell_type": "code",
   "execution_count": 30,
   "metadata": {
    "id": "aHDkFmmeAC3_"
   },
   "outputs": [],
   "source": [
    "class NeuralNetwork:\n",
    "    def __init__(self,x,y,n):\n",
    "        self.inputs = x\n",
    "        self.targets = y\n",
    "        \n",
    "        self.w1 = np.random.rand(x.shape[1],n)        \n",
    "        self.w2 = np.random.rand(n,1)                  \n",
    "    \n",
    "    def update(self,theta):\n",
    "        self.w1 = theta.reshape(3,-1)[:-1,:]\n",
    "        self.w2 = theta.reshape(3,-1)[-1,:].reshape(-1,1)\n",
    "        \n",
    "        return self.cost()\n",
    "    \n",
    "    def cost(self):\n",
    "                \n",
    "        preds = self.predictions()\n",
    "\n",
    "        J = np.mean((self.targets - np.array(preds))**2)\n",
    "        \n",
    "        return J\n",
    "    \n",
    "    def predictions(self):\n",
    "        preds = []\n",
    "        for i in self.inputs:\n",
    "        \n",
    "            pred = sigmoid(i.dot(self.w1)).dot(self.w2)\n",
    "            preds.append(pred)\n",
    "        return preds\n",
    "\n",
    "net = NeuralNetwork(X,y,2)\n"
   ]
  },
  {
   "cell_type": "code",
   "execution_count": 31,
   "metadata": {
    "id": "ogjJFhXjAC3_"
   },
   "outputs": [],
   "source": [
    "def fit(self):\n",
    "    param_init = np.concatenate([net.w1,net.w2.T]).reshape(-1,)\n",
    "\n",
    "    res = opt.minimize(net.update,param_init)\n",
    "    \n",
    "    return res\n"
   ]
  },
  {
   "cell_type": "code",
   "execution_count": 39,
   "metadata": {
    "colab": {
     "base_uri": "https://localhost:8080/"
    },
    "id": "oPrZtuFfAC3_",
    "outputId": "94099de6-6688-43df-df3b-79f2b45892c0",
    "scrolled": false
   },
   "outputs": [
    {
     "data": {
      "text/plain": [
       "  message: Optimization terminated successfully.\n",
       "  success: True\n",
       "   status: 0\n",
       "      fun: 0.057692922777001644\n",
       "        x: [ 2.815e+01  2.022e+01  1.610e+01  1.127e+01 -3.399e-01\n",
       "             1.263e+00]\n",
       "      nit: 0\n",
       "      jac: [ 0.000e+00  0.000e+00  1.397e-09 -6.156e-07 -7.984e-06\n",
       "            -7.499e-06]\n",
       " hess_inv: [[1 0 ... 0 0]\n",
       "            [0 1 ... 0 0]\n",
       "            ...\n",
       "            [0 0 ... 1 0]\n",
       "            [0 0 ... 0 1]]\n",
       "     nfev: 7\n",
       "     njev: 1"
      ]
     },
     "execution_count": 39,
     "metadata": {},
     "output_type": "execute_result"
    }
   ],
   "source": [
    "fit(net)"
   ]
  },
  {
   "cell_type": "code",
   "execution_count": 33,
   "metadata": {
    "colab": {
     "base_uri": "https://localhost:8080/"
    },
    "id": "wSKYTcbiAC3_",
    "outputId": "2ee36b9f-af1e-4358-8397-53aaf69b40ef",
    "scrolled": true
   },
   "outputs": [
    {
     "data": {
      "text/plain": [
       "[array([0.92307692]),\n",
       " array([0.92306093]),\n",
       " array([0.92307692]),\n",
       " array([0.46153846])]"
      ]
     },
     "execution_count": 33,
     "metadata": {},
     "output_type": "execute_result"
    }
   ],
   "source": [
    "net.predictions()"
   ]
  },
  {
   "cell_type": "markdown",
   "metadata": {
    "id": "-p57ZN7UAC4A"
   },
   "source": [
    "### Polynomial regression\n",
    "\n",
    "Relationship between x and y is modelled as a nth degree polynomial\n",
    "\n",
    "$y = b_0 + b_1x + b_2x^2 +....+ b_nx^n$"
   ]
  },
  {
   "cell_type": "code",
   "execution_count": 40,
   "metadata": {
    "id": "v4sooW5lAC4A"
   },
   "outputs": [],
   "source": [
    "x = np.linspace(0,6.28,10)\n",
    "e = np.random.uniform(low=0,high=0.25,size=10)\n",
    "\n",
    "yn = np.sin(x) + e"
   ]
  },
  {
   "cell_type": "code",
   "execution_count": 41,
   "metadata": {
    "colab": {
     "base_uri": "https://localhost:8080/",
     "height": 282
    },
    "id": "Q41fNNcaAC4A",
    "outputId": "67d34fcf-1a08-4a94-a38f-02c824f6227d"
   },
   "outputs": [
    {
     "data": {
      "text/plain": [
       "<matplotlib.collections.PathCollection at 0x7fb2eb671730>"
      ]
     },
     "execution_count": 41,
     "metadata": {},
     "output_type": "execute_result"
    },
    {
     "data": {
      "image/png": "[encoded data removed]",
      "text/plain": [
       "<Figure size 432x288 with 1 Axes>"
      ]
     },
     "metadata": {
      "needs_background": "light"
     },
     "output_type": "display_data"
    }
   ],
   "source": [
    "plt.scatter(x,yn)"
   ]
  },
  {
   "cell_type": "code",
   "execution_count": 42,
   "metadata": {
    "id": "qjn2J6YZAC4A"
   },
   "outputs": [],
   "source": [
    "class PolReg:\n",
    "    def __init__(self,x,y,d):\n",
    "        self.inputs = x\n",
    "        self.targets = y\n",
    "        \n",
    "        self.w = np.random.rand(d+1)        \n",
    "                         \n",
    "    \n",
    "    def update(self,theta):\n",
    "        self.w = theta\n",
    "        \n",
    "        return self.cost()\n",
    "    \n",
    "    def cost(self):\n",
    "                \n",
    "        preds = self.predictions()\n",
    "        \n",
    "        J = np.mean((self.targets - np.array(preds))**2)\n",
    "\n",
    "        return J\n",
    "    \n",
    "    def predictions(self,inp=None):\n",
    "        preds = []\n",
    "        if inp is None:\n",
    "            inp = self.inputs\n",
    "            \n",
    "        for i in inp:\n",
    "        \n",
    "            pred = np.poly1d(self.w)(i)\n",
    "            preds.append(pred)\n",
    "            \n",
    "        return preds\n",
    "\n",
    "    def fit(self):\n",
    "        param_init = self.w\n",
    "\n",
    "        res = opt.minimize(self.update,param_init)\n",
    "\n",
    "        return res\n",
    "\n"
   ]
  },
  {
   "cell_type": "code",
   "execution_count": 43,
   "metadata": {
    "colab": {
     "base_uri": "https://localhost:8080/"
    },
    "id": "2N0KE4KcAC4A",
    "outputId": "3e7c96b9-9009-41b9-fcea-a79c618d07aa"
   },
   "outputs": [
    {
     "data": {
      "text/plain": [
       "  message: Optimization terminated successfully.\n",
       "  success: True\n",
       "   status: 0\n",
       "      fun: 0.23712185571101846\n",
       "        x: [ 4.515e-03 -2.491e-01  8.290e-01]\n",
       "      nit: 11\n",
       "      jac: [-2.125e-06 -3.874e-07 -4.284e-08]\n",
       " hess_inv: [[ 4.009e-02 -2.514e-01  2.323e-01]\n",
       "            [-2.514e-01  1.698e+00 -1.842e+00]\n",
       "            [ 2.323e-01 -1.842e+00  3.069e+00]]\n",
       "     nfev: 48\n",
       "     njev: 12"
      ]
     },
     "execution_count": 43,
     "metadata": {},
     "output_type": "execute_result"
    }
   ],
   "source": [
    "p2 = PolReg(x,yn,2)\n",
    "p2.fit()"
   ]
  },
  {
   "cell_type": "code",
   "execution_count": 44,
   "metadata": {
    "colab": {
     "base_uri": "https://localhost:8080/"
    },
    "id": "qDfIfN3xAC4A",
    "outputId": "994e31d6-78b5-4b8e-d8d3-d9e8d15eaf80",
    "scrolled": false
   },
   "outputs": [
    {
     "data": {
      "text/plain": [
       "  message: Optimization terminated successfully.\n",
       "  success: True\n",
       "   status: 0\n",
       "      fun: 0.012078189917317244\n",
       "        x: [ 7.945e-02 -7.439e-01  1.534e+00  1.488e-01]\n",
       "      nit: 13\n",
       "      jac: [ 1.171e-06  2.221e-07  3.527e-08  7.800e-09]\n",
       " hess_inv: [[ 1.385e-02 -1.303e-01  3.101e-01 -1.176e-01]\n",
       "            [-1.303e-01  1.266e+00 -3.168e+00  1.339e+00]\n",
       "            [ 3.101e-01 -3.168e+00  8.635e+00 -4.480e+00]\n",
       "            [-1.176e-01  1.339e+00 -4.480e+00  4.076e+00]]\n",
       "     nfev: 70\n",
       "     njev: 14"
      ]
     },
     "execution_count": 44,
     "metadata": {},
     "output_type": "execute_result"
    }
   ],
   "source": [
    "p3 = PolReg(x,yn,3)\n",
    "p3.fit()"
   ]
  },
  {
   "cell_type": "code",
   "execution_count": 45,
   "metadata": {
    "colab": {
     "base_uri": "https://localhost:8080/",
     "height": 281
    },
    "id": "pGkW9huSAC4A",
    "outputId": "c076c8d3-6bfe-48f8-8a84-b23f9ac970b1"
   },
   "outputs": [
    {
     "data": {
      "image/png": "[encoded data removed]",
      "text/plain": [
       "<Figure size 720x288 with 2 Axes>"
      ]
     },
     "metadata": {
      "needs_background": "light"
     },
     "output_type": "display_data"
    }
   ],
   "source": [
    "x1 = np.linspace(0,6.28,100)\n",
    "plt.figure(figsize=(10,4))\n",
    "\n",
    "plt.subplot(121)\n",
    "plt.plot(x1,p2.predictions(x1))\n",
    "plt.scatter(x,yn,c='red')\n",
    "plt.title(f'f is linear, loss= {p2.cost():.4f}')\n",
    "\n",
    "plt.subplot(122)\n",
    "plt.plot(x1,p3.predictions(x1))\n",
    "plt.scatter(x,yn,c='red')\n",
    "plt.title(f'f is cubic, loss= {p3.cost():.4f}')\n",
    "\n",
    "plt.show()"
   ]
  },
  {
   "cell_type": "code",
   "execution_count": 51,
   "metadata": {
    "colab": {
     "base_uri": "https://localhost:8080/"
    },
    "id": "BdyaKBe2K5M8",
    "outputId": "fb28cecb-177b-4e6d-eaf9-43814b07adad"
   },
   "outputs": [
    {
     "data": {
      "text/plain": [
       "array([1., 1., 1., 1., 1., 1., 1., 1., 1., 1.])"
      ]
     },
     "execution_count": 51,
     "metadata": {},
     "output_type": "execute_result"
    }
   ],
   "source": [
    "x**0"
   ]
  },
  {
   "cell_type": "code",
   "execution_count": 46,
   "metadata": {
    "colab": {
     "base_uri": "https://localhost:8080/",
     "height": 1000
    },
    "id": "Lv2SZPIyEFBE",
    "outputId": "37eb3241-0b42-41bc-d8f5-1f0bfee2e588"
   },
   "outputs": [
    {
     "name": "stdout",
     "output_type": "stream",
     "text": [
      "  message: Optimization terminated successfully.\n",
      "  success: True\n",
      "   status: 0\n",
      "      fun: 0.012078189825007671\n",
      "        x: [ 1.488e-01  1.534e+00 -7.439e-01  7.945e-02]\n",
      "      nit: 11\n",
      "      jac: [-1.997e-06  4.069e-07  6.875e-08 -1.308e-08]\n",
      " hess_inv: [[ 3.910e+00 -4.291e+00  1.282e+00 -1.126e-01]\n",
      "            [-4.291e+00  8.441e+00 -3.113e+00  3.054e-01]\n",
      "            [ 1.282e+00 -3.113e+00  1.252e+00 -1.291e-01]\n",
      "            [-1.126e-01  3.054e-01 -1.291e-01  1.375e-02]]\n",
      "     nfev: 14\n",
      "     njev: 14\n"
     ]
    },
    {
     "data": {
      "image/png": "[encoded data removed]",
      "text/plain": [
       "<Figure size 432x288 with 1 Axes>"
      ]
     },
     "metadata": {
      "needs_background": "light"
     },
     "output_type": "display_data"
    },
    {
     "name": "stdout",
     "output_type": "stream",
     "text": [
      "Optimization using hessian\n"
     ]
    },
    {
     "data": {
      "image/png": "[encoded data removed]",
      "text/plain": [
       "<Figure size 432x288 with 1 Axes>"
      ]
     },
     "metadata": {
      "needs_background": "light"
     },
     "output_type": "display_data"
    },
    {
     "name": "stdout",
     "output_type": "stream",
     "text": [
      "Optimization with no hessian and jacobian needed\n"
     ]
    },
    {
     "data": {
      "image/png": "[encoded data removed]",
      "text/plain": [
       "<Figure size 432x288 with 1 Axes>"
      ]
     },
     "metadata": {
      "needs_background": "light"
     },
     "output_type": "display_data"
    }
   ],
   "source": [
    "import jax.numpy as jnp\n",
    "from jax import jit, grad, hessian\n",
    "# NOTE: add this to make zero-order optimization work (as in numpy)\n",
    "\n",
    "from jax.config import config\n",
    "config.update(\"jax_enable_x64\", True)\n",
    "\n",
    "##\n",
    "\n",
    "degree = 3\n",
    "X = np.array([x ** j for j in range(degree + 1)]).T\n",
    "wstart = np.random.rand(degree + 1)\n",
    "def cost(w):\n",
    "    return jnp.mean((jnp.dot(X, w) - yn) ** 2)\n",
    "\n",
    "f = jit(cost)\n",
    "fgrad = jit(grad(cost))\n",
    "fhess = jit(hessian(cost))\n",
    "res_nothing = opt.minimize(f, wstart)  # works poorly without 64bit floats\n",
    "\n",
    "res = opt.minimize(f, wstart, jac=fgrad)  # default: BFGS, no hessian required\n",
    "\n",
    "res_hess = opt.minimize(f, wstart, method='Newton-CG', jac=fgrad, hess=fhess)\n",
    "\n",
    "print(res)\n",
    "plt.figure()\n",
    "\n",
    "\n",
    "x1 = np.linspace(0,6.28,100)\n",
    "X1 = np.array([x1 ** j for j in range(degree + 1)]).T\n",
    "plt.plot(x1, X1.dot(res['x']))\n",
    "plt.scatter(x, yn, c='red')\n",
    "plt.title(f'f is cubic, loss= {res[\"fun\"]:.4f}')\n",
    "plt.show()\n",
    "\n",
    "\n",
    "print(\"Optimization using hessian\")\n",
    "\n",
    "x1 = np.linspace(0,6.28,100)\n",
    "X1 = np.array([x1 ** j for j in range(degree + 1)]).T\n",
    "plt.plot(x1, X1.dot(res_hess['x']))\n",
    "plt.scatter(x, yn, c='red')\n",
    "plt.title(f'f is cubic, loss= {res[\"fun\"]:.4f}')\n",
    "plt.show()\n",
    "\n",
    "print(\"Optimization with no hessian and jacobian needed\")\n",
    "\n",
    "x1 = np.linspace(0,6.28,100)\n",
    "X1 = np.array([x1 ** j for j in range(degree + 1)]).T\n",
    "plt.plot(x1, X1.dot(res_nothing['x']))\n",
    "plt.scatter(x, yn, c='red')\n",
    "plt.title(f'f is cubic, loss= {res[\"fun\"]:.4f}')\n",
    "plt.show()\n",
    "\n",
    "\n"
   ]
  }
 ],
 "metadata": {
  "accelerator": "GPU",
  "celltoolbar": "Slideshow",
  "colab": {
   "provenance": []
  },
  "kernelspec": {
   "display_name": "Python 3 (ipykernel)",
   "language": "python",
   "name": "python3"
  },
  "language_info": {
   "codemirror_mode": {
    "name": "ipython",
    "version": 3
   },
   "file_extension": ".py",
   "mimetype": "text/x-python",
   "name": "python",
   "nbconvert_exporter": "python",
   "pygments_lexer": "ipython3",
   "version": "3.8.16"
  }
 },
 "nbformat": 4,
 "nbformat_minor": 1
}
