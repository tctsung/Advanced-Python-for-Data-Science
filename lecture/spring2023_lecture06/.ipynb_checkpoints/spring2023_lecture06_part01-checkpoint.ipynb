{
 "cells": [
  {
   "cell_type": "markdown",
   "metadata": {
    "id": "h1l5sztJPK0w"
   },
   "source": [
    "## Lecture 6  Part 1\n",
    "## Introduction to Numba\n",
    "### March 1, 2023"
   ]
  },
  {
   "cell_type": "markdown",
   "metadata": {
    "id": "J5O7oXLNPK0x"
   },
   "source": [
    "## Reminder\n",
    "\n",
    "**Before next week**: send me email with 5 members of your project group!\n",
    "\n",
    "**Next week**: project proposal presentations (likely remote only), 5 min for each group (+ a few min for questions)"
   ]
  },
  {
   "cell_type": "markdown",
   "metadata": {
    "id": "CmS7c0mdPK0y",
    "slideshow": {
     "slide_type": "-"
    }
   },
   "source": [
    "Part of this lecture is based on the material: \n",
    "\n",
    "see [https://nyu-cds.github.io/python-numba/](https://nyu-cds.github.io/python-numba/)\n",
    "\n",
    "You will need the Numba package for this lecture (anaconda already installed it): \n",
    "\n",
    "[https://anaconda.org/numba/numba](https://anaconda.org/numba/numba)"
   ]
  },
  {
   "cell_type": "markdown",
   "metadata": {
    "id": "HXsC_GXNPK0y"
   },
   "source": [
    "----\n",
    "Numba provides the ability to speed up applications with high performance functions written directly in Python, rather than using language extensions such as Cython.\n",
    "\n",
    "Numba allows the compilation of selected portions of pure Python code to native code, and generates optimized machine code.\n",
    "\n",
    "With a few simple annotations, array-oriented and math-heavy Python code can be **just-in-time (JIT)** optimized to achieve performance similar to C and C++, without having to switch languages or Python interpreters.\n",
    "\n",
    "Numba’s main features are:\n",
    "\n",
    "- On-the-fly code generation (at import time or runtime, at the user’s preference)  \n",
    "- Native code generation for the CPU (default) and GPU hardware  \n",
    "- Integration with the Python scientific software stack (thanks to NumPy)  \n"
   ]
  },
  {
   "cell_type": "markdown",
   "metadata": {
    "id": "J3E35He8PK0y"
   },
   "source": [
    "\n",
    "Numba’s central feature is the **numba.jit()** decorator (take a moment to recap function decoration we learned before), which marks a function for optimization by Numba’s JIT compiler.\n",
    "\n",
    "Lets start with a simple example:"
   ]
  },
  {
   "cell_type": "code",
   "execution_count": null,
   "metadata": {
    "executionInfo": {
     "elapsed": 320,
     "status": "ok",
     "timestamp": 1677596699319,
     "user": {
      "displayName": "Yijun Tang",
      "userId": "15094714110312648400"
     },
     "user_tz": 300
    },
    "id": "kU0ggq18PK0z"
   },
   "outputs": [],
   "source": [
    "import numpy as np\n",
    "\n",
    "# an array of 1000 floats 0.0 to 9.99\n",
    "original_array = np.arange(0.0, 10.0, 0.01, dtype='float')\n",
    "\n",
    "shuffled_array = original_array.copy()\n",
    "np.random.shuffle(shuffled_array)\n",
    "\n",
    "sorted_array = shuffled_array.copy()"
   ]
  },
  {
   "cell_type": "code",
   "execution_count": null,
   "metadata": {
    "executionInfo": {
     "elapsed": 150,
     "status": "ok",
     "timestamp": 1677596766843,
     "user": {
      "displayName": "Yijun Tang",
      "userId": "15094714110312648400"
     },
     "user_tz": 300
    },
    "id": "nGgNYqXFPK0z"
   },
   "outputs": [],
   "source": [
    "# bubblesort as pure python code\n",
    "\n",
    "def bubblesort(X):\n",
    "    N = len(X)\n",
    "    for end in range(N, 1, -1):\n",
    "        for i in range(end - 1):\n",
    "            cur = X[i]\n",
    "            if cur > X[i + 1]:\n",
    "                tmp = X[i]\n",
    "                X[i] = X[i + 1]\n",
    "                X[i + 1] = tmp"
   ]
  },
  {
   "cell_type": "code",
   "execution_count": null,
   "metadata": {
    "colab": {
     "base_uri": "https://localhost:8080/"
    },
    "executionInfo": {
     "elapsed": 21647,
     "status": "ok",
     "timestamp": 1677596790381,
     "user": {
      "displayName": "Yijun Tang",
      "userId": "15094714110312648400"
     },
     "user_tz": 300
    },
    "id": "456spkDcPK0z",
    "outputId": "3dd5c871-7e5d-452c-8e38-34a3cd9fadb2"
   },
   "outputs": [],
   "source": [
    "%timeit -n 10 sorted_array[:] = shuffled_array[:]; bubblesort(sorted_array)\n",
    "\n",
    "print(\"length:\", len(original_array))\n",
    "print(\"original: \", original_array[:10])\n",
    "print(\"shuffled: \", shuffled_array[:10])\n",
    "print(\"sorted:   \", sorted_array[:10])"
   ]
  },
  {
   "cell_type": "markdown",
   "metadata": {
    "id": "SI7f4vXKPK00"
   },
   "source": [
    "Now we simply use the **@jit** decorator and let Numba decide when and how to optimize:"
   ]
  },
  {
   "cell_type": "code",
   "execution_count": null,
   "metadata": {
    "executionInfo": {
     "elapsed": 1107,
     "status": "ok",
     "timestamp": 1677596820628,
     "user": {
      "displayName": "Yijun Tang",
      "userId": "15094714110312648400"
     },
     "user_tz": 300
    },
    "id": "dTcotWtlPK00"
   },
   "outputs": [],
   "source": [
    "from numba import jit\n",
    "\n",
    "@jit\n",
    "def bubblesort_numba(X):\n",
    "    N = len(X)\n",
    "    for end in range(N, 1, -1):\n",
    "        for i in range(end - 1):\n",
    "            cur = X[i]\n",
    "            if cur > X[i + 1]:\n",
    "                tmp = X[i]\n",
    "                X[i] = X[i + 1]\n",
    "                X[i + 1] = tmp+1"
   ]
  },
  {
   "cell_type": "code",
   "execution_count": null,
   "metadata": {},
   "outputs": [],
   "source": [
    "%time sorted_array[:] = shuffled_array[:]; bubblesort_numba(sorted_array)"
   ]
  },
  {
   "cell_type": "code",
   "execution_count": null,
   "metadata": {
    "colab": {
     "base_uri": "https://localhost:8080/"
    },
    "executionInfo": {
     "elapsed": 359,
     "status": "ok",
     "timestamp": 1677596841490,
     "user": {
      "displayName": "Yijun Tang",
      "userId": "15094714110312648400"
     },
     "user_tz": 300
    },
    "id": "MfiI0GMcPK00",
    "outputId": "aaf8d2b4-e948-4f27-f8d7-e1d9813f8953"
   },
   "outputs": [],
   "source": [
    "%timeit -n 10 sorted_array[:] = shuffled_array[:]; bubblesort_numba(sorted_array)"
   ]
  },
  {
   "cell_type": "code",
   "execution_count": null,
   "metadata": {},
   "outputs": [],
   "source": [
    "%timeit -n 1000 sorted_array[:] = shuffled_array[:]; np.sort(sorted_array)"
   ]
  },
  {
   "cell_type": "markdown",
   "metadata": {
    "id": "YRCKTrw_PK00"
   },
   "source": [
    "### Function Signature\n",
    "\n",
    "- It is also possible to specify the signature of the Numba function. A function signature describes **the types of the arguments** and **the return type of the function**. \n",
    "\n",
    "- This can produce **slightly** faster code as the compiler does not need to infer the types. \n",
    "\n",
    "- However the function is no longer able to accept other types. The specified types within @jit called the function _signature_."
   ]
  },
  {
   "cell_type": "code",
   "execution_count": null,
   "metadata": {
    "id": "Taeg5TLtPK00"
   },
   "outputs": [],
   "source": [
    "from numba import jit, int32, float64\n",
    "\n",
    "@jit(float64(int32, int32))\n",
    "def f(x, y):\n",
    "    # A somewhat trivial example\n",
    "    return (x + y) / 3.14"
   ]
  },
  {
   "cell_type": "code",
   "execution_count": null,
   "metadata": {
    "colab": {
     "base_uri": "https://localhost:8080/"
    },
    "executionInfo": {
     "elapsed": 551,
     "status": "ok",
     "timestamp": 1674437281397,
     "user": {
      "displayName": "Yijun Tang",
      "userId": "15094714110312648400"
     },
     "user_tz": 300
    },
    "id": "2NLBNQJNPK00",
    "outputId": "8bf18abf-3341-4b93-96fc-a326a73b2b6a"
   },
   "outputs": [],
   "source": [
    "f(2, 2)"
   ]
  },
  {
   "cell_type": "code",
   "execution_count": null,
   "metadata": {
    "id": "3tXkkclcPK00"
   },
   "outputs": [],
   "source": [
    "from numba import jit, float64\n",
    "\n",
    "@jit(\"void(float64[:])\")\n",
    "def bubblesort_numba_argtypes(X):\n",
    "    N = len(X)\n",
    "    for end in range(N, 1, -1):\n",
    "        for i in range(end - 1):\n",
    "            cur = X[i]\n",
    "            if cur > X[i + 1]:\n",
    "                tmp = X[i]\n",
    "                X[i] = X[i + 1]\n",
    "                X[i + 1] = tmp"
   ]
  },
  {
   "cell_type": "code",
   "execution_count": null,
   "metadata": {
    "id": "9rilaIHJPK01"
   },
   "outputs": [],
   "source": [
    "%timeit -n 10 sorted_array[:] = shuffled_array[:]; bubblesort_numba_argtypes(sorted_array)"
   ]
  },
  {
   "cell_type": "markdown",
   "metadata": {
    "id": "mysMsN_gPK01"
   },
   "source": [
    "---\n",
    "### Compilation Modes\n",
    "Numba has two compilation modes: \n",
    "- nopython mode \n",
    "- object mode\n",
    "\n",
    "**nopython mode**: \n",
    "\n",
    "Numba compiler generates code that does not access Python C API. This mode produces the highest performance code, but requires that the native types of all values in the function can be inferred.\n",
    "\n",
    "\n",
    "**object mode**:\n",
    "\n",
    "Numba compiler generates code that handles all values as Python objects and uses the Python C API to perform all operations on those objects. Code compiled in object mode will often run no faster than Python interpreted code. This mode is used when the type of some variables can not be inferred.\n",
    "\n",
    "\n",
    "A typical approach is to force the **nopython** mode, triggering an error message when the mode is not possible.\n",
    "\n",
    "**nopython** mode is so useful that newer versions of numba provides a **njit** decorator."
   ]
  },
  {
   "cell_type": "code",
   "execution_count": null,
   "metadata": {
    "executionInfo": {
     "elapsed": 292,
     "status": "ok",
     "timestamp": 1677596894966,
     "user": {
      "displayName": "Yijun Tang",
      "userId": "15094714110312648400"
     },
     "user_tz": 300
    },
    "id": "vegHOfEnPK01"
   },
   "outputs": [],
   "source": [
    "from numba import njit, jit, float64\n",
    "\n",
    "# @jit(\"void(float64[:])\", nopython=True)\n",
    "@njit(\"void(float64[:])\")\n",
    "def bubblesort_nopython_flag(X):\n",
    "    N = len(X)\n",
    "    for end in range(N, 1, -1):\n",
    "        for i in range(end - 1):\n",
    "            cur = X[i]\n",
    "            if cur > X[i + 1]:\n",
    "                tmp = X[i]\n",
    "                X[i] = X[i + 1]\n",
    "                X[i + 1] = tmp"
   ]
  },
  {
   "cell_type": "code",
   "execution_count": null,
   "metadata": {
    "colab": {
     "base_uri": "https://localhost:8080/"
    },
    "executionInfo": {
     "elapsed": 625,
     "status": "ok",
     "timestamp": 1677596900254,
     "user": {
      "displayName": "Yijun Tang",
      "userId": "15094714110312648400"
     },
     "user_tz": 300
    },
    "id": "CRmzYEQYPK01",
    "outputId": "460ad0e4-5f2c-4036-b1ab-1779b4b2c36f"
   },
   "outputs": [],
   "source": [
    "%timeit -n 10 sorted_array[:] = shuffled_array[:]; bubblesort_nopython_flag(sorted_array)"
   ]
  },
  {
   "cell_type": "markdown",
   "metadata": {
    "id": "bX5584IjPK01"
   },
   "source": [
    "Notice that this code compiles cleanly. However, if we introduce an object whose type cannot be inferred an error message shows up."
   ]
  },
  {
   "cell_type": "code",
   "execution_count": null,
   "metadata": {
    "colab": {
     "base_uri": "https://localhost:8080/"
    },
    "executionInfo": {
     "elapsed": 558,
     "status": "ok",
     "timestamp": 1677596913568,
     "user": {
      "displayName": "Yijun Tang",
      "userId": "15094714110312648400"
     },
     "user_tz": 300
    },
    "id": "i9M8mLrjPK01",
    "outputId": "1309354c-2bdf-48f1-acbe-ae4a85abf213"
   },
   "outputs": [],
   "source": [
    "from decimal import Decimal\n",
    "\n",
    "@jit(\"void(float64[:])\", nopython=True)\n",
    "def bubblesort_nopython_flag(X):\n",
    "    N = len(X)\n",
    "    val = Decimal(100)  # just to force an error\n",
    "    for end in range(N, 1, -1):\n",
    "        for i in range(end - 1):\n",
    "            cur = X[i]\n",
    "            if cur > X[i + 1]:\n",
    "                tmp = X[i]\n",
    "                X[i] = X[i + 1]\n",
    "                X[i + 1] = tmp"
   ]
  },
  {
   "cell_type": "code",
   "execution_count": null,
   "metadata": {
    "id": "ijnJr7ckPK01"
   },
   "outputs": [],
   "source": [
    "%timeit -n 10 sorted_array[:] = shuffled_array[:]; bubblesort_nopython_flag(sorted_array)"
   ]
  },
  {
   "cell_type": "markdown",
   "metadata": {
    "id": "m6FkvTxePK01"
   },
   "source": [
    "### Calling other functions\n",
    "Numba functions can call other Numba functions. Both functions must have the **@jit** decorator, otherwise the code will be much slower."
   ]
  },
  {
   "cell_type": "code",
   "execution_count": null,
   "metadata": {
    "id": "775Bjn5_PK01"
   },
   "outputs": [],
   "source": [
    "import numpy as np\n",
    "\n",
    "original = np.arange(0.0, 10.0, 0.01, dtype='float')\n",
    "shuffled = original.copy()\n",
    "np.random.shuffle(shuffled)\n",
    "\n",
    "sorted = shuffled.copy()"
   ]
  },
  {
   "cell_type": "code",
   "execution_count": null,
   "metadata": {
    "id": "fEqIpmcjPK01"
   },
   "outputs": [],
   "source": [
    "from numba import jit, float64\n",
    "\n",
    "@jit(\"void(float64[:])\", nopython=True)\n",
    "def bubblesort_ff(X):\n",
    "    N = len(X)\n",
    "    for end in range(N, 1, -1):\n",
    "        for i in range(end - 1):\n",
    "            cur = X[i]\n",
    "            if cur > X[i + 1]:\n",
    "                tmp = X[i]\n",
    "                X[i] = X[i + 1]\n",
    "                X[i + 1] = tmp\n",
    "               \n",
    "@jit(\"void(float64[:])\",nopython=True)\n",
    "def do_sort(sorted):\n",
    "    bubblesort_ff(sorted)\n",
    "    "
   ]
  },
  {
   "cell_type": "code",
   "execution_count": null,
   "metadata": {
    "id": "6TITrNo7PK01"
   },
   "outputs": [],
   "source": [
    "%timeit -n 10 sorted[:]=shuffled[:]; do_sort(sorted)"
   ]
  },
  {
   "cell_type": "markdown",
   "metadata": {
    "id": "2Jbu0us6PK01"
   },
   "source": [
    "---\n",
    "###  NumPy Universal Functions ([ufunc](https://docs.scipy.org/doc/numpy-1.10.0/reference/ufuncs.html#universal-functions-ufunc))\n",
    "\n",
    "\n",
    "---\n",
    "- Examples of Numpy ufunc include add(), multiply(), and sin().  \n",
    "\n",
    "- These functions **operate on ndarrays** in an **element-by-element** fashion, supporting array broadcasting, type casting, and several other standard features.\n",
    "\n",
    "---\n",
    "- Numba’s **@vectorize** decorator allows Python functions taking scalar input arguments to be used as **NumPy ufuncs**.   \n",
    "\n",
    "\n",
    "- (Creating a traditional NumPy ufunc is not the most straightforward process and involves writing some C code. Numba makes this easy.)  \n",
    "\n",
    "\n",
    "- Using the @vectorize decorator, Numba can compile a pure Python function into a ufunc that operates over NumPy arrays as fast as traditional ufuncs written in C.  "
   ]
  },
  {
   "cell_type": "markdown",
   "metadata": {
    "id": "04UAb1KPPK01"
   },
   "source": [
    "The @vectorize decorator has two modes of operation:\n",
    "\n",
    "- **Eager**, or decoration-time, compilation. If you pass one or more type signatures to the decorator, you will be building a Numpy ufunc. We’re just going to consider eager compilation here.\n",
    "- **Lazy**, or call-time, compilation. When not given any signatures, the decorator will give you a Numba dynamic universal function (DUFunc) that dynamically compiles a new kernel when called with a previously unsupported input type.  \n",
    "\n",
    "\n",
    "**Using @vectorize, you write your function as operating over input scalars, rather than arrays. Numba will generate the surrounding loop (or kernel) allowing efficient iteration over the actual inputs.**   \n"
   ]
  },
  {
   "cell_type": "code",
   "execution_count": null,
   "metadata": {
    "executionInfo": {
     "elapsed": 240,
     "status": "ok",
     "timestamp": 1677596971910,
     "user": {
      "displayName": "Yijun Tang",
      "userId": "15094714110312648400"
     },
     "user_tz": 300
    },
    "id": "oP29d8LTPK02"
   },
   "outputs": [],
   "source": [
    "import numpy as np\n",
    "from numba import vectorize, int64\n",
    "\n",
    "@vectorize([int64(int64, int64)])\n",
    "def vec_add_vectorize(x, y):\n",
    "    return x + y\n"
   ]
  },
  {
   "cell_type": "code",
   "execution_count": null,
   "metadata": {
    "colab": {
     "base_uri": "https://localhost:8080/"
    },
    "executionInfo": {
     "elapsed": 182,
     "status": "ok",
     "timestamp": 1677596973751,
     "user": {
      "displayName": "Yijun Tang",
      "userId": "15094714110312648400"
     },
     "user_tz": 300
    },
    "id": "iwMMVUrNPK02",
    "outputId": "3ff2f360-52fe-4a07-9fea-5248d9aeaa7f"
   },
   "outputs": [],
   "source": [
    "a = np.arange(6, dtype=np.int64)\n",
    "b = np.linspace(0, 10, 6, dtype=np.int64)\n",
    "\n",
    "print(\"a    : \", a)\n",
    "print(\"b    : \", b)\n",
    "\n",
    "print(\"-\" * 80)\n",
    "print(\"a + a: \", vec_add_vectorize(a, a))\n",
    "print(\"b + b: \", vec_add_vectorize(b, b))"
   ]
  },
  {
   "cell_type": "code",
   "execution_count": null,
   "metadata": {
    "executionInfo": {
     "elapsed": 506,
     "status": "ok",
     "timestamp": 1677596984559,
     "user": {
      "displayName": "Yijun Tang",
      "userId": "15094714110312648400"
     },
     "user_tz": 300
    },
    "id": "UuXj_O1GPK02"
   },
   "outputs": [],
   "source": [
    "@jit(\"int64[:](int64[:], int64[:])\")\n",
    "def vec_add_jit(x, y):\n",
    "    return x + y"
   ]
  },
  {
   "cell_type": "code",
   "execution_count": null,
   "metadata": {
    "colab": {
     "base_uri": "https://localhost:8080/"
    },
    "executionInfo": {
     "elapsed": 800,
     "status": "ok",
     "timestamp": 1677596986165,
     "user": {
      "displayName": "Yijun Tang",
      "userId": "15094714110312648400"
     },
     "user_tz": 300
    },
    "id": "XzbH0ByCPK02",
    "outputId": "6e284bee-d830-4768-9bc6-185bdfdf7095"
   },
   "outputs": [],
   "source": [
    "print(vec_add_jit(a, a))\n",
    "print(vec_add_jit(b, b))"
   ]
  },
  {
   "cell_type": "markdown",
   "metadata": {
    "id": "ZOb8IQsjPK02"
   },
   "source": [
    "The difference between the **@vectorize** and **@jit** is that \"vectorize\" is creating a new function with the associated efficient for-loop, while \"@jit\" is using the Numpy function.\n",
    "\n",
    "[http://numba.pydata.org/numba-doc/latest/user/vectorize.html](http://numba.pydata.org/numba-doc/latest/user/vectorize.html)"
   ]
  },
  {
   "cell_type": "code",
   "execution_count": null,
   "metadata": {
    "id": "2mrqCHOGPK03"
   },
   "outputs": [],
   "source": []
  }
 ],
 "metadata": {
  "celltoolbar": "Slideshow",
  "colab": {
   "provenance": []
  },
  "kernelspec": {
   "display_name": "Python 3 (ipykernel)",
   "language": "python",
   "name": "python3"
  },
  "language_info": {
   "codemirror_mode": {
    "name": "ipython",
    "version": 3
   },
   "file_extension": ".py",
   "mimetype": "text/x-python",
   "name": "python",
   "nbconvert_exporter": "python",
   "pygments_lexer": "ipython3",
   "version": "3.9.4"
  }
 },
 "nbformat": 4,
 "nbformat_minor": 1
}
