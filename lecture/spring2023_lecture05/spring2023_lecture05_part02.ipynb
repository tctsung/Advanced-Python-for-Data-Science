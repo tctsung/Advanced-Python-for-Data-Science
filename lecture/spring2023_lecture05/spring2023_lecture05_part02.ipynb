{
 "cells": [
  {
   "cell_type": "markdown",
   "metadata": {},
   "source": [
    "# Lecture 05  \n",
    "### Introduction to Cython - Part 02\n",
    "### Feb 22, 2023    "
   ]
  },
  {
   "cell_type": "markdown",
   "metadata": {},
   "source": [
    "---\n",
    "\n",
    "Based on the material https://nyu-cds.github.io/python-cython/\n",
    "\n",
    "This lecture provides a very brief introduction to Cython. See the [Cython documentation](http://cython.readthedocs.io/en/latest/) for a more detailed description of the Cython language."
   ]
  },
  {
   "cell_type": "markdown",
   "metadata": {},
   "source": [
    "----\n",
    "## Cython for NumPy Users\n",
    "NumPy can be used from Cython in exactly the same manner as in regular Python, however Cython also has a number of features that support fast access to NumPy arrays that can result in significant performance gains."
   ]
  },
  {
   "cell_type": "markdown",
   "metadata": {},
   "source": [
    "### Convolution -- Example Image Convolution \n",
    "\n"
   ]
  },
  {
   "cell_type": "markdown",
   "metadata": {},
   "source": [
    "Image processing uses convolution of an input image and corresponding kernel for blurring, sharpening, embossing, edge detection, etc. \n",
    "\n",
    "https://en.wikipedia.org/wiki/Kernel_(image_processing)\n",
    "\n",
    "\n",
    "#### Convolution of two functions: $f \\star g$\n",
    "\n",
    "Discrete, on $\\mathbf{Z}$: $$(f \\star g) [n] = \\sum_k f[k] g[n-k]$$\n",
    "\n",
    "Continuous, on $\\mathbf{R}$: $$(f \\star g) (x) = \\int f(t) g(x-t) d t $$\n",
    "\n",
    "Continuous, on $\\mathbf{R}^2$: $$(f \\star g) (\\vec{z}) = \\iint f(\\vec{u}) g(\\vec{z}-\\vec{u}) d \\vec{u}$$\n",
    "\n",
    "\n"
   ]
  },
  {
   "cell_type": "markdown",
   "metadata": {},
   "source": [
    "<!-- ![](https://miro.medium.com/max/790/1*1okwhewf5KCtIPaFib4XaA.gif) -->\n",
    "<img src=\"https://miro.medium.com/max/790/1*1okwhewf5KCtIPaFib4XaA.gif\" alt=\"Drawing\" style=\"width: 200px;\"/>"
   ]
  },
  {
   "cell_type": "code",
   "execution_count": 1,
   "metadata": {},
   "outputs": [],
   "source": [
    "# Pure python code\n",
    "import numpy as np\n",
    "\n",
    "def naive_convolve(f, g):   \n",
    "    # f is an image and is indexed by (i, j)\n",
    "    # g is a filter kernel and is indexed by (x, y); it needs odd dimensions\n",
    "    # h is the output image and is indexed by (i, j)\n",
    "    \n",
    "    if g.shape[0] % 2 != 1 or g.shape[1] % 2 != 1:\n",
    "        raise ValueError(\"Only odd dimensions on filter supported\")\n",
    "    \n",
    "    # dimensions of the image and filter\n",
    "    (fx_max, fy_max) = f.shape\n",
    "    (gx_max, gy_max) = g.shape\n",
    "    \n",
    "    # allocate the result image\n",
    "    h = np.zeros([fx_max, fy_max], dtype=float)\n",
    "    \n",
    "    # do convolution\n",
    "    for i in range(fx_max):\n",
    "        for j in range(fy_max):\n",
    "            # Calculate the pixel value h(i,j)             \n",
    "            value = 0\n",
    "            for x in range(0, min(i, gx_max)):\n",
    "                for y in range(0, min(j, gy_max)):\n",
    "                    value += g[x, y] * f[i - x, j - y]\n",
    "            h[i, j] = value\n",
    "    return h"
   ]
  },
  {
   "cell_type": "code",
   "execution_count": 6,
   "metadata": {},
   "outputs": [],
   "source": [
    "from matplotlib import pyplot as plt\n",
    "\n",
    "I = np.random.uniform(low=0, high=1.0, size=((250, 250)))\n",
    "G = np.ones((5, 5)) * (1/25)\n",
    "\n",
    "%timeit naive_convolve(I, G)\n",
    "H = naive_convolve(I, G)\n",
    "\n",
    "plt.subplot(1, 2, 1)\n",
    "plt.imshow(I)\n",
    "plt.axis('off')\n",
    "plt.subplot(1, 2, 2)\n",
    "plt.imshow(H)\n",
    "plt.axis('off')\n",
    "\n",
    "plt.show()"
   ]
  },
  {
   "cell_type": "code",
   "execution_count": 3,
   "metadata": {},
   "outputs": [],
   "source": [
    "# using cython (the following code is identical to the previous on)\n",
    "%load_ext Cython"
   ]
  },
  {
   "cell_type": "code",
   "execution_count": 4,
   "metadata": {},
   "outputs": [],
   "source": [
    "%%cython\n",
    "\n",
    "# Pure python code\n",
    "import numpy as np\n",
    "\n",
    "def naive_convolve_cython(f, g):   \n",
    "    # f is an image and is indexed by (i, j)\n",
    "    # g is a filter kernel and is indexed by (x, y); it needs odd dimensions\n",
    "    # h is the output image and is indexed by (i, j)\n",
    "    \n",
    "    if g.shape[0] % 2 != 1 or g.shape[1] % 2 != 1:\n",
    "        raise ValueError(\"Only odd dimensions on filter supported\")\n",
    "    \n",
    "    # dimensions of the image and filter\n",
    "    (fx_max, fy_max) = f.shape\n",
    "    (gx_max, gy_max) = g.shape\n",
    "    \n",
    "    # allocate the result image\n",
    "    h = np.zeros([fx_max, fy_max], dtype=float)\n",
    "    \n",
    "    # do convolution\n",
    "    for i in range(fx_max):\n",
    "        for j in range(fy_max):\n",
    "            # Calculate the pixel value h(i,j)             \n",
    "            value = 0\n",
    "            for x in range(0, min(i, gx_max)):\n",
    "                for y in range(0, min(j, gy_max)):\n",
    "                    value += g[x, y] * f[i - x, j - y]\n",
    "            h[i, j] = value\n",
    "    return h"
   ]
  },
  {
   "cell_type": "code",
   "execution_count": 5,
   "metadata": {},
   "outputs": [
    {
     "name": "stdout",
     "output_type": "stream",
     "text": [
      "610 ms ± 7.74 ms per loop (mean ± std. dev. of 7 runs, 1 loop each)\n"
     ]
    }
   ],
   "source": [
    "from matplotlib import pyplot as plt\n",
    "\n",
    "Ic = np.random.uniform(low=0, high=1.0, size=((250, 250)))\n",
    "Gc = np.ones((5, 5)) * (1/25)\n",
    "%timeit naive_convolve_cython(Ic, Gc)\n",
    "Hc = naive_convolve_cython(Ic, Gc)\n",
    "\n",
    "plt.subplot(1, 2, 1)\n",
    "plt.imshow(Ic)\n",
    "plt.axis('off')\n",
    "plt.subplot(1, 2, 2)\n",
    "plt.imshow(Hc)\n",
    "plt.axis('off')\n",
    "\n",
    "plt.show()"
   ]
  },
  {
   "cell_type": "markdown",
   "metadata": {},
   "source": [
    "- We now add Cython data types to the code. The new code will no longer be compatible with Python.  \n",
    "\n",
    "- The most important change is to use variables that have the same data type as the elements of the NumPy arrays."
   ]
  },
  {
   "cell_type": "code",
   "execution_count": null,
   "metadata": {},
   "outputs": [],
   "source": [
    "# compiling with cython using ctypes\n",
    "%load_ext Cython"
   ]
  },
  {
   "cell_type": "code",
   "execution_count": null,
   "metadata": {},
   "outputs": [],
   "source": [
    "%%cython --annotate\n",
    "import numpy as np\n",
    "cimport numpy as np # need to import special compile-time information\n",
    "\n",
    "def naive_convolve_cython_with_ctypes(np.ndarray f, np.ndarray g): # the arrays type are provided\n",
    "    # f is an image and is indexed by (i, j)\n",
    "    # g is a filter kernel and is indexed by (x, y); it needs odd dimensions\n",
    "    # h is the output image and is indexed by (i, j)\n",
    "    \n",
    "    if g.shape[0] % 2 != 1 or g.shape[1] % 2 != 1:\n",
    "        raise ValueError(\"Only odd dimensions on filter supported\")\n",
    "    \n",
    "    # dimensions of the image and filter\n",
    "    # the variables are stated now using cdef\n",
    "    cdef int fx_max = f.shape[0]\n",
    "    cdef int fy_max = f.shape[1]\n",
    "    cdef int gx_max = g.shape[0]\n",
    "    cdef int gy_max = g.shape[1]\n",
    "    \n",
    "    # stating the type of the variables in for-loops allows \n",
    "    # for a more optimized conversion to a C loop\n",
    "    cdef int i  \n",
    "    cdef int j\n",
    "    cdef int x\n",
    "    cdef int y\n",
    "    cdef double value\n",
    "\n",
    "    # allocate the result image\n",
    "    cdef np.ndarray h = np.zeros([fx_max, fy_max], dtype=float)\n",
    "    \n",
    "    # do convolution\n",
    "    for i in range(fx_max):\n",
    "        for j in range(fy_max):\n",
    "            # Calculate the pixel value h(i,j)             \n",
    "            value = 0\n",
    "            for x in range(0, min(i, gx_max)):\n",
    "                for y in range(0, min(j, gy_max)):\n",
    "                    value += g[x, y] * f[i - x, j - y]\n",
    "            h[i, j] = value\n",
    "    return h"
   ]
  },
  {
   "cell_type": "code",
   "execution_count": null,
   "metadata": {},
   "outputs": [],
   "source": [
    "from matplotlib import pyplot as plt\n",
    "\n",
    "Ict = np.random.uniform(low=0, high=1.0, size=((250, 250)))\n",
    "Gct = np.ones((5, 5))* (1/25)\n",
    "%timeit naive_convolve_cython_with_ctypes(Ict,Gct)\n",
    "Hct = naive_convolve_cython_with_ctypes(Ict,Gct)\n",
    "\n",
    "plt.subplot(1, 2, 1)\n",
    "plt.imshow(Ict)\n",
    "plt.axis('off')\n",
    "plt.subplot(1, 2, 2)\n",
    "plt.imshow(Hct)\n",
    "plt.axis('off')\n",
    "\n",
    "plt.show()"
   ]
  },
  {
   "cell_type": "markdown",
   "metadata": {},
   "source": [
    "### Efficient Indexing\n",
    "\n",
    "- Still a bottleneck: the array lookups and assignments. \n",
    "\n",
    "- The []-operator still uses full Python operations;\n",
    "\n",
    "- Instead access the data buffer directly (at the speed of C)\n",
    "\n",
    "- Need to do is to type the contents of the ndarray objects; \n",
    "\n",
    "- We do this with a special “buffer” syntax which must be told:\n",
    "\n",
    "- (i) the datatype (first argument), and \n",
    "\n",
    "- (ii) number of dimensions (“ndim” keyword-only argument, if not provided then one-dimensional is assumed).\n"
   ]
  },
  {
   "cell_type": "code",
   "execution_count": null,
   "metadata": {},
   "outputs": [],
   "source": [
    "# compiling with cython typing the content of ndarray objects\n",
    "%load_ext Cython"
   ]
  },
  {
   "cell_type": "code",
   "execution_count": null,
   "metadata": {},
   "outputs": [],
   "source": [
    "%%cython\n",
    "import numpy as np\n",
    "cimport numpy as np # need to import special compile-time information\n",
    "# cimport cython\n",
    "\n",
    "# @cython.boundscheck(False)\n",
    "def naive_convolve_cython_with_ctypes_and_typing_ndarray(np.ndarray[double, ndim=2] f, \n",
    "                                                         np.ndarray[double, ndim=2] g): \n",
    "    # the arrays type are provided\n",
    "    # f is an image and is indexed by (i, j)\n",
    "    # g is a filter kernel and is indexed by (x, y); it needs odd dimensions\n",
    "    # h is the output image and is indexed by (i, j)\n",
    "    \n",
    "    if g.shape[0] % 2 != 1 or g.shape[1] % 2 != 1:\n",
    "        raise ValueError(\"Only odd dimensions on filter supported\")\n",
    "    \n",
    "    # dimensions of the image and filter\n",
    "    # the variables are stated now using cdef\n",
    "    cdef int fx_max = f.shape[0]\n",
    "    cdef int fy_max = f.shape[1]\n",
    "    cdef int gx_max = g.shape[0]\n",
    "    cdef int gy_max = g.shape[1]\n",
    "    \n",
    "    # stating the type of the variables in for-loops allows \n",
    "    # for a more optimized conversion to a C loop\n",
    "    cdef int i  \n",
    "    cdef int j\n",
    "    cdef int x\n",
    "    cdef int y\n",
    "    cdef double value\n",
    "\n",
    "    # allocate the result image\n",
    "    cdef np.ndarray[double, ndim=2] h = np.zeros([fx_max, fy_max], dtype=float)\n",
    "    \n",
    "    # do convolution\n",
    "    for i in range(fx_max):\n",
    "        for j in range(fy_max):\n",
    "            # Calculate the pixel value h(i,j)            \n",
    "            value = 0\n",
    "            for x in range(0, min(i, gx_max)):\n",
    "                for y in range(0, min(j, gy_max)):\n",
    "                    value += g[x, y] * f[i - x, j - y]\n",
    "            h[i, j] = value\n",
    "    return h"
   ]
  },
  {
   "cell_type": "code",
   "execution_count": null,
   "metadata": {},
   "outputs": [],
   "source": [
    "from matplotlib import pyplot as plt\n",
    "\n",
    "Ictt = np.random.uniform(low=0, high=1.0, size=((250, 250))).astype(float)\n",
    "Gctt = (np.ones((5, 5)) * (1/25)).astype(np.float)\n",
    "\n",
    "%timeit naive_convolve_cython_with_ctypes_and_typing_ndarray(Ictt,Gctt)\n",
    "Hctt = naive_convolve_cython_with_ctypes_and_typing_ndarray(Ictt,Gctt)\n",
    "\n",
    "plt.subplot(1, 2, 1)\n",
    "plt.imshow(Ictt)\n",
    "plt.axis('off')\n",
    "plt.subplot(1, 2, 2)\n",
    "plt.imshow(Hctt)\n",
    "plt.axis('off')\n",
    "\n",
    "plt.show()"
   ]
  },
  {
   "cell_type": "code",
   "execution_count": null,
   "metadata": {},
   "outputs": [],
   "source": []
  }
 ],
 "metadata": {
  "kernelspec": {
   "display_name": "Python 3 (ipykernel)",
   "language": "python",
   "name": "python3"
  },
  "language_info": {
   "codemirror_mode": {
    "name": "ipython",
    "version": 3
   },
   "file_extension": ".py",
   "mimetype": "text/x-python",
   "name": "python",
   "nbconvert_exporter": "python",
   "pygments_lexer": "ipython3",
   "version": "3.8.16"
  }
 },
 "nbformat": 4,
 "nbformat_minor": 2
}
