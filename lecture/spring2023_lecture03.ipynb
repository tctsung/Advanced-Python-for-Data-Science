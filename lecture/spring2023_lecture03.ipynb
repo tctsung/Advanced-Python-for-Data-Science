{
 "cells": [
  {
   "cell_type": "markdown",
   "metadata": {
    "slideshow": {
     "slide_type": "slide"
    }
   },
   "source": [
    "# DS-GA 1019\n",
    "\n",
    "# Lecture 3 - The itertools Module\n",
    "## Feb. 8, 2021\n",
    "see: http://alberto.bietti.me/python-itertools/"
   ]
  },
  {
   "cell_type": "markdown",
   "metadata": {
    "slideshow": {
     "slide_type": "slide"
    }
   },
   "source": [
    "# Before we start\n",
    "\n",
    "* Questions about previous topics?\n",
    "* Questions about homework?\n",
    "* Any other feedback?"
   ]
  },
  {
   "cell_type": "markdown",
   "metadata": {
    "slideshow": {
     "slide_type": "slide"
    }
   },
   "source": [
    "# This class\n",
    "\n",
    "- The concept of iterators\n",
    "- Infinite Iterators\n",
    "- Finite Iterators\n",
    "- Combinatoric Generators"
   ]
  },
  {
   "cell_type": "markdown",
   "metadata": {
    "slideshow": {
     "slide_type": "slide"
    }
   },
   "source": [
    "## Arrays/lists vs iterators\n",
    "\n",
    "- When creating an array (as well as a list or tuple), we first have to allocate a block of system memory\n",
    "to store these elments.  \n",
    "\n",
    "- When we only need to iterate through a list, there might be no need to store it\n",
    "\n"
   ]
  },
  {
   "cell_type": "markdown",
   "metadata": {
    "slideshow": {
     "slide_type": "slide"
    }
   },
   "source": [
    "---\n",
    "\n",
    "The __itertools__ module implements a number of iterator building blocks that provide fast, memory efficient tools.\n",
    "\n",
    "\n",
    "A generator behaves like a list of values, with some **important differences**:\n",
    "\n",
    "- The values are generated on demand (sequence is not stored in memory)\n",
    "- The values can only be accessed in sequence (not like an array)\n",
    "- The values can only be accessed once\n",
    "\n",
    "\n",
    "\n",
    "An iterator is an object that provides two methods:\n",
    "\n",
    "- __iter__ which returns the iterator itself\n",
    "- __next__ which returns the next value from the iterator\n",
    "\n"
   ]
  },
  {
   "cell_type": "code",
   "execution_count": 2,
   "metadata": {
    "slideshow": {
     "slide_type": "slide"
    }
   },
   "outputs": [
    {
     "name": "stdout",
     "output_type": "stream",
     "text": [
      "a\n",
      "b\n",
      "['c', 'd', 'e', 'f']\n"
     ]
    },
    {
     "ename": "StopIteration",
     "evalue": "",
     "output_type": "error",
     "traceback": [
      "\u001b[0;31m---------------------------------------------------------------------------\u001b[0m",
      "\u001b[0;31mStopIteration\u001b[0m                             Traceback (most recent call last)",
      "Cell \u001b[0;32mIn[2], line 5\u001b[0m\n\u001b[1;32m      3\u001b[0m \u001b[38;5;28mprint\u001b[39m(\u001b[38;5;28mnext\u001b[39m(it))         \u001b[38;5;66;03m# b\u001b[39;00m\n\u001b[1;32m      4\u001b[0m \u001b[38;5;28mprint\u001b[39m([e \u001b[38;5;28;01mfor\u001b[39;00m e \u001b[38;5;129;01min\u001b[39;00m it])  \u001b[38;5;66;03m# the rest: cdef\u001b[39;00m\n\u001b[0;32m----> 5\u001b[0m \u001b[38;5;28mprint\u001b[39m(\u001b[43mit\u001b[49m\u001b[38;5;241;43m.\u001b[39;49m\u001b[38;5;21;43m__next__\u001b[39;49m\u001b[43m(\u001b[49m\u001b[43m)\u001b[49m)    \u001b[38;5;66;03m# ERROR because finish iteration\u001b[39;00m\n\u001b[1;32m      7\u001b[0m \u001b[38;5;66;03m# # first 8 elements\u001b[39;00m\n\u001b[1;32m      8\u001b[0m \u001b[38;5;66;03m# print(it.__next__())\u001b[39;00m\n\u001b[1;32m      9\u001b[0m \u001b[38;5;66;03m# print(it.__next__())\u001b[39;00m\n\u001b[0;32m   (...)\u001b[0m\n\u001b[1;32m     20\u001b[0m \u001b[38;5;66;03m# # at this point the iterator is completed\u001b[39;00m\n\u001b[1;32m     21\u001b[0m \u001b[38;5;66;03m# print(it.__next__())\u001b[39;00m\n",
      "\u001b[0;31mStopIteration\u001b[0m: "
     ]
    }
   ],
   "source": [
    "it = iter('abcdef')\n",
    "print(it.__next__())    # a\n",
    "print(next(it))         # b\n",
    "print([e for e in it])  # the rest: ['c','d','e','f']\n",
    "print(it.__next__())    # ERROR because finish iteration"
   ]
  },
  {
   "cell_type": "code",
   "execution_count": 1,
   "metadata": {},
   "outputs": [
    {
     "name": "stdout",
     "output_type": "stream",
     "text": [
      "a\n",
      "d\n",
      "v\n",
      "a\n",
      "n\n",
      "c\n",
      "e\n",
      "\n",
      "lst: ['d', '_', 'p', 'y', 't', 'h', 'o', 'n']\n"
     ]
    },
    {
     "ename": "StopIteration",
     "evalue": "",
     "output_type": "error",
     "traceback": [
      "\u001b[0;31m---------------------------------------------------------------------------\u001b[0m",
      "\u001b[0;31mStopIteration\u001b[0m                             Traceback (most recent call last)",
      "Cell \u001b[0;32mIn[1], line 17\u001b[0m\n\u001b[1;32m     14\u001b[0m \u001b[38;5;28mprint\u001b[39m(\u001b[38;5;124m\"\u001b[39m\u001b[38;5;130;01m\\n\u001b[39;00m\u001b[38;5;124mlst: \u001b[39m\u001b[38;5;132;01m%s\u001b[39;00m\u001b[38;5;124m\"\u001b[39m \u001b[38;5;241m%\u001b[39m lst)\n\u001b[1;32m     16\u001b[0m \u001b[38;5;66;03m# at this point the iterator is completed\u001b[39;00m\n\u001b[0;32m---> 17\u001b[0m \u001b[38;5;28mprint\u001b[39m(\u001b[43mit\u001b[49m\u001b[38;5;241;43m.\u001b[39;49m\u001b[38;5;21;43m__next__\u001b[39;49m\u001b[43m(\u001b[49m\u001b[43m)\u001b[49m)\n",
      "\u001b[0;31mStopIteration\u001b[0m: "
     ]
    }
   ],
   "source": [
    "it = iter('advanced_python')\n",
    "\n",
    "# first 8 elements\n",
    "print(next(it))\n",
    "print(next(it))\n",
    "print(next(it))\n",
    "print(next(it))\n",
    "print(next(it))\n",
    "print(next(it))\n",
    "print(next(it))\n",
    "\n",
    "# the rest\n",
    "lst = [e for e in it]\n",
    "print(\"\\nlst: %s\" % lst)\n",
    "\n",
    "# at this point the iterator is completed\n",
    "print(it.__next__())"
   ]
  },
  {
   "cell_type": "code",
   "execution_count": 2,
   "metadata": {
    "slideshow": {
     "slide_type": "slide"
    }
   },
   "outputs": [
    {
     "name": "stdout",
     "output_type": "stream",
     "text": [
      "['a', 'd', 'v', 'a', 'n', 'c', 'e', 'd', '_', 'p', 'y', 't', 'h', 'o', 'n']\n",
      "[]\n"
     ]
    }
   ],
   "source": [
    "it = iter('advanced_python')\n",
    "print(list(it))\n",
    "    \n",
    "# At this point the iterator is finished\n",
    "print(list(it))"
   ]
  },
  {
   "cell_type": "code",
   "execution_count": 12,
   "metadata": {
    "slideshow": {
     "slide_type": "slide"
    }
   },
   "outputs": [
    {
     "name": "stdout",
     "output_type": "stream",
     "text": [
      "0 a\n",
      "1 d\n",
      "2 v\n",
      "3 a\n",
      "4 n\n",
      "5 c\n",
      "6 e\n",
      "7 d\n",
      "8 _\n",
      "9 p\n",
      "10 y\n",
      "11 t\n",
      "12 h\n",
      "13 o\n",
      "14 n\n"
     ]
    }
   ],
   "source": [
    "#enumerate() method adds a counter to an iterable \n",
    "it = iter('advanced_python')\n",
    "\n",
    "for i, elem in enumerate(it): # idx & ele\n",
    "    print(i, elem)\n"
   ]
  },
  {
   "cell_type": "code",
   "execution_count": 13,
   "metadata": {
    "slideshow": {
     "slide_type": "slide"
    }
   },
   "outputs": [
    {
     "name": "stdout",
     "output_type": "stream",
     "text": [
      "0\n",
      "1\n",
      "2\n",
      "3\n",
      "4\n",
      "5\n",
      "6\n",
      "7\n",
      "8\n",
      "9\n"
     ]
    }
   ],
   "source": [
    "# Additionally look at: \n",
    "for i in range(10): \n",
    "    print(i)\n",
    "    # some_work(i)"
   ]
  },
  {
   "cell_type": "markdown",
   "metadata": {
    "slideshow": {
     "slide_type": ""
    }
   },
   "source": [
    "---\n",
    "\n",
    "### range() vs xrange()\n",
    "\n",
    "#### In Python2: \n",
    "\n",
    "- range(): returns a list  \n",
    "- xrange(): returns a generator object (Prof: not generator)\n",
    "    \n",
    "#### In Python3: \n",
    "- there is no xrange, and range returns a generator (Prof: not generator)"
   ]
  },
  {
   "cell_type": "code",
   "execution_count": 14,
   "metadata": {
    "slideshow": {
     "slide_type": "slide"
    }
   },
   "outputs": [],
   "source": [
    "# returns a list\n",
    "\n",
    "def demo_range(start, stop, step=1):\n",
    "    numbers = []\n",
    "    while start < stop:\n",
    "        numbers.append(start)\n",
    "        start += step\n",
    "    return numbers"
   ]
  },
  {
   "cell_type": "markdown",
   "metadata": {
    "slideshow": {
     "slide_type": "slide"
    }
   },
   "source": [
    "---\n",
    "\n",
    "- Note that the range implementation must create/allocate the list of all numbers within the range.\n",
    "\n",
    "- We use memory for \"all numbers\".\n"
   ]
  },
  {
   "cell_type": "code",
   "execution_count": 6,
   "metadata": {
    "slideshow": {
     "slide_type": "slide"
    }
   },
   "outputs": [],
   "source": [
    "# returns a generator\n",
    "\n",
    "def demo_xrange(start, stop, step=1):\n",
    "    while start < stop:\n",
    "        yield start      # -> yield gives a generator (check online)\n",
    "        start += step\n",
    "        \n",
    "# We do not precreate the list of all numbers within the range.\n",
    "# We do not use memory for \"all numbers\"."
   ]
  },
  {
   "cell_type": "markdown",
   "metadata": {
    "slideshow": {
     "slide_type": "slide"
    }
   },
   "source": [
    "\n",
    "----\n",
    "\n",
    "- The generator is able to 'return' many values. \n",
    "\n",
    "- Every time the code gets to the yield, the function emits its value\n",
    "\n",
    "- when another value is requested the function resumes running (maintaining its previous state) and emits the new value."
   ]
  },
  {
   "cell_type": "code",
   "execution_count": 21,
   "metadata": {
    "slideshow": {
     "slide_type": "slide"
    }
   },
   "outputs": [
    {
     "name": "stdout",
     "output_type": "stream",
     "text": [
      "divisible_by_three: 334\n"
     ]
    }
   ],
   "source": [
    "# how many numbers in list_of_numbers are divisible by 3?\n",
    "\n",
    "list_of_numbers = demo_range(0, 1000)\n",
    "divisible_by_three = len([n for n in list_of_numbers if n % 3 == 0])\n",
    "\n",
    "print(\"divisible_by_three:\", divisible_by_three)"
   ]
  },
  {
   "cell_type": "code",
   "execution_count": 20,
   "metadata": {},
   "outputs": [
    {
     "name": "stdout",
     "output_type": "stream",
     "text": [
      "divisible_by_three: 334\n"
     ]
    }
   ],
   "source": [
    "# how many numbers in list_of_numbers are divisible by 3?\n",
    "\n",
    "list_of_numbers = demo_xrange(0, 1000)\n",
    "divisible_by_three = len([n for n in list_of_numbers if n % 3 == 0])\n",
    "\n",
    "print(\"divisible_by_three:\", divisible_by_three)"
   ]
  },
  {
   "cell_type": "markdown",
   "metadata": {
    "slideshow": {
     "slide_type": "slide"
    }
   },
   "source": [
    "## List vs generator comprehensions\n",
    "\n",
    "List:\n",
    "\n",
    "```[ <value> for <item> in <sequence> if <condition> ]```\n",
    "\n",
    "Generator:\n",
    "\n",
    "```( <value> for <item> in <sequence> if <condition> )```"
   ]
  },
  {
   "cell_type": "code",
   "execution_count": 31,
   "metadata": {},
   "outputs": [
    {
     "data": {
      "text/plain": [
       "<generator object <genexpr> at 0x7fda880485f0>"
      ]
     },
     "execution_count": 31,
     "metadata": {},
     "output_type": "execute_result"
    }
   ],
   "source": [
    "(i for i in list(range(10)))"
   ]
  },
  {
   "cell_type": "code",
   "execution_count": 32,
   "metadata": {},
   "outputs": [
    {
     "name": "stdout",
     "output_type": "stream",
     "text": [
      "generator: <generator object <genexpr> at 0x7fdaa82aa890>\n",
      "334\n"
     ]
    }
   ],
   "source": [
    "generator = (1 for n in list_of_numbers if n % 3 == 0)\n",
    "print(\"generator:\", generator)\n",
    "divisible_by_three = sum(generator)\n",
    "print(divisible_by_three)\n",
    "\n",
    "#Here, we have a generator that emits a value of 1 whenever it encounters a number divisible by 3, \n",
    "# and nothing otherwise."
   ]
  },
  {
   "cell_type": "code",
   "execution_count": 4,
   "metadata": {},
   "outputs": [
    {
     "name": "stdout",
     "output_type": "stream",
     "text": [
      "0\n",
      "1\n",
      "2\n",
      "3\n",
      "4\n"
     ]
    },
    {
     "data": {
      "text/plain": [
       "0"
      ]
     },
     "execution_count": 4,
     "metadata": {},
     "output_type": "execute_result"
    }
   ],
   "source": [
    "# at this point, generator is completed\n",
    "generator = (x for x in range(3))\n",
    "for e in generator:\n",
    "    print(e)\n",
    "\n",
    "sum(generator)"
   ]
  },
  {
   "cell_type": "code",
   "execution_count": 14,
   "metadata": {},
   "outputs": [
    {
     "name": "stdout",
     "output_type": "stream",
     "text": [
      "64\n"
     ]
    },
    {
     "data": {
      "text/plain": [
       "tuple"
      ]
     },
     "execution_count": 14,
     "metadata": {},
     "output_type": "execute_result"
    }
   ],
   "source": [
    "import sys\n",
    "x1 = (0,1,2)\n",
    "print(sys.getsizeof(x1))\n",
    "sys.getsizeof((x for x in range(3)))"
   ]
  },
  {
   "cell_type": "markdown",
   "metadata": {},
   "source": [
    "## Infinite Iterators\n",
    "__itertools__ package comes with three iterators that can iterate infinitely.\n",
    "- useful for generating numbers or cycling over iterables of unknown length\n",
    "- infinite iterators need to be stopped"
   ]
  },
  {
   "cell_type": "markdown",
   "metadata": {},
   "source": [
    "#### itertools.count(start,step)  \n",
    "https://docs.python.org/3/library/itertools.html#itertools.count"
   ]
  },
  {
   "cell_type": "code",
   "execution_count": 3,
   "metadata": {},
   "outputs": [
    {
     "name": "stdout",
     "output_type": "stream",
     "text": [
      "10\n",
      "13\n",
      "16\n",
      "19\n",
      "22\n",
      "25\n",
      "28\n",
      "31\n"
     ]
    }
   ],
   "source": [
    "from itertools import count\n",
    "# count(start, step)\n",
    "for i in count(10, 3):  # infinite\n",
    "    print(i)\n",
    "    if i >= 30: break\n",
    "        "
   ]
  },
  {
   "cell_type": "markdown",
   "metadata": {},
   "source": [
    "#### itertools.islice(seq, [start,] stop [, step])   \n",
    "\n",
    "https://docs.python.org/3/library/itertools.html#itertools.islice\n",
    "\n",
    "Make an iterator that returns selected elements from the iterable.  \n"
   ]
  },
  {
   "cell_type": "code",
   "execution_count": 4,
   "metadata": {},
   "outputs": [
    {
     "name": "stdout",
     "output_type": "stream",
     "text": [
      "[10, 13, 16, 19, 22]\n",
      "[10, 13, 16, 19, 22, 25, 28, 31, 34, 37]\n",
      "[25, 28, 31, 34, 37]\n"
     ]
    }
   ],
   "source": [
    "from itertools import islice  # slice the iterator\n",
    "# islice(iter_obj, num of ele)\n",
    "print(list(islice(count(10, 3), 5)))     # first 5 elements \n",
    "print(list(islice(count(10, 3), 10)))    # first 10 elements \n",
    "print(list(islice(count(10, 3), 5, 10))) # second 5 elements: from 5th to 9th element included"
   ]
  },
  {
   "cell_type": "code",
   "execution_count": 39,
   "metadata": {},
   "outputs": [
    {
     "name": "stdout",
     "output_type": "stream",
     "text": [
      "[10, 13, 16, 19, 22, 25, 28, 31, 34, 37]\n",
      "[19, 25, 31, 37]\n"
     ]
    }
   ],
   "source": [
    "# itertools.islice(seq, [start,] stop [,step])\n",
    "\n",
    "print(list(islice(count(10, 3), 10)))       # first 10 elements \n",
    "print(list(islice(count(10, 3), 3, 10, 2))) # from 3rd to 9th element (including those), every second element "
   ]
  },
  {
   "cell_type": "markdown",
   "metadata": {},
   "source": [
    "**None**: \"If stop is None, then iteration continues until the iterator is exhausted, if at all; otherwise, it stops at the specified position.\""
   ]
  },
  {
   "cell_type": "code",
   "execution_count": 5,
   "metadata": {},
   "outputs": [
    {
     "name": "stdout",
     "output_type": "stream",
     "text": [
      "['A', 'B', 'C', 'D', 'E', 'F', 'G']\n"
     ]
    }
   ],
   "source": [
    "# print(list(islice('ABCDEFG', 2, None)))\n",
    "print(list(islice('ABCDEFG', 100))) # and len('ABCDEFG') = 7\n",
    "# -> only 7 because exceed the range"
   ]
  },
  {
   "cell_type": "markdown",
   "metadata": {},
   "source": [
    "#### itertools.cycle(seq)\n",
    "\n",
    "https://docs.python.org/3/library/itertools.html#itertools.cycle"
   ]
  },
  {
   "cell_type": "code",
   "execution_count": 44,
   "metadata": {},
   "outputs": [
    {
     "name": "stdout",
     "output_type": "stream",
     "text": [
      "['a', 'b', 'c', 'a', 'b', 'c', 'a', 'b', 'c', 'a', 'b', 'c']\n"
     ]
    }
   ],
   "source": [
    "from itertools import cycle\n",
    "\n",
    "print(list(islice(cycle('abc'), 12)))  # cycle through abs until len=12"
   ]
  },
  {
   "cell_type": "code",
   "execution_count": 45,
   "metadata": {},
   "outputs": [
    {
     "name": "stdout",
     "output_type": "stream",
     "text": [
      "['advanced', 'python', 'for', 'data', 'science', 'advanced', 'python', 'for', 'data', 'science']\n"
     ]
    }
   ],
   "source": [
    "# iterators can be used in different ways\n",
    "lst = ['advanced','python','for','data','science']\n",
    "print(list(islice(cycle(lst), 10)))"
   ]
  },
  {
   "cell_type": "markdown",
   "metadata": {},
   "source": [
    "#### itertools.repeat(elem [,times])\n",
    "\n",
    "https://docs.python.org/3/library/itertools.html#itertools.repeat"
   ]
  },
  {
   "cell_type": "code",
   "execution_count": 46,
   "metadata": {},
   "outputs": [
    {
     "name": "stdout",
     "output_type": "stream",
     "text": [
      "['abcde', 'abcde', 'abcde', 'abcde', 'abcde']\n"
     ]
    }
   ],
   "source": [
    "from itertools import repeat\n",
    "\n",
    "# repeat an object: e.g. string\n",
    "\n",
    "print(list(repeat('abcde', 5)))"
   ]
  },
  {
   "cell_type": "code",
   "execution_count": 47,
   "metadata": {},
   "outputs": [
    {
     "name": "stdout",
     "output_type": "stream",
     "text": [
      "[['CDS', 'Courant', 'NYU'], ['CDS', 'Courant', 'NYU'], ['CDS', 'Courant', 'NYU'], ['CDS', 'Courant', 'NYU'], ['CDS', 'Courant', 'NYU']]\n"
     ]
    }
   ],
   "source": [
    "# repeat an object: e.g. list\n",
    "print(list(repeat(['CDS', 'Courant', 'NYU'], 5)))\n"
   ]
  },
  {
   "cell_type": "markdown",
   "metadata": {},
   "source": [
    "## Finite Iterators\n",
    "itertools also has a number of iterators that terminate."
   ]
  },
  {
   "cell_type": "markdown",
   "metadata": {},
   "source": [
    "#### itertools.accumulate(seq [, func])"
   ]
  },
  {
   "cell_type": "code",
   "execution_count": 48,
   "metadata": {},
   "outputs": [
    {
     "name": "stdout",
     "output_type": "stream",
     "text": [
      "[1, 3, 6, 10, 15, 21, 28, 36, 45, 55]\n"
     ]
    }
   ],
   "source": [
    "from itertools import accumulate\n",
    "# accumulate all the iterators together\n",
    "print(list(accumulate(range(1, 11)))) # 1, 1 + 2, 1 + 2 + 3, 1 + 2 + 3 + 4,..."
   ]
  },
  {
   "cell_type": "code",
   "execution_count": 49,
   "metadata": {},
   "outputs": [
    {
     "name": "stdout",
     "output_type": "stream",
     "text": [
      "[1, 2, 6, 24, 120, 720, 5040, 40320, 362880, 3628800]\n"
     ]
    }
   ],
   "source": [
    "import operator\n",
    "\n",
    "print(list(accumulate(range(1, 11), operator.mul))) # 1, 1 * 2, 1 * 2 * 3, 1 * 2 * 3 * 4"
   ]
  },
  {
   "cell_type": "code",
   "execution_count": 51,
   "metadata": {},
   "outputs": [
    {
     "name": "stdout",
     "output_type": "stream",
     "text": [
      "['c', 'cd', 'cds', 'cds_', 'cds_n', 'cds_ny', 'cds_nyu']\n",
      "['python ', 'python python ', 'python python python ']\n"
     ]
    }
   ],
   "source": [
    "# it can also handle non-numeric lists such as strings\n",
    "\n",
    "print(list(accumulate('cds_nyu')))\n",
    "\n",
    "print(list(accumulate(repeat('python ', 3))))"
   ]
  },
  {
   "cell_type": "markdown",
   "metadata": {},
   "source": [
    "More examples here: https://docs.python.org/3/library/itertools.html#itertools.accumulate"
   ]
  },
  {
   "cell_type": "markdown",
   "metadata": {},
   "source": [
    "#### itertools.chain(*iterables)  "
   ]
  },
  {
   "cell_type": "code",
   "execution_count": 54,
   "metadata": {},
   "outputs": [
    {
     "name": "stdout",
     "output_type": "stream",
     "text": [
      "['foo', 'bar', 'ls', '/some/dir', 0, 1, 2, 3, 4]\n"
     ]
    }
   ],
   "source": [
    "my_list = ['foo', 'bar']\n",
    "cmd = ['ls', '/some/dir']\n",
    "numbers = list(range(5))\n",
    "my_list.extend(cmd)\n",
    "my_list.extend(numbers)\n",
    "\n",
    "print(my_list)"
   ]
  },
  {
   "cell_type": "markdown",
   "metadata": {},
   "source": [
    "The chain iterator takes a series of iterables and flattens them down into one long iterable."
   ]
  },
  {
   "cell_type": "code",
   "execution_count": 59,
   "metadata": {},
   "outputs": [
    {
     "name": "stdout",
     "output_type": "stream",
     "text": [
      "['foo', 'bar', 'ls', '/some/dir', 0, 1, 2, 3, 4]\n"
     ]
    }
   ],
   "source": [
    "from itertools import chain\n",
    "\n",
    "my_list = list(chain(['foo', 'bar'], cmd, numbers))\n",
    "\n",
    "print(my_list)"
   ]
  },
  {
   "cell_type": "code",
   "execution_count": 60,
   "metadata": {},
   "outputs": [
    {
     "name": "stdout",
     "output_type": "stream",
     "text": [
      "['f', 'o', 'o', 'b', 'a', 'r']\n"
     ]
    }
   ],
   "source": [
    "my_list = list(chain('foo', 'bar'))\n",
    "\n",
    "print(my_list)"
   ]
  },
  {
   "cell_type": "markdown",
   "metadata": {},
   "source": [
    "#### itertools.compress(seq, selectors)\n",
    "Useful for filtering an iterable using a second boolean iterable (i.e. an indicator)\n",
    "\n",
    "https://docs.python.org/3/library/itertools.html#itertools.compress\n"
   ]
  },
  {
   "cell_type": "code",
   "execution_count": 62,
   "metadata": {},
   "outputs": [
    {
     "name": "stdout",
     "output_type": "stream",
     "text": [
      "13 10\n",
      "['A', 'B', 'D', 'F', 'G', 'H', 'J']\n"
     ]
    }
   ],
   "source": [
    "from itertools import compress\n",
    "\n",
    "letters = 'ABCDEFGHIJKJM'\n",
    "bools = [True, True, False, True, False, True, True, True, False, True]\n",
    "print(len(letters), len(bools))\n",
    "\n",
    "# notice the sizes do not need to match\n",
    "print(list(compress(letters, bools)))    # use the bool to filter the letters, size can diff"
   ]
  },
  {
   "cell_type": "code",
   "execution_count": 63,
   "metadata": {},
   "outputs": [
    {
     "name": "stdout",
     "output_type": "stream",
     "text": [
      "['A', 'E', 'I']\n"
     ]
    }
   ],
   "source": [
    "def either_aeiou(e):\n",
    "#     return (e == 'A') or (e == 'E') or (e == 'I') or (e == 'O') or (e == 'U')\n",
    "    return e in 'AEIOU'\n",
    "\n",
    "print(list(compress(letters, [either_aeiou(e) for e in letters])))"
   ]
  },
  {
   "cell_type": "markdown",
   "metadata": {},
   "source": [
    "---\n",
    "\n",
    "### itertools.dropwhile(predicate, seq)  \n",
    "\n",
    "- Drop the elements while the predicate is True; afterwards, returns every element.\n",
    "\n",
    "### itertools.takewhile(predicate, seq)  \n",
    "\n",
    "- Take the elements while the predicate is True"
   ]
  },
  {
   "cell_type": "code",
   "execution_count": 8,
   "metadata": {},
   "outputs": [
    {
     "name": "stdout",
     "output_type": "stream",
     "text": [
      "[1, 2, 3, 20]\n",
      "[6, 7, 8, 9, 10]\n"
     ]
    }
   ],
   "source": [
    "from itertools import dropwhile, takewhile\n",
    "\n",
    "print(list(dropwhile(lambda x: x > 5, [6, 7, 8, 9, 10, 1, 2, 3, 20]))) \n",
    "# remove when T, when 1st F -> returns the ele\n",
    "\n",
    "print(list(takewhile(lambda x: x > 5, [6, 7, 8, 9, 10, 1, 2, 3, 20]))) \n",
    "# keep when T, when 1st F -> remove the rest"
   ]
  },
  {
   "cell_type": "code",
   "execution_count": 66,
   "metadata": {},
   "outputs": [
    {
     "name": "stdout",
     "output_type": "stream",
     "text": [
      "lst_take_while: ['parrot', 'pelican']\n",
      "lst_drop_while: ['lion', 'cat', 'panther', 'dolphin', 'dog']\n"
     ]
    }
   ],
   "source": [
    "lst = ['parrot', 'pelican', 'lion', 'cat', 'panther', 'dolphin', 'dog']\n",
    "\n",
    "print(\"lst_take_while:\", list(takewhile(lambda word: word[0] == 'p', lst)))\n",
    "\n",
    "print(\"lst_drop_while:\", list(dropwhile(lambda word: word[0] == 'p', lst)))\n"
   ]
  },
  {
   "cell_type": "code",
   "execution_count": 10,
   "metadata": {},
   "outputs": [
    {
     "data": {
      "text/plain": [
       "[[2, 2], [4, 3], [1, 5]]"
      ]
     },
     "execution_count": 10,
     "metadata": {},
     "output_type": "execute_result"
    }
   ],
   "source": [
    "lst=[[1,5],[4,3],[2,2]]\n",
    "lst.sort(key=lambda x:x[1])\n",
    "# lst.sort()\n",
    "lst"
   ]
  },
  {
   "cell_type": "markdown",
   "metadata": {},
   "source": [
    "#### itertools.filterfalse(predicate, seq) \n",
    "\n",
    "https://docs.python.org/3/library/itertools.html#itertools.ifilterfalse\n",
    "\n",
    "Filter elements to keep only those for which the predicate is False (opposite behavior of `filter`)."
   ]
  },
  {
   "cell_type": "code",
   "execution_count": 69,
   "metadata": {},
   "outputs": [
    {
     "name": "stdout",
     "output_type": "stream",
     "text": [
      "[6, 7, 8, 9, 10, 20]\n"
     ]
    }
   ],
   "source": [
    "from itertools import filterfalse\n",
    "\n",
    "# filter *all* elements for which the predicate is false\n",
    "\n",
    "print(list(filterfalse(lambda x: x < 5, [6, 7, 8, 9, 10, 1, 2, 3, 20])))"
   ]
  },
  {
   "cell_type": "code",
   "execution_count": 70,
   "metadata": {},
   "outputs": [
    {
     "data": {
      "text/plain": [
       "[1, 2, 3]"
      ]
     },
     "execution_count": 70,
     "metadata": {},
     "output_type": "execute_result"
    }
   ],
   "source": [
    "# contrast with the standard function filter\n",
    "list(filter(lambda x: x < 5, [6, 7, 8, 9, 10, 1, 2, 3, 20]))"
   ]
  },
  {
   "cell_type": "markdown",
   "metadata": {},
   "source": [
    "#### itertools.groupby(seq, key=None)  \n",
    "https://docs.python.org/3/library/itertools.html#itertools.groupby  \n",
    "Make an iterator that returns consecutive keys and groups from the iterable.  \n",
    "`key` is a function computing a key value for each element."
   ]
  },
  {
   "cell_type": "code",
   "execution_count": 82,
   "metadata": {},
   "outputs": [
    {
     "name": "stdout",
     "output_type": "stream",
     "text": [
      "0 [0, 1, 2, 3, 4]\n",
      "1 [5, 6, 7, 8, 9]\n",
      "2 [10, 11, 12, 13, 14]\n",
      "3 [15, 16, 17, 18, 19]\n"
     ]
    }
   ],
   "source": [
    "from itertools import groupby\n",
    " \n",
    "numbers = range(20)\n",
    "# to group consecutive numbers from range(20) by the same **quotient** when divided by 5; \n",
    "# i.e. for x in range(20) group by x // 5\n",
    "\n",
    "for (key, group) in groupby(numbers, lambda x: x // 5):\n",
    "    print(key, list(group))"
   ]
  },
  {
   "cell_type": "code",
   "execution_count": 80,
   "metadata": {},
   "outputs": [
    {
     "name": "stdout",
     "output_type": "stream",
     "text": [
      "0 [0]\n",
      "1 [7, 6]\n",
      "3 [16]\n",
      "0 [2]\n",
      "1 [8, 5, 9]\n",
      "3 [17, 19]\n",
      "2 [12]\n",
      "0 [1]\n",
      "2 [11, 10]\n",
      "3 [15]\n",
      "0 [4]\n",
      "2 [14]\n",
      "0 [3]\n",
      "2 [13]\n",
      "3 [18]\n"
     ]
    }
   ],
   "source": [
    "import random\n",
    "\n",
    "from itertools import groupby\n",
    " \n",
    "numbers = list(range(20))\n",
    "random.shuffle(numbers)\n",
    "# to group consecutive numbers from range(20) by the same **quotient** when divided by 5; \n",
    "# i.e. for x in range(20) group by x // 5\n",
    "\n",
    "for (key, group) in groupby(numbers, lambda x: x // 5):\n",
    "    print(key, list(group))"
   ]
  },
  {
   "cell_type": "code",
   "execution_count": 83,
   "metadata": {
    "collapsed": true
   },
   "outputs": [
    {
     "name": "stdout",
     "output_type": "stream",
     "text": [
      "0 [0]\n",
      "1 [1]\n",
      "2 [2]\n",
      "3 [3]\n",
      "4 [4]\n",
      "0 [5]\n",
      "1 [6]\n",
      "2 [7]\n",
      "3 [8]\n",
      "4 [9]\n",
      "0 [10]\n",
      "1 [11]\n",
      "2 [12]\n",
      "3 [13]\n",
      "4 [14]\n",
      "0 [15]\n",
      "1 [16]\n",
      "2 [17]\n",
      "3 [18]\n",
      "4 [19]\n"
     ]
    }
   ],
   "source": [
    "# group the list of elements by the same **remainder** \n",
    "for (key, group) in groupby(numbers, lambda x: x % 5):\n",
    "    print(key, list(group))"
   ]
  },
  {
   "cell_type": "code",
   "execution_count": 84,
   "metadata": {},
   "outputs": [
    {
     "name": "stdout",
     "output_type": "stream",
     "text": [
      "0 [0, 5, 10, 15]\n",
      "1 [1, 6, 11, 16]\n",
      "2 [2, 7, 12, 17]\n",
      "3 [3, 8, 13, 18]\n",
      "4 [4, 9, 14, 19]\n"
     ]
    }
   ],
   "source": [
    "# combining the groups with same key\n",
    "import collections\n",
    "groups = collections.defaultdict(list)\n",
    "\n",
    "for (key, group) in groupby(numbers, lambda x: x % 5):\n",
    "    groups[key] += group\n",
    "\n",
    "for key, group in groups.items():\n",
    "    print(key, group)"
   ]
  },
  {
   "cell_type": "code",
   "execution_count": 87,
   "metadata": {},
   "outputs": [
    {
     "name": "stdout",
     "output_type": "stream",
     "text": [
      "0 [0, 5, 10, 15]\n",
      "1 [1, 6, 11, 16]\n",
      "2 [2, 7, 12, 17]\n",
      "3 [3, 8, 13, 18]\n",
      "4 [4, 9, 14, 19]\n"
     ]
    }
   ],
   "source": [
    "keyfn = lambda x: x % 5\n",
    "\n",
    "for (key, group) in groupby(sorted(numbers, key=keyfn), keyfn): # sorted need to return to keep change\n",
    "    print(key, list(group))"
   ]
  },
  {
   "cell_type": "markdown",
   "metadata": {},
   "source": [
    "#### itertools.starmap(function, seq)\n",
    "https://docs.python.org/3/library/itertools.html#itertools.starmap\n",
    "\n",
    "Iterator that computes the function using arguments obtained from the iterable. "
   ]
  },
  {
   "cell_type": "code",
   "execution_count": 88,
   "metadata": {},
   "outputs": [
    {
     "name": "stdout",
     "output_type": "stream",
     "text": [
      "3\n",
      "7\n",
      "11\n"
     ]
    }
   ],
   "source": [
    "from itertools import starmap\n",
    "\n",
    "# here is the iterable: [(1,2), (3,4), (5,6)]\n",
    "\n",
    "for item in starmap(lambda u, v: u + v, [(1, 2), (3, 4), (5, 6)]):\n",
    "    print(item)\n",
    "    \n",
    "# map vs. starmap\n",
    "# starmap is iterable"
   ]
  },
  {
   "cell_type": "code",
   "execution_count": 89,
   "metadata": {},
   "outputs": [
    {
     "name": "stdout",
     "output_type": "stream",
     "text": [
      "6\n",
      "12\n",
      "18\n"
     ]
    }
   ],
   "source": [
    "def add(u, v, w):\n",
    "    return u + v + w\n",
    "\n",
    "for item in starmap(add, [(1, 2, 3), (3, 4, 5), (5, 6, 7)]):\n",
    "    print(item)"
   ]
  },
  {
   "cell_type": "markdown",
   "metadata": {},
   "source": [
    "#### itertools.tee(seq, n=2)\n",
    "Creates n iterators from the given sequence"
   ]
  },
  {
   "cell_type": "code",
   "execution_count": 98,
   "metadata": {},
   "outputs": [
    {
     "name": "stdout",
     "output_type": "stream",
     "text": [
      "iterator:0\n",
      "ABCDE\n",
      "\n",
      "iterator:1\n",
      "ABCDE\n",
      "\n",
      "iterator:2\n",
      "ABCDE\n",
      "\n",
      "iterator:3\n",
      "ABCDE\n",
      "\n",
      "iterator:4\n",
      "ABCDE\n",
      "\n"
     ]
    }
   ],
   "source": [
    "from itertools import tee\n",
    "data = 'ABCDE'\n",
    "iters = tee(data, 5)  # create 5 same iterator \"data\" \n",
    "for i in range(5):\n",
    "    print(f'iterator:{i}')\n",
    "    for item in iters[i]:\n",
    "        print(item, end=\"\")\n",
    "    print(\"\\n\")"
   ]
  },
  {
   "cell_type": "markdown",
   "metadata": {},
   "source": [
    "#### itertools.zip_longest(*seq, fillvalue=None)  \n",
    "https://docs.python.org/3/library/itertools.html#itertools.izip_longest  \n",
    "An iterator that aggregates elements from each of the iterables.  "
   ]
  },
  {
   "cell_type": "code",
   "execution_count": 99,
   "metadata": {},
   "outputs": [
    {
     "data": {
      "text/plain": [
       "[('A', 'x', 0), ('B', 'y', 1)]"
      ]
     },
     "execution_count": 99,
     "metadata": {},
     "output_type": "execute_result"
    }
   ],
   "source": [
    "# The standard zip stops after the SHORTEST list is finished\n",
    "list(zip('AB', 'xyzw', range(5)))"
   ]
  },
  {
   "cell_type": "code",
   "execution_count": 100,
   "metadata": {},
   "outputs": [
    {
     "name": "stdout",
     "output_type": "stream",
     "text": [
      "[('A', 'x'), ('B', 'y'), ('_', 'z'), ('_', 'w')]\n"
     ]
    }
   ],
   "source": [
    "from itertools import zip_longest\n",
    "\n",
    "print(list(zip_longest('AB', 'xyzw', fillvalue='_')))"
   ]
  },
  {
   "cell_type": "code",
   "execution_count": 101,
   "metadata": {},
   "outputs": [
    {
     "name": "stdout",
     "output_type": "stream",
     "text": [
      "[('A', 'x', 0), ('B', 'y', 1), ('_', 'z', 2), ('_', 'w', 3), ('_', '_', 4)]\n"
     ]
    }
   ],
   "source": [
    "print(list(zip_longest('AB', 'xyzw', range(5), fillvalue='_')))"
   ]
  },
  {
   "cell_type": "code",
   "execution_count": 102,
   "metadata": {},
   "outputs": [
    {
     "name": "stdout",
     "output_type": "stream",
     "text": [
      "dict: {'1': 'pqr', '2': 'uvw', '3': 'xyz', '4': 'blank_value', '5': 'blank_value', '6': 'blank_value', '7': 'blank_value'}\n"
     ]
    }
   ],
   "source": [
    "# useful to create dictionaries\n",
    "\n",
    "vals = ['pqr', 'uvw', 'xyz']\n",
    "\n",
    "dc = dict(zip_longest('1234567', vals, fillvalue='blank_value'))\n",
    "print(\"dict:\", dc)"
   ]
  },
  {
   "cell_type": "markdown",
   "metadata": {},
   "source": [
    "## Combinatoric Generators\n",
    "Iterators that can be used for creating combinations and permutations of data"
   ]
  },
  {
   "cell_type": "markdown",
   "metadata": {},
   "source": [
    "#### itertools.combinations(seq, r) \n",
    "#### itertools.combinations_with_replacement(seq, r)\n",
    "#### itertools.permutations(iterable, r=None)"
   ]
  },
  {
   "cell_type": "markdown",
   "metadata": {},
   "source": [
    "---\n",
    "\n",
    "E.g. There is an urn with four balls: yellow, green, red, and blue.  \n",
    "\n",
    "Q: In how many ways can one pick two (three) balls without replacement?  \n",
    "\n",
    "Q: In how many ways can one pick two (three) balls with replacement?"
   ]
  },
  {
   "cell_type": "code",
   "execution_count": 105,
   "metadata": {},
   "outputs": [
    {
     "name": "stdout",
     "output_type": "stream",
     "text": [
      "RB; RG; RY; BG; BY; GY; "
     ]
    }
   ],
   "source": [
    "from itertools import combinations\n",
    "\n",
    "for item in combinations('RBGY', 2):\n",
    "    print(''.join(item), end=\"; \")"
   ]
  },
  {
   "cell_type": "code",
   "execution_count": 19,
   "metadata": {},
   "outputs": [
    {
     "data": {
      "text/plain": [
       "[('a', 'b'), ('a', 'c'), ('b', 'c')]"
      ]
     },
     "execution_count": 19,
     "metadata": {},
     "output_type": "execute_result"
    }
   ],
   "source": [
    "from itertools import combinations, combinations_with_replacement, permutations\n",
    "seq=[\"a\",\"b\",\"c\"]\n",
    "r=2\n",
    "list(combinations(seq, r))\n",
    "# list(combinations_with_replacement(seq, r))\n",
    "# list(permutations(seq, r=None))"
   ]
  },
  {
   "cell_type": "code",
   "execution_count": 106,
   "metadata": {},
   "outputs": [
    {
     "name": "stdout",
     "output_type": "stream",
     "text": [
      "RR; RB; RG; RY; BB; BG; BY; GG; GY; YY; "
     ]
    }
   ],
   "source": [
    "from itertools import combinations_with_replacement\n",
    "\n",
    "for item in combinations_with_replacement('RBGY', 2):\n",
    "    print(''.join(item), end=\"; \")"
   ]
  },
  {
   "cell_type": "code",
   "execution_count": 107,
   "metadata": {},
   "outputs": [
    {
     "name": "stdout",
     "output_type": "stream",
     "text": [
      "RB; RG; RY; BR; BG; BY; GR; GB; GY; YR; YB; YG; "
     ]
    }
   ],
   "source": [
    "from itertools import permutations\n",
    "\n",
    "for item in permutations('RBGY', 2):\n",
    "    print(''.join(item), end=\"; \")"
   ]
  },
  {
   "cell_type": "markdown",
   "metadata": {},
   "source": [
    "#### itertools.product(*seq, repeat=1)\n",
    "Produces the **cartesian product** of sequences"
   ]
  },
  {
   "cell_type": "code",
   "execution_count": 112,
   "metadata": {},
   "outputs": [
    {
     "name": "stdout",
     "output_type": "stream",
     "text": [
      "[('A', 'a'), ('A', 'b'), ('A', 'c'), ('B', 'a'), ('B', 'b'), ('B', 'c')]\n"
     ]
    }
   ],
   "source": [
    "from itertools import product\n",
    "\n",
    "arrays = [('A', 'B'), ('a', 'b', 'c')]\n",
    "cart_prod = list(product(*arrays))\n",
    "print(cart_prod)\n",
    "\n",
    "# size (cardinality) is 2 * 3  = 6\n"
   ]
  },
  {
   "cell_type": "code",
   "execution_count": 118,
   "metadata": {},
   "outputs": [
    {
     "name": "stdout",
     "output_type": "stream",
     "text": [
      "[(-1, -3, -5), (-1, -3, 5), (-1, 3, -5), (-1, 3, 5), (1, -3, -5), (1, -3, 5), (1, 3, -5), (1, 3, 5)]\n",
      "( -1 -3 -5 )\n",
      "( -1 -3 5 )\n",
      "( -1 3 -5 )\n",
      "( -1 3 5 )\n",
      "( 1 -3 -5 )\n",
      "( 1 -3 5 )\n",
      "( 1 3 -5 )\n",
      "( 1 3 5 )\n"
     ]
    }
   ],
   "source": [
    "# Calling a function with all possible choices of parameters\n",
    "\n",
    "choices = [(-1,1), (-3,3), (-5,5)]\n",
    "cp = list(product(*choices))\n",
    "print(cp)\n",
    "\n",
    "def f(a, b, c):\n",
    "    print('(', a, b, c, ')')\n",
    "    \n",
    "for args in cp:\n",
    "    f(*args)"
   ]
  },
  {
   "cell_type": "code",
   "execution_count": 143,
   "metadata": {},
   "outputs": [
    {
     "name": "stdout",
     "output_type": "stream",
     "text": [
      "{'a': -1, 'b': -3, 'c': -5}\n",
      "{'a': -1, 'b': -3, 'c': 5}\n",
      "{'a': -1, 'b': 3, 'c': -5}\n",
      "{'a': -1, 'b': 3, 'c': 5}\n",
      "{'a': 1, 'b': -3, 'c': -5}\n",
      "{'a': 1, 'b': -3, 'c': 5}\n",
      "{'a': 1, 'b': 3, 'c': -5}\n",
      "{'a': 1, 'b': 3, 'c': 5}\n"
     ]
    }
   ],
   "source": [
    "choices = {\n",
    "    'a': [-1, 1],\n",
    "    'b': [-3, 3],\n",
    "    'c': [-5, 5],\n",
    "}\n",
    "\n",
    "def f(**kwargs):\n",
    "    print(kwargs)\n",
    "\n",
    "all_dicts = list(dict(zip(choices.keys(), vals)) for vals in product(*choices.values()))\n",
    "for d in all_dicts:\n",
    "    f(**d)"
   ]
  },
  {
   "cell_type": "code",
   "execution_count": 153,
   "metadata": {},
   "outputs": [
    {
     "name": "stdout",
     "output_type": "stream",
     "text": [
      "{'a': 1, 'b': 2, 'c': 3}\n",
      "{'a': 1, 'b': 2, 'c': 3}\n",
      "('a', 'b', 'c')\n"
     ]
    }
   ],
   "source": [
    "def f(**kwargs):\n",
    "    print(kwargs)\n",
    "\n",
    "def g(kwargs):\n",
    "    print(kwargs)\n",
    "    \n",
    "def h(*args):\n",
    "    print(args)\n",
    "    \n",
    "f(a=1, b=2, c=3)\n",
    "f(**{'a' : 1, 'b' : 2, 'c' : 3})\n",
    "# g(a=1, b=2, c=3)\n",
    "\n",
    "h(*{'a' : 1, 'b' : 2, 'c' : 3})"
   ]
  },
  {
   "cell_type": "code",
   "execution_count": 155,
   "metadata": {},
   "outputs": [
    {
     "name": "stdout",
     "output_type": "stream",
     "text": [
      "cids: <itertools.product object at 0x7fda88432e00>\n",
      "i = 0, e = (0, 0)\n",
      "i = 1, e = (0, 1)\n",
      "i = 2, e = (1, 0)\n",
      "i = 3, e = (1, 1)\n",
      "\n",
      "M=\n",
      " [[  0. 100.]\n",
      " [200. 300.]]\n"
     ]
    }
   ],
   "source": [
    "import numpy as np\n",
    "\n",
    "M = np.zeros((2, 2))\n",
    "cids = product((0, 1), (0, 1))\n",
    "\n",
    "print(\"cids:\", cids)\n",
    "\n",
    "for i, e in enumerate(cids):\n",
    "    M[e] = i * 100\n",
    "    print(\"i = %s, e = %s\" % (i, e))\n",
    "\n",
    "print(\"\\nM=\\n\", M)"
   ]
  },
  {
   "cell_type": "code",
   "execution_count": 156,
   "metadata": {},
   "outputs": [
    {
     "name": "stdout",
     "output_type": "stream",
     "text": [
      "cids:  <itertools.product object at 0x7fda88436ac0>\n",
      "i =  0, e = (0, 0, 0)\n",
      "i =  1, e = (0, 0, 1)\n",
      "i =  2, e = (0, 0, 2)\n",
      "i =  3, e = (0, 1, 0)\n",
      "i =  4, e = (0, 1, 1)\n",
      "i =  5, e = (0, 1, 2)\n",
      "i =  6, e = (0, 2, 0)\n",
      "i =  7, e = (0, 2, 1)\n",
      "i =  8, e = (0, 2, 2)\n",
      "i =  9, e = (1, 0, 0)\n",
      "i = 10, e = (1, 0, 1)\n",
      "i = 11, e = (1, 0, 2)\n",
      "i = 12, e = (1, 1, 0)\n",
      "i = 13, e = (1, 1, 1)\n",
      "i = 14, e = (1, 1, 2)\n",
      "i = 15, e = (1, 2, 0)\n",
      "i = 16, e = (1, 2, 1)\n",
      "i = 17, e = (1, 2, 2)\n",
      "i = 18, e = (2, 0, 0)\n",
      "i = 19, e = (2, 0, 1)\n",
      "i = 20, e = (2, 0, 2)\n",
      "i = 21, e = (2, 1, 0)\n",
      "i = 22, e = (2, 1, 1)\n",
      "i = 23, e = (2, 1, 2)\n",
      "i = 24, e = (2, 2, 0)\n",
      "i = 25, e = (2, 2, 1)\n",
      "i = 26, e = (2, 2, 2)\n",
      "\n",
      "M=\n",
      " [[[   0.  100.  200.]\n",
      "  [ 300.  400.  500.]\n",
      "  [ 600.  700.  800.]]\n",
      "\n",
      " [[ 900. 1000. 1100.]\n",
      "  [1200. 1300. 1400.]\n",
      "  [1500. 1600. 1700.]]\n",
      "\n",
      " [[1800. 1900. 2000.]\n",
      "  [2100. 2200. 2300.]\n",
      "  [2400. 2500. 2600.]]]\n"
     ]
    }
   ],
   "source": [
    "import numpy as np\n",
    "\n",
    "M = np.zeros((3, 3, 3))\n",
    "cids = product((0,1,2), (0,1,2), (0,1,2))\n",
    "\n",
    "\n",
    "print(\"cids: \", cids)\n",
    "\n",
    "for i, e  in enumerate(cids):\n",
    "    M[e] = i * 100\n",
    "    print(f\"i = {i:>2}, e = {e}\")\n",
    "\n",
    "print(\"\\nM=\\n\", M)"
   ]
  },
  {
   "cell_type": "code",
   "execution_count": null,
   "metadata": {},
   "outputs": [],
   "source": []
  }
 ],
 "metadata": {
  "celltoolbar": "Slideshow",
  "kernelspec": {
   "display_name": "Python 3 (ipykernel)",
   "language": "python",
   "name": "python3"
  },
  "language_info": {
   "codemirror_mode": {
    "name": "ipython",
    "version": 3
   },
   "file_extension": ".py",
   "mimetype": "text/x-python",
   "name": "python",
   "nbconvert_exporter": "python",
   "pygments_lexer": "ipython3",
   "version": "3.8.16"
  }
 },
 "nbformat": 4,
 "nbformat_minor": 2
}
