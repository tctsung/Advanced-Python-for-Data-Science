{
 "cells": [
  {
   "cell_type": "markdown",
   "metadata": {},
   "source": [
    "## Homework 03\n",
    "\n",
    "### Due Date: Feb 22, 2023, 4:00PM\n",
    "\n",
    "### Student's Name: Ching-Tsung(Deron) Tsai\n",
    "\n",
    "### Student's e-mail: ct2840@nyu.edu"
   ]
  },
  {
   "cell_type": "markdown",
   "metadata": {},
   "source": [
    "### Problem 1. (15 points)\n",
    "\n",
    "- 1.1. (5 points)    \n",
    "By using **count from itertools** make a generator which produces all numbers from 0 to 1000 (including the two) divisible by 5. \n",
    "\n",
    "- 1.2. (5 points)  \n",
    "From the obtained generator produce a list of numbers that are not divisible by 25. \n",
    "\n",
    "- 1.3. (5 points)  \n",
    "Print the list and the length of the list.\n",
    "\n",
    "\n"
   ]
  },
  {
   "cell_type": "code",
   "execution_count": 1,
   "metadata": {},
   "outputs": [
    {
     "name": "stdout",
     "output_type": "stream",
     "text": [
      "160\n",
      "[5, 10, 15, 20, 30, 35, 40, 45, 55, 60, 65, 70, 80, 85, 90, 95, 105, 110, 115, 120, 130, 135, 140, 145, 155, 160, 165, 170, 180, 185, 190, 195, 205, 210, 215, 220, 230, 235, 240, 245, 255, 260, 265, 270, 280, 285, 290, 295, 305, 310, 315, 320, 330, 335, 340, 345, 355, 360, 365, 370, 380, 385, 390, 395, 405, 410, 415, 420, 430, 435, 440, 445, 455, 460, 465, 470, 480, 485, 490, 495, 505, 510, 515, 520, 530, 535, 540, 545, 555, 560, 565, 570, 580, 585, 590, 595, 605, 610, 615, 620, 630, 635, 640, 645, 655, 660, 665, 670, 680, 685, 690, 695, 705, 710, 715, 720, 730, 735, 740, 745, 755, 760, 765, 770, 780, 785, 790, 795, 805, 810, 815, 820, 830, 835, 840, 845, 855, 860, 865, 870, 880, 885, 890, 895, 905, 910, 915, 920, 930, 935, 940, 945, 955, 960, 965, 970, 980, 985, 990, 995]\n"
     ]
    }
   ],
   "source": [
    "# 1.1\n",
    "from itertools import count\n",
    "def divisible5(n):\n",
    "    \"\"\"\n",
    "    return value from 0 to n divisible by 5\n",
    "    \"\"\"\n",
    "    for i in count(0, 5):\n",
    "        if i > n: break\n",
    "        yield i\n",
    "gen0_1000 = divisible5(1000)\n",
    "# 1.2\n",
    "gen_not25 = list(i for i in gen0_1000 if i%25!=0)\n",
    "# 1.3\n",
    "print(len(gen_not25))\n",
    "print(gen_not25)"
   ]
  },
  {
   "cell_type": "markdown",
   "metadata": {},
   "source": [
    "## Problem 2. (20 points) \n",
    "\n",
    "Write three functions to calculate n! (n factorial) for a given non-negative integer n: \n",
    "\n",
    "- 2.1 (5 points)  \n",
    "f_rec(n) in a recursive way  (in a simplest way without memoization)  \n",
    "\n",
    "- 2.2 (5 points)  \n",
    "- f_it(n) in an iterative way  \n",
    "\n",
    "- 2.3 (10 points)  \n",
    "- f_acc(n) by using \"accumulate\" from itertools. \n",
    "\n",
    "\n",
    "Note the ratios of the expected run-times: \n",
    "1. f_rec(n=1000) and f_it(n=1000)  \n",
    "and \n",
    "2. f_acc(n=1000) and f_it(n=1000)\n"
   ]
  },
  {
   "cell_type": "code",
   "execution_count": 2,
   "metadata": {},
   "outputs": [],
   "source": [
    "# set default as 1000 for convenience\n",
    "# 2.1\n",
    "def f_rec(n=1000):\n",
    "    if n<=1:\n",
    "        return 1\n",
    "    return n*f_rec(n-1)\n",
    "# 2.2\n",
    "def f_it(n=1000):\n",
    "    output = 1\n",
    "    for i in range(2,n+1): \n",
    "        output *= i\n",
    "    return output\n",
    "# 2.3\n",
    "import operator\n",
    "from itertools import accumulate\n",
    "def f_acc(n=1000):\n",
    "    return tuple(accumulate(range(1, n+1), operator.mul))[-1]"
   ]
  },
  {
   "cell_type": "code",
   "execution_count": 3,
   "metadata": {},
   "outputs": [
    {
     "name": "stdout",
     "output_type": "stream",
     "text": [
      "True\n",
      "The ratio of f_rec(n=1000) and f_it(n=1000) is  1.39702 \n",
      "The ratio of f_acc(n=1000) and f_it(n=1000) is  0.98792\n"
     ]
    }
   ],
   "source": [
    "# calculate the ratios:\n",
    "from timeit import timeit\n",
    "print((f_rec() == f_it() ) & (f_it() == f_acc())) # check the answers are the same\n",
    "time_rec = timeit(f_rec, number=1000)\n",
    "time_it = timeit(f_it, number=1000)\n",
    "time_acc = timeit(f_acc, number=1000)\n",
    "print(f'''The ratio of f_rec(n=1000) and f_it(n=1000) is {(time_rec/time_it): .5f} \n",
    "The ratio of f_acc(n=1000) and f_it(n=1000) is {(time_acc/time_it): .5f}''')"
   ]
  },
  {
   "cell_type": "markdown",
   "metadata": {},
   "source": [
    "# Problem 3 (35 points) \n",
    "\n",
    "- 3.1 (5 points)  \n",
    "Write a function  `perm_generator(n)`, which for a given positive integer $n$, returns a generator with all permutations of the set  $\\{0, 1, 2 , \\dots n - 1\\}$.\n",
    "\n",
    "\n",
    "- 3.2 (10 points)  \n",
    "Write a function  `comb_generator(n, k)`, which for given non-negative integers $n, k$ where $n  \\geq k$, returns a generator with all combinations of size $k$ on the set  $\\{0, 1, 2 , \\dots n - 1\\}$.\n",
    "\n",
    "\n",
    "- 3.3 (20 points)    \n",
    "Write a function `h_generator(n)`,  which for a given positive integer $n$, returns a generator with all permutations of the set  $\\{0, 1, 2 , \\dots n - 1\\}$ such that for all  $i = 0, 1, 2, \\dots, n−1$ the number $i$ is not at the $i$-th position. \n",
    "\n",
    "- 3.3. Example: For $n=3$, there are  $3!=6$  permutations $(0, 1, 2), (0, 2, 1), (1, 0, 2), (1, 2, 0), (2, 0, 1), (2, 1, 0)$. And `h_generator(n)` should return the generator with permutations $(1, 2, 0)$ and $(2, 0, 1)$.  For example, $(2, 1, 0)$ cannot be included since here $1$ is at the $1$-st position. \n",
    "\n"
   ]
  },
  {
   "cell_type": "code",
   "execution_count": 4,
   "metadata": {},
   "outputs": [],
   "source": [
    "from itertools import permutations, combinations\n",
    "# 3.1\n",
    "def perm_generator(n):\n",
    "    return permutations(range(n))\n",
    "# 3.2\n",
    "def comb_generator(n, k):\n",
    "    return combinations(range(n),k)\n",
    "# 3.3\n",
    "def h_generator(n):\n",
    "    perm = permutations(range(n))\n",
    "    for val in perm:\n",
    "        threshold = sum(map(lambda i:val[i]==i, range(n))) # if all no -> sum==0\n",
    "        if not threshold: # if sum==0 -> return\n",
    "            yield val"
   ]
  },
  {
   "cell_type": "code",
   "execution_count": 5,
   "metadata": {},
   "outputs": [
    {
     "name": "stdout",
     "output_type": "stream",
     "text": [
      "perm_generator(3): [(0, 1, 2), (0, 2, 1), (1, 0, 2), (1, 2, 0), (2, 0, 1), (2, 1, 0)]\n",
      "comb_generator(3,2): [(0, 1), (0, 2), (1, 2)]\n",
      "h_generator(3): [(1, 2, 0), (2, 0, 1)]\n"
     ]
    }
   ],
   "source": [
    "# demo:\n",
    "print(f\"perm_generator(3): {list(perm_generator(3))}\")\n",
    "print(f\"comb_generator(3,2): {list(comb_generator(3,2))}\")\n",
    "print(f\"h_generator(3): {list(h_generator(3))}\")"
   ]
  },
  {
   "cell_type": "markdown",
   "metadata": {},
   "source": [
    "## Problem 4 (30 points) \n",
    "\n",
    "\n",
    "By using **starmap** from **itertools** write a function that returns a generator that produces all distances for a given input list of points, in the two-dimensional coordinate system.\n",
    "\n",
    "In more detail, for a given input list of points $\\textrm{list_of_points} = [p_0, p_1, \\dots, p_{n - 1}]$, write a function: \n",
    "\n",
    "$$\\textrm{f_distances(list_of_points)}$$\n",
    "\n",
    "that returns a generator that produces tuples $(p_i, p_j, ||p_i - p_j||)$, (where each tuple stores the point i, point j and their Euclidean distance). (There are $n(n - 1) / 2$ tuples.)\n",
    "\n",
    "\n",
    "For example: \n",
    "\n",
    "- input: For 3 points as $\\textrm{list_of_points} = [(0, 0), (0, 1), (1, 0)]$\n",
    "\n",
    "- output: A generator that produces ${3 \\choose 2} = 3$ tuples: $((0, 0), (0, 1), 1); ((0, 0), (1, 0), 1); ((0, 1), (1, 0), \\sqrt{2})$.\n",
    "\n"
   ]
  },
  {
   "cell_type": "code",
   "execution_count": 6,
   "metadata": {},
   "outputs": [],
   "source": [
    "from itertools import starmap\n",
    "def f_distances(list_of_points):\n",
    "    comb = combinations(list_of_points, 2)\n",
    "    return starmap(lambda x,y:(x,y,((x[0]-y[0])**2+(x[1]-y[1])**2)**0.5), comb)"
   ]
  },
  {
   "cell_type": "code",
   "execution_count": 7,
   "metadata": {},
   "outputs": [
    {
     "name": "stdout",
     "output_type": "stream",
     "text": [
      "Demo of f_distances(list_of_points): \n",
      "Input: [(0, 0), (0, 1), (1, 0)]\n",
      "output: [((0, 0), (0, 1), 1.0), ((0, 0), (1, 0), 1.0), ((0, 1), (1, 0), 1.4142135623730951)]\n"
     ]
    }
   ],
   "source": [
    "# demo:\n",
    "list_of_points = [(0, 0), (0, 1), (1, 0)]\n",
    "print(f\"Demo of f_distances(list_of_points): \\nInput: {list_of_points}\\noutput: {list(f_distances(list_of_points) )}\")"
   ]
  },
  {
   "cell_type": "code",
   "execution_count": null,
   "metadata": {},
   "outputs": [],
   "source": []
  }
 ],
 "metadata": {
  "kernelspec": {
   "display_name": "Python 3 (ipykernel)",
   "language": "python",
   "name": "python3"
  },
  "language_info": {
   "codemirror_mode": {
    "name": "ipython",
    "version": 3
   },
   "file_extension": ".py",
   "mimetype": "text/x-python",
   "name": "python",
   "nbconvert_exporter": "python",
   "pygments_lexer": "ipython3",
   "version": "3.8.16"
  }
 },
 "nbformat": 4,
 "nbformat_minor": 2
}
