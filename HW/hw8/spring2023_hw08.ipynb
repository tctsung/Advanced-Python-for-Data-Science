{
 "cells": [
  {
   "cell_type": "markdown",
   "metadata": {},
   "source": [
    "## Homework 08:  Parallel Programming 01\n",
    "\n",
    "## Due Date: Apr 12, 2023, 11:59pm\n",
    "\n",
    "#### Firstname Lastname: Ching-Tsung(Deron) Tsai\n",
    "\n",
    "#### E-mail: ct2840@nyu.edu\n",
    "\n",
    "#### Enter your solutions and submit this notebook"
   ]
  },
  {
   "cell_type": "markdown",
   "metadata": {},
   "source": [
    "---\n",
    "\n",
    "**Problem 1 (50p)**\n",
    "\n",
    "Write an MPI program `sol08pr01.py` that does the following for some arbitrary number of processes $N \\geq 2$. Here the number of processes $N$ is given as `N` while calling the code `sol08pr01.py` as: \n",
    "\n",
    "`mpirun -n N python3 sol08pr01.py`\n",
    "\n",
    "\n",
    "Every process will contain one buffer with one integer variable, each of which is initialized to $0$.\n",
    "\n",
    "For $r=0, 1, \\dots, N - 1$, Process $r$ updates its buffer to the value received by $r-1$ (this should only be done for $r \\geq 1$), then it squares its rank $r$, adds the result $r^2$ to the value of its own buffer, and then sends the sum to Process $r + 1$. Note that for $r=N-1$ the result will be sent to Process $0$, i.e. by convention, Process $N$ is the same as Process $0$. At the end Process $0$ prints the received value. \n",
    "\n",
    "Provide results for: $N = 10$, $N = 15$, $N = 20$, $N = 25$. These are probably more than the available processes on your machine: you can use the option `--oversubscribe` in `mpirun` to let MPI run things anyway.\n",
    "\n",
    "\n",
    "\n",
    "**Note**: You can use either blocking or non-blocking operations.Make sure to provide adequate comments and documentation in the code. \n",
    "\n"
   ]
  },
  {
   "cell_type": "code",
   "execution_count": 15,
   "metadata": {},
   "outputs": [
    {
     "data": {
      "text/plain": [
       "array([4], dtype=int32)"
      ]
     },
     "execution_count": 15,
     "metadata": {},
     "output_type": "execute_result"
    }
   ],
   "source": [
    "import numpy\n",
    "x1 = numpy.zeros(1, dtype='i')\n",
    "x1 + 2*2"
   ]
  },
  {
   "cell_type": "code",
   "execution_count": 1,
   "metadata": {},
   "outputs": [
    {
     "name": "stdout",
     "output_type": "stream",
     "text": [
      "Overwriting sol08pr01.py\n"
     ]
    }
   ],
   "source": [
    "%%writefile sol08pr01.py\n",
    "import numpy\n",
    "from mpi4py import MPI\n",
    "\n",
    "comm = MPI.COMM_WORLD    # global communicator\n",
    "N = comm.Get_size()     # num of process\n",
    "rank = comm.Get_rank()   # current rank\n",
    "data = numpy.array([0], dtype='i')   # initialize with 0; this is the buffer\n",
    "\n",
    "\n",
    "if rank == 0:   # 1st node\n",
    "    comm.Send([data, MPI.INT], dest=1)  \n",
    "    comm.Recv([data, MPI.INT], source=(N-1))\n",
    "    print(data)\n",
    "elif rank == (N-1): # last node\n",
    "    comm.Recv([data, MPI.INT], source=(rank-1)) # receive info from previous rank\n",
    "    data = rank**2 + data\n",
    "    comm.Send([data, MPI.INT], dest=0) \n",
    "else: \n",
    "    comm.Recv([data, MPI.INT], source=(rank-1)) # receive info from previous rank\n",
    "    data = rank**2 + data                       # update info\n",
    "    comm.Send([data, MPI.INT], dest=(rank+1))   # send to next dest\n",
    "    \n",
    "    "
   ]
  },
  {
   "cell_type": "code",
   "execution_count": 2,
   "metadata": {},
   "outputs": [
    {
     "name": "stdout",
     "output_type": "stream",
     "text": [
      "Running with n=10\n",
      "[285]\n",
      "Running with n=15\n",
      "[1015]\n",
      "Running with n=20\n",
      "[2470]\n",
      "Running with n=25\n",
      "[4900]\n"
     ]
    }
   ],
   "source": [
    "import os\n",
    "for n in [10, 15, 20, 25]:\n",
    "    print(f\"Running with n={n}\")\n",
    "    os.system(f\"mpiexec -n {n} python sol08pr01.py\")"
   ]
  },
  {
   "cell_type": "markdown",
   "metadata": {},
   "source": [
    "---\n",
    "\n",
    "**Problem 2 (50p)**\n",
    "\n",
    "Write an MPI program that does the following. There are two processes 0 and 1 that have to exchange $T=10$ messages.  \n",
    "\n",
    "\n",
    "Process 0 initially reads two float variables from the standard input, call them $x, y$, and must ensure $x \\neq 0$ and $y \\neq 0$. For example this can be done as:\n",
    "\n",
    "```\n",
    "import sys\n",
    "\n",
    "\n",
    "for line in sys.stdin:\n",
    "    x = float(line)        \n",
    "    if x != 0.0:\n",
    "        break\n",
    "for line in sys.stdin:\n",
    "    y = float(line)        \n",
    "    if y != 0.0:\n",
    "        break\n",
    "```\n",
    "\n",
    "\n",
    "Both Process 0 and Process 1 will carry main results in an element that is part of a process buffer and called $p$. The value in $p$ is initially set to $1$. \n",
    "\n",
    "\n",
    "Now the exchange of messages is as follows.\n",
    "\n",
    "\n",
    "0. Message00: Process 0 multiplies its own value in $p$ by $x$ and sends the whole buffer to Process 1.\n",
    "\n",
    "1. Message01: Process 1 divides its own value in $p$ by $y$ and sends the whole buffer to Process 0.\n",
    "\n",
    "2. Message01: Process 0 multiplies its own value in $p$ by $x$ and sends the whole buffer to Process 1.\n",
    "\n",
    "3. Message02: Process 1 divides its own value in $p$ by $y$ and sends the whole buffer to Process 0.\n",
    "\n",
    "\n",
    "etc.\n",
    "\n",
    "8. Message08: Process 0 multiplies its own value in $p$ by $x$ and sends the whole buffer to Process 1.\n",
    "\n",
    "9. Message09: Process 1 divides its own value in $p$ by $y$ and sends the whole buffer to Process 0.\n",
    "\n",
    "Finally, Process 0 prints the value in $p$ as a final result. \n",
    "\n",
    "\n",
    "Write the code that implements the protocol above. Additionally, provide results for: $(x, y) = (2, 4)$, $(x, y) = (1, 3)$, $(x, y) = (5, 7)$ and $(x, y) = (5, 10)$.\n",
    "\n",
    "\n",
    "**Note**: You can use either blocking or non-blocking operations.Make sure to provide adequate comments and documentation in the code.\n",
    "\n"
   ]
  },
  {
   "cell_type": "code",
   "execution_count": 10,
   "metadata": {},
   "outputs": [],
   "source": [
    "# create standard input file:\n",
    "for (x,y) in [(2,4),(1,3),(5,7),(5,10)]:\n",
    "    with open(f'input_{x}_{y}.txt', 'w') as f:\n",
    "        f.write(f\"{x}\\n{y}\\n\")\n",
    "# read the file using: python my_program.py < input.txt"
   ]
  },
  {
   "cell_type": "code",
   "execution_count": 16,
   "metadata": {},
   "outputs": [
    {
     "name": "stdout",
     "output_type": "stream",
     "text": [
      "Overwriting sol08pr02.py\n"
     ]
    }
   ],
   "source": [
    "%%writefile sol08pr02.py\n",
    "import numpy\n",
    "import sys\n",
    "from mpi4py import MPI\n",
    "\n",
    "comm = MPI.COMM_WORLD    # global communicator\n",
    "rank = comm.Get_rank()   # current rank\n",
    "T = 10 # 10 task\n",
    "\n",
    "# MPI:\n",
    "if rank == 0:\n",
    "    # read standard inputs:\n",
    "    for line in sys.stdin:\n",
    "        x = float(line)        \n",
    "        if x != 0.0:\n",
    "            break                    # break when get the 1st stdin\n",
    "    for line in sys.stdin:\n",
    "        y = float(line)        \n",
    "        if y != 0.0:\n",
    "            break\n",
    "    comm.send(y, dest=1, tag=100)    # send y to 2nd process\n",
    "    p = 1                            # initiate value p as 1\n",
    "    for i in range(T//2):            # 5 task in process 0\n",
    "        p *= x  \n",
    "        comm.send(p, dest=1)         # send message 00, 02, 04, 06, 08\n",
    "        p = comm.recv(source=1)      # receive message 01, 03, 05, 07, 09\n",
    "    print(f\"Final output of p using input {x} & {y}: {p}\")\n",
    "elif rank == 1:\n",
    "    y = comm.recv(source=0, tag=100)\n",
    "    for i in range(T//2):            # 5 task in process 1\n",
    "        p = comm.recv(source=0)      # receive message 00, 02, 04, 06, 08\n",
    "        p /= y \n",
    "        comm.send(p, dest=0)         # send message 01, 03, 05, 07, 09"
   ]
  },
  {
   "cell_type": "code",
   "execution_count": 18,
   "metadata": {},
   "outputs": [
    {
     "name": "stdout",
     "output_type": "stream",
     "text": [
      "Final output of p using input 2.0 & 4.0: 0.03125\r\n"
     ]
    }
   ],
   "source": [
    "!mpiexec -n 2 python sol08pr02.py - < input_2_4.txt"
   ]
  },
  {
   "cell_type": "code",
   "execution_count": 19,
   "metadata": {},
   "outputs": [
    {
     "name": "stdout",
     "output_type": "stream",
     "text": [
      "Final output of p using input 1.0 & 3.0: 0.004115226337448559\r\n"
     ]
    }
   ],
   "source": [
    "!mpiexec -n 2 python sol08pr02.py - < input_1_3.txt"
   ]
  },
  {
   "cell_type": "code",
   "execution_count": 20,
   "metadata": {},
   "outputs": [
    {
     "name": "stdout",
     "output_type": "stream",
     "text": [
      "Final output of p using input 5.0 & 7.0: 0.1859344320818706\r\n"
     ]
    }
   ],
   "source": [
    "!mpiexec -n 2 python sol08pr02.py - < input_5_7.txt"
   ]
  },
  {
   "cell_type": "code",
   "execution_count": 21,
   "metadata": {},
   "outputs": [
    {
     "name": "stdout",
     "output_type": "stream",
     "text": [
      "Final output of p using input 5.0 & 10.0: 0.03125\r\n"
     ]
    }
   ],
   "source": [
    "!mpiexec -n 2 python sol08pr02.py - < input_5_10.txt"
   ]
  }
 ],
 "metadata": {
  "kernelspec": {
   "display_name": "Python 3 (ipykernel)",
   "language": "python",
   "name": "python3"
  },
  "language_info": {
   "codemirror_mode": {
    "name": "ipython",
    "version": 3
   },
   "file_extension": ".py",
   "mimetype": "text/x-python",
   "name": "python",
   "nbconvert_exporter": "python",
   "pygments_lexer": "ipython3",
   "version": "3.8.16"
  }
 },
 "nbformat": 4,
 "nbformat_minor": 2
}
