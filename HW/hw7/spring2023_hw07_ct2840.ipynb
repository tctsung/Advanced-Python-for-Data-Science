{
 "cells": [
  {
   "cell_type": "markdown",
   "metadata": {},
   "source": [
    "### Homework 07: Concurrency\n",
    "\n",
    "## Due Date: Apr 5, 2023, 11:59pm\n",
    "\n",
    "#### Firstname Lastname: Ching-Tsung (Deron) Tsai\n",
    "\n",
    "#### E-mail: ct2840@nyu.edu\n",
    "\n",
    "#### Enter your solutions and submit this notebook\n"
   ]
  },
  {
   "cell_type": "markdown",
   "metadata": {},
   "source": [
    "---\n",
    "\n",
    "**Problem 1** **(60 Points)**\n",
    "\n",
    "Let us consider the Gamma function, or the Euler integral of the second kind: \n",
    "\n",
    "$$\\Gamma(x) = \\int_{0} ^ \\infty t ^{x - 1} e^{-t} dt, $$\n",
    "\n",
    "and in this HW we consider real $x > 0$."
   ]
  },
  {
   "cell_type": "markdown",
   "metadata": {},
   "source": [
    "(Here is more on the Gamma function https://en.wikipedia.org/wiki/Gamma_function .\n",
    "It is not needed for this HW assignment.) "
   ]
  },
  {
   "cell_type": "markdown",
   "metadata": {},
   "source": [
    "**1.1 (Points 15)**: \n",
    "\n",
    "Write a function (in the cell below) that sequentially calculates the given Gamma integral.\n"
   ]
  },
  {
   "cell_type": "code",
   "execution_count": 6,
   "metadata": {},
   "outputs": [],
   "source": [
    "import numpy as np\n",
    "import math \n",
    "from time import time\n",
    "def calculate_gamma(x, bound_1, bound_2, number_of_steps):\n",
    "    # sequential version to calculate Gamma(x):\n",
    "    # where we approximate the given integral,\n",
    "    # like this a discrete sum in number_of_steps\n",
    "    # equidistant points on the interval [bound_1, bound_2]\n",
    "    start_t = time()\n",
    "    output = 0\n",
    "    step = (bound_2-bound_1)/number_of_steps     # size of step \n",
    "    ts = np.linspace(bound_1, bound_2, number_of_steps)  # the input t\n",
    "    for t in ts:\n",
    "        output += step * (t**(x-1)*math.exp(-t))\n",
    "    print('Time spent without concurrency: %f,\\nEstimation: %f'%((time() - start_t), output))\n",
    "    return output\n"
   ]
  },
  {
   "cell_type": "markdown",
   "metadata": {},
   "source": [
    "**1.2 (Points 5)** \n",
    "\n",
    "Evaluate, $\\Gamma(6)$ by using `calculate_gamma(x, bound_1, bound_2, number_of_steps)` and the error of this computation.\n",
    "\n",
    "\n",
    "As arguments, use `x=6, bound_1=0, bound_2=1000, number_of_steps=10_000_000`. We know that $\\Gamma(x) = x!$, so $\\Gamma(6) = 5! = 120$. \n"
   ]
  },
  {
   "cell_type": "code",
   "execution_count": 7,
   "metadata": {},
   "outputs": [
    {
     "name": "stdout",
     "output_type": "stream",
     "text": [
      "Time spent without concurrency: 6.003440,\n",
      "Estimation: 119.999988\n",
      "The error is 0.000012\n"
     ]
    }
   ],
   "source": [
    "gamma_estimate = calculate_gamma(x=6, bound_1=0, bound_2=1000, number_of_steps=10_000_000)\n",
    "print('The error is %f'%(120-gamma_estimate))"
   ]
  },
  {
   "cell_type": "markdown",
   "metadata": {},
   "source": [
    "---\n",
    "\n",
    "Write two functions to calculate $\\Gamma(x)$ by using:\n",
    "\n",
    "\n",
    "\n",
    "**1.3.1 (Points 15)**\n",
    "**threading** with N=4 threads; \n",
    "\n",
    "**1.3.2 (Points 15)**\n",
    "**multiprocessing** with N=4 processes. \n",
    "\n",
    "\n",
    "**1.3.3 (Points 10)** \n",
    "Compare the times of the three versions and write a short explanation of what you are observing.\n",
    "\n",
    "How does the answer change when N=8 and why?\n",
    "\n",
    "    "
   ]
  },
  {
   "cell_type": "code",
   "execution_count": 8,
   "metadata": {},
   "outputs": [],
   "source": [
    "def calculate_gamma_small(x, steps):  # calculate gamma in smaller range\n",
    "    output = 0\n",
    "    number_of_steps = len(steps)\n",
    "    bound_1, bound_2 = steps[0], steps[-1]\n",
    "    step = (bound_2-bound_1)/number_of_steps     # size of step \n",
    "    ts = np.linspace(bound_1, bound_2, number_of_steps)  # the input t\n",
    "    for t in ts:\n",
    "        output += step * (t**(x-1)*math.exp(-t))\n",
    "    return output\n",
    "from functools import partial\n",
    "calculate_gamma_small_new = partial(calculate_gamma_small, 6) # set fix input x"
   ]
  },
  {
   "cell_type": "code",
   "execution_count": 9,
   "metadata": {},
   "outputs": [
    {
     "name": "stdout",
     "output_type": "stream",
     "text": [
      "Time spent with multithread: 5.872165,\n",
      "Estimation: 119.999952\n"
     ]
    }
   ],
   "source": [
    "# inputs:\n",
    "num_threads = 4\n",
    "# seperate the steps based on num_threads:\n",
    "bound_1=0\n",
    "bound_2=1000\n",
    "number_of_steps=10_000_000\n",
    "new_bounds = np.array_split(np.linspace(bound_1, bound_2, number_of_steps), num_threads)\n",
    "# 1.3.1 threading:\n",
    "start_t = time()\n",
    "from concurrent.futures import ThreadPoolExecutor\n",
    "with ThreadPoolExecutor(max_workers=num_threads) as ex:\n",
    "    results_mt = ex.map(calculate_gamma_small_new, new_bounds)\n",
    "print('Time spent with multithread: %f,\\nEstimation: %f'%((time() - start_t), sum(results_mt)))"
   ]
  },
  {
   "cell_type": "code",
   "execution_count": 10,
   "metadata": {
    "scrolled": true
   },
   "outputs": [
    {
     "name": "stdout",
     "output_type": "stream",
     "text": [
      "Time spent with multiprocessing: 1.623876,\n",
      "Estimation: 119.999952\n"
     ]
    }
   ],
   "source": [
    "# 1.3.2 multiprocessing:\n",
    "import multiprocess as mp\n",
    "\n",
    "# multiprocessing:\n",
    "start_t = time()\n",
    "with mp.Pool(num_threads) as p:\n",
    "    results_mp = p.map(calculate_gamma_small_new, new_bounds)\n",
    "print('Time spent with multiprocessing: %f,\\nEstimation: %f'%((time() - start_t), sum(results_mp)))"
   ]
  },
  {
   "cell_type": "markdown",
   "metadata": {},
   "source": [
    "### 1.3.3 (a):\n",
    "Using the result from above chunks, multiprocessing had a significant improvement with time=1.571588 while multithreading has similar time efficiency (5.377434 -> 5.266205)"
   ]
  },
  {
   "cell_type": "markdown",
   "metadata": {},
   "source": [
    "### 1.3.3 (b):\n",
    "\n",
    "The below samples had similar result with number of threads = 4. I thinks the time is too short to see a difference"
   ]
  },
  {
   "cell_type": "code",
   "execution_count": 11,
   "metadata": {},
   "outputs": [
    {
     "name": "stdout",
     "output_type": "stream",
     "text": [
      "Time spent without concurrency: 5.531827,\n",
      "Estimation: 119.999988\n",
      "Time spent with multithread: 5.427624,\n",
      "Estimation: 119.999952\n",
      "Time spent with multiprocessing: 1.620782,\n",
      "Estimation: 119.999952\n"
     ]
    }
   ],
   "source": [
    "calculate_gamma(x=6, bound_1=0, bound_2=1000, number_of_steps=10_000_000)\n",
    "num_threads = 8\n",
    "start_t = time()\n",
    "from concurrent.futures import ThreadPoolExecutor\n",
    "with ThreadPoolExecutor(max_workers=num_threads) as ex:\n",
    "    results_mt = ex.map(calculate_gamma_small_new, new_bounds)\n",
    "print('Time spent with multithread: %f,\\nEstimation: %f'%((time() - start_t), sum(results_mt)))\n",
    "\n",
    "# multiprocessing:\n",
    "start_t = time()\n",
    "with mp.Pool(num_threads) as p:\n",
    "    results_mp = p.map(calculate_gamma_small_new, new_bounds)\n",
    "print('Time spent with multiprocessing: %f,\\nEstimation: %f'%((time() - start_t), sum(results_mp)))\n",
    "\n"
   ]
  },
  {
   "cell_type": "markdown",
   "metadata": {},
   "source": [
    "---\n",
    "\n",
    "**Problem 2 (40 points)**\n",
    "\n",
    "__Website uptime__ is the time that a website or web service is available to the users over a given period.\n",
    "\n",
    "The task is to build an application that checks the uptime of websites. \n",
    "\n",
    "- The application should go over a list of website URLs and checks if those websites are up.\n",
    "- Instead of performing a classic HTTP GET request, it performs a HEAD request so that it does not affect traffic significantly.\n",
    "- If the HTTP status is in the danger ranges (400+, 500+), a message is casted. \n",
    "\n",
    "Here are some useful functions:"
   ]
  },
  {
   "cell_type": "code",
   "execution_count": 12,
   "metadata": {},
   "outputs": [],
   "source": [
    "#### _website uptimer_ ####\n",
    "\n",
    "import time\n",
    "import logging\n",
    "import requests\n",
    " \n",
    "class WebsiteDownException(Exception):\n",
    "    pass\n",
    " \n",
    "def ping_website(address, timeout=20):\n",
    "    \"\"\"\n",
    "    Check if a website is down. A website is considered down \n",
    "    if either the status_code >= 400 or if the timeout expires\n",
    "     \n",
    "    Throw a WebsiteDownException if any of the website down conditions are met\n",
    "    \"\"\"\n",
    "    try:\n",
    "        response = requests.head(address, timeout=timeout)\n",
    "        if response.status_code >= 400:\n",
    "            logging.warning(\"Website %s returned status_code=%s\" % (address, response.status_code))\n",
    "            raise WebsiteDownException()\n",
    "    except requests.exceptions.RequestException:\n",
    "        logging.warning(\"Timeout expired for website %s\" % address)\n",
    "        raise WebsiteDownException()\n",
    "         \n",
    "def check_website(address):\n",
    "    \"\"\"\n",
    "    Utility function: check if a website is down, if so, notify the user\n",
    "    \"\"\"\n",
    "    try:\n",
    "        ping_website(address)\n",
    "    except WebsiteDownException:\n",
    "        print('The website ' + address + ' is down')\n",
    "        "
   ]
  },
  {
   "cell_type": "markdown",
   "metadata": {},
   "source": [
    "---\n",
    "\n",
    "You need a website list to try our system out. Create your own list or use the following one. \n",
    "\n",
    "---"
   ]
  },
  {
   "cell_type": "code",
   "execution_count": 13,
   "metadata": {},
   "outputs": [],
   "source": [
    "WEBSITE_LIST = [\n",
    "    'http://amazon.co.uk',\n",
    "    'http://amazon.com',\n",
    "    'http://facebook.com',\n",
    "    'http://google.com',\n",
    "    'http://google.fr',\n",
    "    'http://google.es',\n",
    "    'http://google.co.uk',\n",
    "    'http://gmail.com',\n",
    "    'http://stackoverflow.com',\n",
    "    'http://github.com',\n",
    "    'http://heroku.com',\n",
    "    'http://really-cool-available-domain.com',  \n",
    "    'http://djangoproject.com',\n",
    "    'http://rubyonrails.org',\n",
    "    'http://basecamp.com',\n",
    "    'http://trello.com',\n",
    "    'http://shopify.com',\n",
    "    'http://another-really-interesting-domain.co', \n",
    "    'http://airbnb.com',\n",
    "    'http://instagram.com',\n",
    "    'http://snapchat.com',\n",
    "    'http://youtube.com',\n",
    "    'http://baidu.com',\n",
    "    'http://yahoo.com',\n",
    "    'http://live.com',\n",
    "    'http://linkedin.com',\n",
    "    'http://netflix.com',\n",
    "    'http://wordpress.com',\n",
    "    'http://bing.com',\n",
    "]"
   ]
  },
  {
   "cell_type": "markdown",
   "metadata": {},
   "source": [
    "---\n",
    "\n",
    "A serial version of the _website uptimer_ can be written as: \n",
    "\n",
    "---\n"
   ]
  },
  {
   "cell_type": "code",
   "execution_count": 14,
   "metadata": {},
   "outputs": [
    {
     "name": "stderr",
     "output_type": "stream",
     "text": [
      "WARNING:root:Timeout expired for website http://really-cool-available-domain.com\n"
     ]
    },
    {
     "name": "stdout",
     "output_type": "stream",
     "text": [
      "The website http://really-cool-available-domain.com is down\n"
     ]
    },
    {
     "name": "stderr",
     "output_type": "stream",
     "text": [
      "WARNING:root:Timeout expired for website http://another-really-interesting-domain.co\n"
     ]
    },
    {
     "name": "stdout",
     "output_type": "stream",
     "text": [
      "The website http://another-really-interesting-domain.co is down\n",
      "Time for multithreading: 3.830073833465576secs\n"
     ]
    }
   ],
   "source": [
    "import time\n",
    " \n",
    "start_time = time.time()\n",
    " \n",
    "for address in WEBSITE_LIST:\n",
    "    check_website(address)\n",
    "         \n",
    "end_time = time.time()        \n",
    " \n",
    "print(\"Time for multithreading: %ssecs\" % (end_time - start_time))"
   ]
  },
  {
   "cell_type": "markdown",
   "metadata": {},
   "source": [
    "You should build two versions of the **website uptimer**, by using:\n",
    "\n",
    "**2.1 (Points 15)**\n",
    "**threading** with N=4 threads; \n",
    "\n",
    "**2.2 (Points 15)**\n",
    "**multiprocessing** with N=4 processes. \n",
    "\n",
    "\n",
    "**2.3 (Points 10)** \n",
    "\n",
    "Compare the times of the three versions and write a short explanation of what you are observing.\n",
    "\n",
    "How does the answer change when N=8 and why?\n"
   ]
  },
  {
   "cell_type": "code",
   "execution_count": 15,
   "metadata": {},
   "outputs": [
    {
     "name": "stderr",
     "output_type": "stream",
     "text": [
      "WARNING:root:Timeout expired for website http://really-cool-available-domain.com\n"
     ]
    },
    {
     "name": "stdout",
     "output_type": "stream",
     "text": [
      "The website http://really-cool-available-domain.com is down\n"
     ]
    },
    {
     "name": "stderr",
     "output_type": "stream",
     "text": [
      "WARNING:root:Timeout expired for website http://another-really-interesting-domain.co\n"
     ]
    },
    {
     "name": "stdout",
     "output_type": "stream",
     "text": [
      "The website http://another-really-interesting-domain.co is down\n",
      "Time for multiprocessing: 0.920421838760376secs\n"
     ]
    }
   ],
   "source": [
    "# 2.1 multithreading\n",
    "from queue import Queue\n",
    "from threading import Thread\n",
    "from time import time\n",
    "def check_website_thread(q):\n",
    "    \"\"\"\n",
    "    Utility function: check if a website is down, if so, notify the user\n",
    "    \"\"\"\n",
    "    while True:\n",
    "        address = q.get()\n",
    "        check_website(address)\n",
    "        q.task_done()\n",
    "start_time = time()\n",
    "q = Queue()\n",
    "num_threads = 4\n",
    "for _ in range(num_threads):\n",
    "    worker = Thread(target=check_website_thread, args=(q,))\n",
    "    worker.setDaemon(True)\n",
    "    worker.start()\n",
    "for address in WEBSITE_LIST:  \n",
    "    q.put(address)\n",
    "q.join()\n",
    "print(\"Time for multiprocessing: %ssecs\" % (time() - start_time))"
   ]
  },
  {
   "cell_type": "code",
   "execution_count": 16,
   "metadata": {},
   "outputs": [
    {
     "name": "stderr",
     "output_type": "stream",
     "text": [
      "WARNING:root:Timeout expired for website http://really-cool-available-domain.com\n"
     ]
    },
    {
     "name": "stdout",
     "output_type": "stream",
     "text": [
      "The website http://really-cool-available-domain.com is down\n"
     ]
    },
    {
     "name": "stderr",
     "output_type": "stream",
     "text": [
      "WARNING:root:Timeout expired for website http://another-really-interesting-domain.co\n"
     ]
    },
    {
     "name": "stdout",
     "output_type": "stream",
     "text": [
      "The website http://another-really-interesting-domain.co is down\n"
     ]
    },
    {
     "name": "stderr",
     "output_type": "stream",
     "text": [
      "WARNING:root:Timeout expired for website http://baidu.com\n"
     ]
    },
    {
     "name": "stdout",
     "output_type": "stream",
     "text": [
      "The website http://baidu.com is down\n",
      "Time for Serial: 1.205902099609375secs\n"
     ]
    }
   ],
   "source": [
    "# 2.2 multiprocessing:\n",
    "start_time = time()\n",
    "with mp.Pool(num_threads) as p:    # don't need to close\n",
    "    results_mp = p.map(check_website, WEBSITE_LIST) \n",
    "print(\"Time for Serial: %ssecs\" % (time() - start_time))\n"
   ]
  },
  {
   "cell_type": "markdown",
   "metadata": {},
   "source": [
    "### 2.3\n",
    "\n",
    "Both multithreading & multiprocessing improves the result with better time efficiency in multithreading and multithreading performs the best. When turning threads to 8, both of them have greate improvement. This is because most of the time we spent were waiting for website response. Multithreading thus can have great performance\n"
   ]
  },
  {
   "cell_type": "code",
   "execution_count": 17,
   "metadata": {},
   "outputs": [
    {
     "name": "stderr",
     "output_type": "stream",
     "text": [
      "WARNING:root:Timeout expired for website http://really-cool-available-domain.com\n",
      "WARNING:root:Timeout expired for website http://another-really-interesting-domain.co\n"
     ]
    },
    {
     "name": "stdout",
     "output_type": "stream",
     "text": [
      "The website http://really-cool-available-domain.com is down\n",
      "The website http://another-really-interesting-domain.co is down\n",
      "Time for multithreading: 0.7011837959289551secs\n"
     ]
    },
    {
     "name": "stderr",
     "output_type": "stream",
     "text": [
      "WARNING:root:Timeout expired for website http://really-cool-available-domain.com\n"
     ]
    },
    {
     "name": "stdout",
     "output_type": "stream",
     "text": [
      "The website http://really-cool-available-domain.com is down\n"
     ]
    },
    {
     "name": "stderr",
     "output_type": "stream",
     "text": [
      "WARNING:root:Timeout expired for website http://another-really-interesting-domain.co\n"
     ]
    },
    {
     "name": "stdout",
     "output_type": "stream",
     "text": [
      "The website http://another-really-interesting-domain.co is down\n",
      "Time for multiprocessing: 0.6960799694061279secs\n"
     ]
    }
   ],
   "source": [
    "start_time = time()\n",
    "q = Queue()\n",
    "num_threads = 8\n",
    "for _ in range(num_threads):\n",
    "    worker = Thread(target=check_website_thread, args=(q,))\n",
    "    worker.setDaemon(True)\n",
    "    worker.start()\n",
    "for address in WEBSITE_LIST:  \n",
    "    q.put(address)\n",
    "q.join()\n",
    "print(\"Time for multithreading: %ssecs\" % (time() - start_time))\n",
    "\n",
    "start_time = time()\n",
    "with mp.Pool(num_threads) as p:    # don't need to close\n",
    "    results_mp = p.map(check_website, WEBSITE_LIST) \n",
    "print(\"Time for multiprocessing: %ssecs\" % (time() - start_time))"
   ]
  }
 ],
 "metadata": {
  "kernelspec": {
   "display_name": "Python 3 (ipykernel)",
   "language": "python",
   "name": "python3"
  },
  "language_info": {
   "codemirror_mode": {
    "name": "ipython",
    "version": 3
   },
   "file_extension": ".py",
   "mimetype": "text/x-python",
   "name": "python",
   "nbconvert_exporter": "python",
   "pygments_lexer": "ipython3",
   "version": "3.8.16"
  }
 },
 "nbformat": 4,
 "nbformat_minor": 2
}
