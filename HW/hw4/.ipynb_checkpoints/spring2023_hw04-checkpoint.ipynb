{
 "cells": [
  {
   "cell_type": "markdown",
   "metadata": {},
   "source": [
    "# Advanced Python for Data Science\n",
    "### DS-GA 1019\n",
    "\n",
    "### Homework Assignment 04\n",
    "### Due date: 03/01/2023, 4:00PM\n",
    "### Student's Name: Ching-Tsung(Deron) Tsai\n",
    "### Student's e-mail: ct2840@nyu.edu"
   ]
  },
  {
   "cell_type": "markdown",
   "metadata": {},
   "source": [
    "# Problem 1 (100 points)\n",
    "\n",
    "The task is to optimize your solutions by using \"line_profiler\". \n",
    "\n",
    "Your submission \"spring2023_sol04_yourid.ipynb\" will contain:\n",
    "- the first part is your original solution (a solution that you originally wrote); \n",
    "- the second part is your final, optimized solution after using line_profiler; \n",
    "- both of which will include the line_profiler results, and your detailed comments.\n",
    "\n",
    "\n",
    "The problem is to simulate a random motion of $n$ objects over a discrete time. \n",
    "\n",
    "Concretely, there is:\n",
    "- a unit square $[0,1]^2$, \n",
    "- $n$ points within the unit square, \n",
    "- and the time is discrete $t=0, 1, 2, \\dots$. \n",
    "\n",
    "At time $t=0$, the positions of $n$ points are randomly and uniformly distributed within the unit square; call these positions $\\{p_0, p_1, p_2,\\dots, p_{n-1}\\}$. \n",
    "\n",
    "At every time step $t \\geq 0$, every point $i$, chooses to randomly move in one of four directions: left, right, up, down. The distance is also random uniform number on $[0, \\delta]$, where $\\delta$ is given. \n",
    "\n",
    "That is, at every time step $t$ and for every $i$ we generate a random move as: \n",
    "$$ p_i := p_i + r_i \\cdot u_i$$\n",
    "where \n",
    "$$ r_i \\sim uniform[0, \\delta],$$ \n",
    "and \n",
    "$u_i$ represents a random direction, i.e. a randomly chosen vector among $(-1, 0), (1, 0), (0, -1), (0, 1)$.\n",
    "\n",
    "**Dynamics**\n",
    "\n",
    "Now, one would like to examine and plot the diagram of the minimum distance $d_{\\min}$ among these $n$ points over $T$ iterations.\n",
    "\n",
    "The task is to complete the rest of this notebook, where definitions of the functions main_orignal and main_optimized are given below. "
   ]
  },
  {
   "cell_type": "code",
   "execution_count": 13,
   "metadata": {},
   "outputs": [],
   "source": [
    "import numpy as np\n",
    "import random\n",
    "import matplotlib.pyplot as plt"
   ]
  },
  {
   "cell_type": "code",
   "execution_count": 14,
   "metadata": {},
   "outputs": [
    {
     "name": "stdout",
     "output_type": "stream",
     "text": [
      "The line_profiler extension is already loaded. To reload it, use:\n",
      "  %reload_ext line_profiler\n"
     ]
    }
   ],
   "source": [
    "%load_ext line_profiler"
   ]
  },
  {
   "cell_type": "markdown",
   "metadata": {},
   "source": [
    "---\n",
    "\n",
    "### The original code description: \n",
    "\n",
    "**TO BE POPULATED**\n",
    "\n",
    "**EXPLAIN THE SOLUTION** \n",
    "\n",
    "---\n"
   ]
  },
  {
   "cell_type": "markdown",
   "metadata": {},
   "source": [
    "**Ans**\n",
    "\n",
    "I use random.uniform function to create the needed parameter values($p_i,r_i,u_i$) and use list comprehension for the updating. Then I brutely compared the distances of all combinations and kept the minimum.\n",
    "\n",
    "Although we could improve the random steps by replacing the value generation steps and list comprehension to numpy array, the single line profiler shows that finding the shortest distance took the longest time. I will focus on optimizing the part of getting the minimum distance within the step"
   ]
  },
  {
   "cell_type": "code",
   "execution_count": 15,
   "metadata": {},
   "outputs": [],
   "source": [
    "from itertools import combinations\n",
    "def min_distance(x_cur,y_cur,n):\n",
    "    \"\"\"\n",
    "    x_cur: a list of x-axis value\n",
    "    y_cur: a list of y-axis value\n",
    "    return: float, the min distances among all points\n",
    "    \"\"\"\n",
    "    output = float('inf')\n",
    "    for idx1,idx2 in combinations(range(n),2):\n",
    "        distance_sq = (x_cur[idx1]-x_cur[idx2])**2 + (y_cur[idx1]-y_cur[idx2])**2\n",
    "        if distance_sq < output:\n",
    "            output = distance_sq\n",
    "    return output**0.5\n",
    "def main_original(n, delta, T): \n",
    "    \"\"\" \n",
    "    n: is the number of uniformly at random generated points in the unit square \n",
    "    delta: a maximal move of a point in one of four random directions: left, right, up, or down \n",
    "    T: number of iterations\n",
    "    return: \n",
    "    lst_of_min_distances: of the minimum distances among all n points over times: t=0, 1, 2, \\dots, T - 1,\n",
    "    it is a list of reals of length T\"\"\"\n",
    "    lst_of_min_distances = []\n",
    "    # create n random points within square:\n",
    "    x_cur = [random.uniform(0,1) for _ in range(n)]\n",
    "    y_cur = [random.uniform(0,1) for _ in range(n)]\n",
    "    for i in range(T):\n",
    "        # create ri\n",
    "        ri = [random.uniform(0,delta) for _ in range(n)]\n",
    "        # create ui\n",
    "        ui = [random.choice(((-1,0),(1,0),(0,-1),(0,1))) for _ in range(n)]\n",
    "        \n",
    "        # update:\n",
    "        x_cur = list(map(lambda x,r,u: max(1,min(x+r*u[0],0)),x_cur,ri,ui))\n",
    "        y_cur = list(map(lambda y,r,u:max(1,min(y+r*u[1],0)),y_cur,ri,ui))\n",
    "        cur_min = min_distance(x_cur,y_cur,n)\n",
    "        lst_of_min_distances.append(cur_min)\n",
    "    return lst_of_min_distances"
   ]
  },
  {
   "cell_type": "code",
   "execution_count": 16,
   "metadata": {},
   "outputs": [],
   "source": [
    "n = 1500\n",
    "delta = 1.0 / n\n",
    "T = 40           "
   ]
  },
  {
   "cell_type": "code",
   "execution_count": 17,
   "metadata": {},
   "outputs": [],
   "source": [
    "%lprun -f main_original lst_min_dist = main_original(n, delta, T)"
   ]
  },
  {
   "cell_type": "code",
   "execution_count": 18,
   "metadata": {},
   "outputs": [
    {
     "name": "stdout",
     "output_type": "stream",
     "text": [
      "len: 40\n"
     ]
    },
    {
     "data": {
      "image/png": "[encoded data removed]",
      "text/plain": [
       "<Figure size 640x480 with 1 Axes>"
      ]
     },
     "metadata": {},
     "output_type": "display_data"
    }
   ],
   "source": [
    "# plot the diagram of the minimum distances:\n",
    "# where we rescale distance with by factor $\\sqrt{n}$:\n",
    "print(\"len:\", len(lst_min_dist))\n",
    "plt.plot(range(T), np.array(lst_min_dist) * np.sqrt(n))\n",
    "plt.show()"
   ]
  },
  {
   "cell_type": "markdown",
   "metadata": {},
   "source": [
    "---\n",
    "\n",
    "### The optimized code description: \n",
    "\n",
    "** TO BE POPULATED **\n",
    "\n",
    "** EXPLAIN THE SOLUTION ** \n",
    "\n",
    "---\n"
   ]
  },
  {
   "cell_type": "markdown",
   "metadata": {},
   "source": [
    "**Ans**\n",
    "\n",
    "According to the line profiler, finding the min distance took the longest time for the main function. I decided to use numpy array instead of list to replace the loop with element-wise substraction.\n",
    "\n",
    "My main modifications are:\n",
    "\n",
    "- turn all list comprehension into numpy operation\n",
    "\n",
    "- use numpy.random to create n random numbers at once. (Originally use random and list comprehension)\n",
    "\n",
    "- use numpy array broadcasting to create pairwise subtraction of all the points, and subsequently find the min distance within the array. The details are in the notes of function min_distance_np\n",
    "\n",
    "- use yield instead of return to save memory\n",
    "\n",
    "The function was speed up for more than 6 times. Although the line_profiler shows that the function still spent most of time in calculating min distance."
   ]
  },
  {
   "cell_type": "code",
   "execution_count": 19,
   "metadata": {},
   "outputs": [],
   "source": [
    "def min_distance_np(p_cur,n):\n",
    "    \"\"\"\n",
    "    p_cur: a n*2 numpy array, col0 is the x-axis, col1 is the y-axis\n",
    "    y_cur: a list of y-axis value\n",
    "    return: float, the min distances among all points\n",
    "    \"\"\"\n",
    "    all_dist = p_cur - p_cur.reshape(n,1,2) # prepend: n,2 -> 1,n,2\n",
    "    # > (1,n,2) - (n,1,2) = (n,n,2) == z,row,col\n",
    "    all_dist = np.sum(all_dist**2,axis=2)        # get the sum of x+y axis\n",
    "    #all_dist.diagonal()[:] = float(\"inf\")  # failed, read-only mode\n",
    "    np.fill_diagonal(all_dist,float(\"inf\")) # because diagonal are the distance of point to itself, use inf to replace 0\n",
    "    output = np.sqrt(np.min(all_dist))\n",
    "    return output\n",
    "\n",
    "def main_optimized(n, delta, T): \n",
    "    \"\"\" \n",
    "    n: is the number of uniformly at random generated points in the unit square \n",
    "    delta: a maximal move of a point in one of four random directions: left, right, up, or down \n",
    "    T: number of iterations\n",
    "    return: \n",
    "    lst_of_min_distances: of the minimum distances among all n points over times: t=0, 1, 2, \\dots, T - 1,\n",
    "    it is a list of reals of length T\"\"\"\n",
    "    lst_of_min_distances = []\n",
    "    u_src = np.array(((-1,0),(1,0),(0,-1),(0,1))) # source for ui generation\n",
    "    # starting point\n",
    "    p_cur = np.random.uniform(0,1,2*n).reshape(n,2)\n",
    "    for i in range(T):\n",
    "        # create ri\n",
    "        ri = np.random.uniform(0,delta,n)\n",
    "        # create ui\n",
    "        ui_idx = np.random.choice(4, size=n, replace=True)\n",
    "        ui = u_src[ui_idx, :]\n",
    "        # update:\n",
    "        p_cur[:,0] += ri*ui[:,0] \n",
    "        p_cur[:,1] += ri*ui[:,1] \n",
    "        p_cur = np.clip(p_cur, 0, 1)   # turn val > 1 to 1 & val < 0 to 0\n",
    "        yield min_distance_np(p_cur,n)\n",
    "        #lst_of_min_distances.append(cur_min)\n",
    "    #return lst_of_min_distances "
   ]
  },
  {
   "cell_type": "code",
   "execution_count": 20,
   "metadata": {},
   "outputs": [
    {
     "data": {
      "text/plain": [
       "40"
      ]
     },
     "execution_count": 20,
     "metadata": {},
     "output_type": "execute_result"
    }
   ],
   "source": [
    "n=1500\n",
    "delta = 1.0 / n\n",
    "T = 40\n",
    "len(lst_min_dist)"
   ]
  },
  {
   "cell_type": "code",
   "execution_count": 21,
   "metadata": {},
   "outputs": [],
   "source": [
    "%lprun -f main_optimized lst_min_dist = list(main_optimized(n, delta, T))"
   ]
  },
  {
   "cell_type": "code",
   "execution_count": 22,
   "metadata": {},
   "outputs": [
    {
     "name": "stdout",
     "output_type": "stream",
     "text": [
      "len: 40\n"
     ]
    },
    {
     "data": {
      "image/png": "[encoded data removed]",
      "text/plain": [
       "<Figure size 640x480 with 1 Axes>"
      ]
     },
     "metadata": {},
     "output_type": "display_data"
    }
   ],
   "source": [
    "# plot the diagram of the minimum distances:\n",
    "# where we rescale distance by a factor $\\sqrt{n}$:\n",
    "print(\"len:\", len(lst_min_dist))\n",
    "plt.plot(range(T), np.array(lst_min_dist) * np.sqrt(n)) \n",
    "plt.show()"
   ]
  }
 ],
 "metadata": {
  "kernelspec": {
   "display_name": "Python 3 (ipykernel)",
   "language": "python",
   "name": "python3"
  },
  "language_info": {
   "codemirror_mode": {
    "name": "ipython",
    "version": 3
   },
   "file_extension": ".py",
   "mimetype": "text/x-python",
   "name": "python",
   "nbconvert_exporter": "python",
   "pygments_lexer": "ipython3",
   "version": "3.8.16"
  }
 },
 "nbformat": 4,
 "nbformat_minor": 2
}
