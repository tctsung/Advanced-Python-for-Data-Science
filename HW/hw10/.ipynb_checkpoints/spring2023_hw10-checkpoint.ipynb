{
 "cells": [
  {
   "cell_type": "markdown",
   "metadata": {},
   "source": [
    "## Homework 10: GPUs\n",
    "\n",
    "## Due Date: April 26, 2023, 11:59pm\n",
    "\n",
    "#### Firstname Lastname: Ching-Tsung(Deron) Tsai\n",
    "\n",
    "#### E-mail: ct2840@nyu.edu\n",
    "\n",
    "#### Enter your solutions and submit this notebook"
   ]
  },
  {
   "cell_type": "markdown",
   "metadata": {},
   "source": [
    "---\n",
    "\n",
    "**Problem 1 (100p)**\n",
    "\n",
    "\n",
    "Write two programs which will be able to run in parallel on a GPU, one using Numba/CUDA (50p), one using PyOpenCL (50p).\n",
    "\n",
    "\n",
    "Each program will:\n",
    "\n",
    "- draw two random vectors $\\vec u$ and $\\vec v$ from $[0,1]^N$ where $N = 10^7$;\n",
    "\n",
    "\n",
    "- calculate and output similarity between $\\vec u$ and $\\vec v$.\n",
    "\n",
    "\n",
    "\n",
    "\n",
    "The similarity between two vectors $\\vec u$ and $\\vec v$ is defined here as a `cosine` value of the angle between them $\\measuredangle \\left( \\vec u, \\vec v \\right)$. That is, the program returns: \n",
    "\n",
    "$$\\cos \\left( \\measuredangle \\left( \\vec u, \\vec v \\right) \\right).$$\n",
    "\n",
    "\n",
    "Note that the output is a real value and must belong to $[-1, 1]$."
   ]
  },
  {
   "cell_type": "markdown",
   "metadata": {},
   "source": [
    "### CUDA"
   ]
  },
  {
   "cell_type": "code",
   "execution_count": 1,
   "metadata": {},
   "outputs": [],
   "source": [
    "!export NUMBA_ENABLE_CUDASIM=1"
   ]
  },
  {
   "cell_type": "code",
   "execution_count": 2,
   "metadata": {},
   "outputs": [
    {
     "name": "stdout",
     "output_type": "stream",
     "text": [
      "env: NUMBA_ENABLE_CUDASIM=1\n"
     ]
    }
   ],
   "source": [
    "%env NUMBA_ENABLE_CUDASIM=1"
   ]
  },
  {
   "cell_type": "code",
   "execution_count": 3,
   "metadata": {},
   "outputs": [
    {
     "name": "stdout",
     "output_type": "stream",
     "text": [
      "<Managed Device 0>\n"
     ]
    }
   ],
   "source": [
    "from numba import cuda\n",
    "print(cuda.gpus)\n",
    "cuda.select_device(0)"
   ]
  },
  {
   "cell_type": "code",
   "execution_count": 4,
   "metadata": {},
   "outputs": [
    {
     "name": "stdout",
     "output_type": "stream",
     "text": [
      "0.75015926\n"
     ]
    }
   ],
   "source": [
    "import numpy as np\n",
    "from numba import cuda, float32\n",
    "import math\n",
    "\n",
    "@cuda.jit\n",
    "def cos_similarity(u, v, s, norm_u, norm_v):\n",
    "    \"\"\"\n",
    "    u, v: input arrays\n",
    "    s, norm_u, norm_v: output arrays that save results\n",
    "    \"\"\"\n",
    "    i = cuda.grid(1)\n",
    "    if i < u.shape[0]:       # avoid out of scope error\n",
    "        s[i] = u[i] * v[i]\n",
    "        norm_u[i] = u[i] * u[i]\n",
    "        norm_v[i] = v[i] * v[i]\n",
    "N = int(1e7)\n",
    "\n",
    "# create 2 random inputs:\n",
    "np.random.seed(777)        # make outcome reproducible\n",
    "u = cuda.to_device(np.random.rand(N).astype(np.float32))\n",
    "v = cuda.to_device(np.random.rand(N).astype(np.float32))\n",
    "\n",
    "# to save outputs:\n",
    "s = cuda.device_array(N, dtype=np.float32)\n",
    "norm_u = cuda.device_array(N, dtype=np.float32)\n",
    "norm_v = cuda.device_array(N, dtype=np.float32)\n",
    "\n",
    "\n",
    "threads_per_block = 32\n",
    "blocks_per_grid = math.ceil(N / threads_per_block)\n",
    "\n",
    "# calculation:\n",
    "cos_similarity[blocks_per_grid, threads_per_block](u, v, s, norm_u, norm_v)\n",
    "\n",
    "# calculate the cosine similarity\n",
    "dot_product = s.sum()\n",
    "norm_u_sum = norm_u.sum()\n",
    "norm_v_sum = norm_v.sum()\n",
    "similarity = dot_product / (np.sqrt(norm_u_sum) * np.sqrt(norm_v_sum))\n",
    "print(similarity)"
   ]
  },
  {
   "cell_type": "markdown",
   "metadata": {},
   "source": [
    "### PyOpenCL"
   ]
  },
  {
   "cell_type": "code",
   "execution_count": 10,
   "metadata": {},
   "outputs": [
    {
     "name": "stdout",
     "output_type": "stream",
     "text": [
      "0.75015926\n"
     ]
    }
   ],
   "source": [
    "import pyopencl as cl  \n",
    "import pyopencl.array as pycl_array  \n",
    "import numpy as np  \n",
    "\n",
    "context = cl.create_some_context()  \n",
    "queue = cl.CommandQueue(context) \n",
    "\n",
    "N = int(1e7)\n",
    "# create 2 random inputs\n",
    "np.random.seed(777)       # make output reproducible\n",
    "u = pycl_array.to_device(queue, np.random.rand(N).astype(np.float32))\n",
    "v = pycl_array.to_device(queue, np.random.rand(N).astype(np.float32))\n",
    "\n",
    "# to save outputs:\n",
    "s = pycl_array.empty_like(u) \n",
    "norm_u = pycl_array.empty_like(u)\n",
    "norm_v = pycl_array.empty_like(u)\n",
    "\n",
    "program = cl.Program(context, \"\"\"\n",
    "__kernel void cos_similarity(__global const float *u, __global const float *v, __global float *s, __global float *norm_u,__global float *norm_v )\n",
    "{\n",
    "  int i = get_global_id(0);\n",
    "  s[i] = u[i]*v[i];\n",
    "  norm_u[i] = u[i]*u[i];\n",
    "  norm_v[i] = v[i]*v[i];\n",
    "}\"\"\").build()\n",
    "\n",
    "# calculation:\n",
    "program.cos_similarity(queue, u.shape, None, u.data, v.data, s.data, norm_u.data, norm_v.data)\n",
    "\n",
    "dot_product = np.sum(s.get())\n",
    "norm_u_sum = np.sum(norm_u.get())\n",
    "norm_v_sum = np.sum(norm_v.get())\n",
    "similarity = dot_product / (np.sqrt(norm_u_sum) * np.sqrt(norm_v_sum))\n",
    "print(similarity)"
   ]
  }
 ],
 "metadata": {
  "kernelspec": {
   "display_name": "Python 3 (ipykernel)",
   "language": "python",
   "name": "python3"
  },
  "language_info": {
   "codemirror_mode": {
    "name": "ipython",
    "version": 3
   },
   "file_extension": ".py",
   "mimetype": "text/x-python",
   "name": "python",
   "nbconvert_exporter": "python",
   "pygments_lexer": "ipython3",
   "version": "3.8.16"
  }
 },
 "nbformat": 4,
 "nbformat_minor": 2
}
