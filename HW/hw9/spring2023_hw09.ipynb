{
 "cells": [
  {
   "cell_type": "markdown",
   "metadata": {},
   "source": [
    "## Homework 09:  Parallel Programming 02\n",
    "\n",
    "## Due Date: Apr 19, 2023, 11:59pm\n",
    "\n",
    "#### Firstname Lastname: Ching-Tsung Tsai\n",
    "\n",
    "#### E-mail: ct2840@nyu.edu\n",
    "\n",
    "#### Enter your solutions and submit this notebook"
   ]
  },
  {
   "cell_type": "markdown",
   "metadata": {},
   "source": [
    "---\n",
    "\n",
    "**Problem 1 (40p)**\n",
    "\n",
    "In this problem the goal is to calculate the mean and standard deviation of a large list of numbers by using Reduction as one of Collective Operations, see Lecture 11. \n",
    "\n",
    "\n",
    "Consider $N = 256000$ random variables uniform on $[0, 1]$, call these $x_0, x_1, \\dots, x_{N - 1}$.  \n",
    "\n",
    "\n",
    "Write an MPI program with $N=16$ processes that outputs the average and standard deviation of $x_0, x_1, \\dots, x_{N - 1}$.\n",
    "\n",
    "\n",
    "To simplify the problem, let one process, say `Process 0`, independently draws $N$ samples uniformly on $[0, 1]$.\n",
    "\n",
    "How do you explain the results?\n",
    "\n",
    "\n",
    "**Instructions:** \n",
    "Your program should use MPI4PY and collective operations. \n",
    "Save your program as 2020_spring_sol09_pr01.py and run it from the terminal as:\n",
    "\n",
    "```\n",
    "mpirun -n 16 python 2020_spring_sol09_pr01.py\n",
    "```\n"
   ]
  },
  {
   "cell_type": "code",
   "execution_count": 68,
   "metadata": {},
   "outputs": [
    {
     "name": "stdout",
     "output_type": "stream",
     "text": [
      "Overwriting 2020_spring_sol09_pr01.py\n"
     ]
    }
   ],
   "source": [
    "%%writefile 2020_spring_sol09_pr01.py\n",
    "from mpi4py import MPI\n",
    "import numpy as np\n",
    "\n",
    "comm = MPI.COMM_WORLD    # global communicator\n",
    "rank = comm.Get_rank()   # current rank\n",
    "sz = comm.Get_size()     # -n\n",
    "n = 256000\n",
    "# MPI:\n",
    "if rank == 0:\n",
    "    \n",
    "    data = np.random.uniform(0,1, size=[sz,int(n/sz)]).astype('f')  \n",
    "else:\n",
    "    data = None\n",
    "\n",
    "recvbuf = np.empty(int(n/sz), dtype=\"f\")  # buffer to receive\n",
    "comm.Scatter(data,recvbuf, root = 0)    # scatter data evenly to each worker\n",
    "local_sum = sum(recvbuf)\n",
    "global_sum = comm.allreduce(local_sum, MPI.SUM)   # gather sum from all process\n",
    "global_mean = global_sum/n\n",
    "local_sq_diff = sum((num-global_mean)**2 for num in recvbuf) \n",
    "global_sq_diff = comm.reduce(local_sq_diff, MPI.SUM, 0)\n",
    "if rank == 0:\n",
    "    global_sd = (global_sq_diff/n)**0.5\n",
    "    print(f\"Mean by MPI: {global_mean:.5f}, SD by MPI: {global_sd:.5f}\")\n",
    "    print(f\"Mean by numpy built-in: {np.mean(data):.5f}, SD numpy built-in: {np.std(data):.5f}\")\n"
   ]
  },
  {
   "cell_type": "code",
   "execution_count": 69,
   "metadata": {},
   "outputs": [
    {
     "name": "stdout",
     "output_type": "stream",
     "text": [
      "Mean by MPI: 0.49886, SD by MPI: 0.28846\r\n",
      "Mean by numpy built-in: 0.49886, SD numpy built-in: 0.28846\r\n"
     ]
    }
   ],
   "source": [
    "!mpirun -n 16 python3 2020_spring_sol09_pr01.py"
   ]
  },
  {
   "cell_type": "markdown",
   "metadata": {},
   "source": [
    "\n",
    "---\n",
    "**Problem 2 (60p)**\n",
    "\n",
    "In this problem the goal is to demonstrate how one can use a Domain Decomposition and  Collective Operations. \n",
    "\n",
    "Consider the exponential distribution $X \\sim \\textrm{Exp}(1)$ with the unit mean. Find numerical approximations of moments of the exponential random variable. \n",
    "\n",
    "That is, for a random variable $X$ with the distribution $f(x) = e^{-x}$ for $x \\geq 0$, compute the first $15$ moments, where the $k$-th moment is defined as:\n",
    "$$I_k = \\int_{0}^{\\infty} x^k f(x) dx.$$\n",
    "\n",
    "\n",
    "Your program should use MPI parallel collective instructions, where the integration is performed in parallel over $N=16$ processes, over a finite range $[0, M)$, where $M=1000$, with $N = 16$ partitions and $1000$ increments per partition, see Lecture 10 and 11.\n",
    "\n",
    "Provide evaluations of $J_1, J_2, \\dots, J_{15}$, where $$J_k = \\int_{0}^{M} x^k f(x) dx.$$\n",
    "\n",
    "\n",
    "**Instructions:** \n",
    "\n",
    "Save your program as 2020_sol09_pr02.py; and run it from the terminal as:\n",
    "\n",
    "```\n",
    "mpirun -n 16 python 2020_spring_sol09_pr02.py\n",
    "```\n",
    "\n",
    "\n",
    "**Bonus Question (10 points):** \n",
    "\n",
    "What is the value of $I_k$, as a function of $k$? How can it be derived?"
   ]
  },
  {
   "cell_type": "code",
   "execution_count": 89,
   "metadata": {},
   "outputs": [
    {
     "data": {
      "text/plain": [
       "array([0.])"
      ]
     },
     "execution_count": 89,
     "metadata": {},
     "output_type": "execute_result"
    }
   ],
   "source": [
    "def I(M, k, n=10000):   \n",
    "    \"\"\"\n",
    "    M: upperbound of the integration\n",
    "    k: the kth momentum\n",
    "    n: number of splits for trapezoidal rule, default=10000\n",
    "    \"\"\"\n",
    "    bounds = np.linspace(0,M,n)  # split M to n pieces\n",
    "    interval = M/n               # the interval(x-axis length) of each partial sum\n",
    "    sums = 0                     # buffer to calculate integration\n",
    "    for i in range(n):\n",
    "        x = bounds[i]\n",
    "        fx = np.exp(-x)     # f(x)\n",
    "        y = x**k * fx\n",
    "        sums += interval*y\n",
    "    return sums\n"
   ]
  },
  {
   "cell_type": "code",
   "execution_count": 106,
   "metadata": {},
   "outputs": [
    {
     "name": "stdout",
     "output_type": "stream",
     "text": [
      "Overwriting 2020_spring_sol09_pr02.py\n"
     ]
    }
   ],
   "source": [
    "%%writefile 2020_spring_sol09_pr02.py\n",
    "from mpi4py import MPI\n",
    "import numpy as np\n",
    "comm = MPI.COMM_WORLD    # global communicator\n",
    "rank = comm.Get_rank()   # current rank\n",
    "N = comm.Get_size()     # -n 16\n",
    "def I(M, k, n=10000):   \n",
    "    \"\"\"\n",
    "    TODO: calculate the integration using trapezoidal rule\n",
    "    M: upperbound of the integration\n",
    "    k: the kth momentum\n",
    "    n: number of splits for trapezoidal rule, default=10000\n",
    "    \"\"\"\n",
    "    bounds = np.linspace(0,M,n)  # split M to n pieces\n",
    "    interval = M/n               # the interval(x-axis length) of each partial sum\n",
    "    sums = 0                     # buffer to calculate integration\n",
    "    for i in range(n):\n",
    "        x = bounds[i]\n",
    "        fx = np.exp(-x)     # f(x)\n",
    "        y = x**k * fx\n",
    "        sums += interval*y\n",
    "    return sums\n",
    "if rank==0:\n",
    "    M=np.array([1000])\n",
    "else:\n",
    "    M=np.zeros(1, dtype=int)\n",
    "\n",
    "comm.Bcast(M, root=0)\n",
    "M += 1000*rank   # add 1000 per rank\n",
    "Jk = I(M[0], rank, n=10000)\n",
    "Jks = comm.gather(Jk, root=0)\n",
    "if rank==0:\n",
    "    for i in range(N):\n",
    "        print(f\"The {i}-th moment approximation(J{i}): {Jks[i]}\")\n",
    "        \n",
    "        \n",
    "    \n",
    "    \n"
   ]
  },
  {
   "cell_type": "code",
   "execution_count": 107,
   "metadata": {
    "scrolled": true
   },
   "outputs": [
    {
     "name": "stdout",
     "output_type": "stream",
     "text": [
      "The 0-th moment approximation(J0): 1.0507332777775127\r\n",
      "The 1-th moment approximation(J1): 0.9965729913945666\r\n",
      "The 2-th moment approximation(J2): 1.999732959859084\r\n",
      "The 3-th moment approximation(J3): 5.999605379059183\r\n",
      "The 4-th moment approximation(J4): 23.997659381104473\r\n",
      "The 5-th moment approximation(J5): 119.98784793292702\r\n",
      "The 6-th moment approximation(J6): 719.9277930026687\r\n",
      "The 7-th moment approximation(J7): 5039.496348113682\r\n",
      "The 8-th moment approximation(J8): 40315.96979385826\r\n",
      "The 9-th moment approximation(J9): 362843.7120461333\r\n",
      "The 10-th moment approximation(J10): 3628437.0924776006\r\n",
      "The 11-th moment approximation(J11): 39912808.2229183\r\n",
      "The 12-th moment approximation(J12): 478953700.27700853\r\n",
      "The 13-th moment approximation(J13): 6226398104.507026\r\n",
      "The 14-th moment approximation(J14): 87169573390.50105\r\n",
      "The 15-th moment approximation(J15): 1307543600235.6833\r\n"
     ]
    }
   ],
   "source": [
    "!mpirun -n 16 python 2020_spring_sol09_pr02.py"
   ]
  }
 ],
 "metadata": {
  "kernelspec": {
   "display_name": "Python 3 (ipykernel)",
   "language": "python",
   "name": "python3"
  },
  "language_info": {
   "codemirror_mode": {
    "name": "ipython",
    "version": 3
   },
   "file_extension": ".py",
   "mimetype": "text/x-python",
   "name": "python",
   "nbconvert_exporter": "python",
   "pygments_lexer": "ipython3",
   "version": "3.8.16"
  }
 },
 "nbformat": 4,
 "nbformat_minor": 2
}
