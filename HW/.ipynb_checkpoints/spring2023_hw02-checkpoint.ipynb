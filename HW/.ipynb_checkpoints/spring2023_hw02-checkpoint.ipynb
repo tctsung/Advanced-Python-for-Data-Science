{
 "cells": [
  {
   "cell_type": "markdown",
   "metadata": {},
   "source": [
    "**Advanced Python for Data Science**  \n",
    "**DS-GA 1019**\n",
    "\n",
    "\n",
    "## Homework Assignment 02  \n",
    "**Due date: Feb 15, 2023, 4:00PM**  "
   ]
  },
  {
   "cell_type": "markdown",
   "metadata": {},
   "source": [
    "### Instructions for submitting solutions for assignment 2: \n",
    "\n",
    "- Please submit only one zip file to NYU Classes, which contains **all your python solutions** and **one pdf file** with all of your answers.  \n",
    "\n",
    "- The submitted zip-file name should be as **\"spring2023_sol02_*nyuid*.zip\"**  \n",
    "\n",
    "\n",
    "- **e.g.** If your nyuid is \"ab1234\", the submission is \"spring2023_sol02_ab1234.zip\"  \n",
    "\n",
    "\n",
    "\n"
   ]
  },
  {
   "cell_type": "markdown",
   "metadata": {},
   "source": [
    "# Problem 1. (30pt)\n",
    "\n",
    "Write a function f(n) to calculate the number of ways of representing $n$ as a sum of 1, 2, and 5, where the order of summands is important. For example: \n",
    "\n",
    "---\n",
    "\n",
    "n = 1  \n",
    "1 = 1  \n",
    "f(1) = 1  \n",
    "\n",
    "---\n",
    "\n",
    "n = 2  \n",
    "2 = 1 + 1  \n",
    "2 = 2  \n",
    "f(2) = 2  \n",
    "\n",
    "---\n",
    "\n",
    "n = 3  \n",
    "3 = 1 + 1 + 1  \n",
    "3 = 1 + 2  \n",
    "3 = 2 + 1  \n",
    "f(3) = 3 \n",
    "\n",
    "---\n",
    "\n",
    "n = 5  \n",
    "5 = 1 + 1 + 1 + 1 + 1  \n",
    "5 = 1 + 1 + 1 + 2  \n",
    "5 = 1 + 1 + 2 + 1  \n",
    "5 = 1 + 2 + 1 + 1  \n",
    "5 = 2 + 1 + 1 + 1  \n",
    "5 = 2 + 2 + 1  \n",
    "5 = 2 + 1 + 2  \n",
    "5 = 1 + 2 + 2  \n",
    "5 = 5  \n",
    "f(5) = 9\n",
    "\n",
    "---\n",
    "\n",
    "(10pt) Write a recursive solution f_rec() without memoization and time it for $n=10, 25$.  \n",
    "\n",
    "(10pt) Write a recursive solution with memoization or a wrapper function f_memo() and time it for $n=10, 25, 50, 100$.  \n",
    "\n",
    "(10pt) Write an iterative solution f_it() and time it for $n=10, 25, 50, 100$.  \n",
    "\n"
   ]
  },
  {
   "cell_type": "markdown",
   "metadata": {},
   "source": [
    "# Problem 2. (70%)\n",
    "\n",
    "An astrophysicist colleague was recently complaining about how long it was taking to run an N-body simulation. “It’s really just a simple calculation, and I’m only simulating four planets, but it takes nearly a minute and a half to run one simulation. I really need it done in under 30 seconds.” You kindly offer to take a look at code to see if it is possible to speed it up. Your colleague provides you with a link to the source: https://nyu-cds.github.io/courses/code/nbody.py\n",
    "\n",
    "\n",
    "Although your colleague said the code was simple, it is still fairly complex, so you decide to tackle the problem in stages. A first scan of the code reveals a number of potential areas that could be improved. These include:\n",
    "\n",
    "- Reducing function call overhead\n",
    "\n",
    "- Using alternatives to membership testing of lists \n",
    "\n",
    "- Using local rather than global variables \n",
    "\n",
    "- Using data aggregation to reduce loop overheads.\n",
    "\n",
    "As you’re a cautious programmer, you decide to address each of these in turn. This will ensure that it is possible to check the program is still working correctly after each change, and to assess the performance improvement that the change achieved. You are also aware that the program has to be maintained by others in the future, so you want to make sure that the changes do not make this more difficult, especially if the performance improvement is only minor.\n",
    "\n",
    "For each of these areas, create a new version of nbody.py, call them nbody_1.py, nbody_2.py, nbody_3.py, nbody_4.py. Finally, create another file called nbody_opt.py that contains all of the optimizations you made. \n",
    "\n",
    "\n",
    "Finally, generate a .pdf file with the four logs produced by the command in shell:\n",
    "\n",
    "for f in nbody_*.py; do python -m cProfile -s cumulative $f; done\n",
    "\n",
    "How much speedup do you get (time_original/time_optimized)?\n",
    "\n"
   ]
  }
 ],
 "metadata": {
  "kernelspec": {
   "display_name": "Python 3 (ipykernel)",
   "language": "python",
   "name": "python3"
  },
  "language_info": {
   "codemirror_mode": {
    "name": "ipython",
    "version": 3
   },
   "file_extension": ".py",
   "mimetype": "text/x-python",
   "name": "python",
   "nbconvert_exporter": "python",
   "pygments_lexer": "ipython3",
   "version": "3.9.12"
  }
 },
 "nbformat": 4,
 "nbformat_minor": 2
}
