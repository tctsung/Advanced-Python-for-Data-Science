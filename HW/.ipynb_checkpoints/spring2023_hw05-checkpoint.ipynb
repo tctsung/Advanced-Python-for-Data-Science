{
 "cells": [
  {
   "cell_type": "markdown",
   "metadata": {},
   "source": [
    "## Homework 05:\n",
    "\n",
    "## Due Date: Mar 8, 2023, 4:00pm\n",
    "\n",
    "#### Firstname Lastname: Ching-Tsung(Deron) Tsai\n",
    "\n",
    "#### E-mail: ct2840@nyu.edu\n",
    "\n",
    "#### Enter your solutions and submit this notebook"
   ]
  },
  {
   "cell_type": "markdown",
   "metadata": {},
   "source": [
    "---\n",
    "\n",
    "### Part of Lecture 04\n",
    "\n",
    "---"
   ]
  },
  {
   "cell_type": "code",
   "execution_count": 1,
   "metadata": {},
   "outputs": [],
   "source": [
    "from itertools import product\n",
    "import numpy as np\n",
    "import matplotlib.pyplot as plt\n",
    "\n",
    "def build_grid(n):\n",
    "    '''defines the grid'''\n",
    "    G = np.zeros((n, n))\n",
    "    return G\n",
    "\n",
    "def set_boundary_grid(G):\n",
    "    '''set the boundary values'''\n",
    "    n = G.shape[0]\n",
    "    G[:,  0] = 1.0\n",
    "    G[0,  :] = 1.0\n",
    "    G[-1, :] = 1.0\n",
    "    G[:, -1] = 1.0\n",
    "\n",
    "def plot_grid(G):\n",
    "    img = plt.imshow(G)\n",
    "    img.set_cmap('rainbow')\n",
    "    plt.axis('off')\n",
    "    plt.show()\n",
    "\n",
    "# using iterators to traverse the grid\n",
    "def iteration_gen(G):\n",
    "    n = G.shape[0]\n",
    "    indices = product(range(1, n-1), repeat=2)\n",
    "    for e in indices:\n",
    "        G[e]=(G[e[0] + 1, e[1]] + G[e[0] - 1, e[1]] + G[e[0], e[1] + 1] + G[e[0], e[1] - 1])/4\n",
    "    \n",
    "\n",
    "# using numpy built-in functions to compute the error\n",
    "def calc_error_np(G1, G2):\n",
    "    error = np.square(np.subtract(G1, G2)).mean()\n",
    "    return(error)\n",
    "\n",
    "# deep copy of G1 to G2\n",
    "def copy_array(G1, G2):\n",
    "    G2[:, :] = G1[:, :]\n",
    "\n",
    "    \n",
    "def solve_heat_equation4(n):\n",
    "    '''changing to both calc_error_np and iteration_gen functions'''\n",
    "    G = build_grid(n)\n",
    "    set_boundary_grid(G)\n",
    "    \n",
    "    G_prev = build_grid(n)\n",
    "    copy_array(G, G_prev)\n",
    "    \n",
    "    error = np.float64(\"inf\")\n",
    "    while error > 1e-7:\n",
    "        iteration_gen(G)\n",
    "        error = calc_error_np(G, G_prev) \n",
    "        copy_array(G, G_prev)          \n",
    "    return(G)"
   ]
  },
  {
   "cell_type": "code",
   "execution_count": 2,
   "metadata": {},
   "outputs": [
    {
     "data": {
      "image/png": "[encoded data removed]",
      "text/plain": [
       "<Figure size 640x480 with 1 Axes>"
      ]
     },
     "metadata": {},
     "output_type": "display_data"
    }
   ],
   "source": [
    "size_of_grid = 100\n",
    "G = build_grid(n=size_of_grid)\n",
    "set_boundary_grid(G)\n",
    "plot_grid(G) "
   ]
  },
  {
   "cell_type": "code",
   "execution_count": 24,
   "metadata": {},
   "outputs": [
    {
     "name": "stdout",
     "output_type": "stream",
     "text": [
      "The line_profiler extension is already loaded. To reload it, use:\n",
      "  %reload_ext line_profiler\n"
     ]
    }
   ],
   "source": [
    "%load_ext line_profiler\n",
    "%lprun -f solve_heat_equation4 G4 = solve_heat_equation4(size_of_grid)"
   ]
  },
  {
   "cell_type": "code",
   "execution_count": 25,
   "metadata": {},
   "outputs": [
    {
     "data": {
      "image/png": "[encoded data removed]",
      "text/plain": [
       "<Figure size 640x480 with 1 Axes>"
      ]
     },
     "metadata": {},
     "output_type": "display_data"
    }
   ],
   "source": [
    "plot_grid(G4)"
   ]
  },
  {
   "cell_type": "markdown",
   "metadata": {},
   "source": [
    "\n",
    "---"
   ]
  },
  {
   "cell_type": "markdown",
   "metadata": {},
   "source": [
    "# Problem 1. (100 points)\n",
    "\n",
    "\n",
    "In Lecture 04 we considered the heat equation over a homogeneous material for which an iteration is given by the following equation:\n",
    "$$\n",
    "f_{i,j} = \\frac{f_{i+1,j}+f_{i-1,j} + f_{i,j+1} + f_{i,j-1}}{4} \\,.\n",
    "$$\n",
    "\n",
    "This was implemented by: \n",
    "```\n",
    "# using iterators to traverse the grid\n",
    "def iteration_gen(G):\n",
    "\"\"\"the iteration function from lect04\"\"\"\n",
    "    n = G.shape[0]\n",
    "    indices = product(range(1, n-1), repeat=2)\n",
    "    for e in indices:\n",
    "        G[e]=(G[e[0] + 1, e[1]] + G[e[0] - 1, e[1]] + G[e[0], e[1] + 1] + G[e[0], e[1] - 1])/4\n",
    "```\n",
    "\n",
    "\n",
    "----\n",
    "\n",
    "Now imagine, you are given a non-homogeneous material for which the iteration, i.e. the corresponding equation,  depends on the position $(i, j)$ and is given by:\n",
    "$$\n",
    "f_{i,j} := \\frac{ h_{i + 1,j} f_{i + 1, j} + h_{i - 1,j} f_{i - 1,j} + h_{i,j + 1} f_{i,j+1} + h_{i,j - 1} f_{i,j-1}}{ h_{i + 1,j} + h_{i - 1,j} + h_{i,j + 1} + h_{i,j - 1} } \\,.\n",
    "$$\n",
    "Here \"weight\"\n",
    "$$h(i, j) = \\exp\\left(-\\frac{|i - j|} {\\sqrt{n}}\\right) \\,,$$\n",
    "corresponds to the point $(i, j)$, where $n$ is the size of the grid.\n",
    "\n",
    "----\n",
    "\n",
    "Write a new function:\n",
    "```\n",
    "def iteration_gen_nonhomogeneous(G):\n",
    "    \"\"\"the iteration function in hw05\"\"\"\n",
    "```\n",
    "to solve the non-homogeneous case defined as above. \n",
    "\n",
    "\n",
    "The task here is to examine run-time improvements that can be obtained by Cython for this non-homogeneous material. Consider **solve_heat_equation4** from Lect04, which now becomes.\n",
    "\n",
    "```\n",
    "def solve_heat_nonhomogeneous_equation4(n):\n",
    "    '''changing to both calc_error_np and iteration_gen functions'''\n",
    "    G = build_grid(n)\n",
    "    set_boundary_grid(G)\n",
    "    \n",
    "    G_prev = build_grid(n)\n",
    "    copy_array(G, G_prev)\n",
    "    \n",
    "    error = np.float(\"inf\")\n",
    "    while error > 1e-7:\n",
    "        iteration_gen_nonhomogeneous(G)\n",
    "        error = calc_error_np(G, G_prev) \n",
    "        copy_array(G, G_prev)          \n",
    "    return(G)\n",
    "```\n",
    "\n",
    "----\n",
    "\n",
    "Concretely, as presented in Lect05, perform the following steps and measure their run-times:\n",
    "\n",
    "(i) simply compile the python code with Cython, without any changes;\n",
    "\n",
    "\n",
    "(ii) introduce variables and arrays with ctypes (by using the command cdef);  \n",
    "\n",
    "\n",
    "(iii) besides (ii), also use the content of ndarray objects in order to efficiently access the data buffer of the arrays.\n",
    "\n",
    "---\n",
    "\n",
    "In the sequel of the notebook, as your solution, submit codes, run-times, and plots of the following tasks:\n",
    "\n",
    "**2.1 (30pt)** solve_heat_nonhomogeneous_equation4(100)\n",
    "\n",
    "**2.2 (10pt)** solve_heat_nonhomogeneous_equation4(100) when applied (i)  \n",
    "\n",
    "**2.3 (30pt)** solve_heat_nonhomogeneous_equation4(100) when applied (ii)  \n",
    "\n",
    "**2.4 (30pt)** solve_heat_nonhomogeneous_equation4(100) when applied (iii)  \n",
    "\n",
    "Notice that to obtain a best performance for the heat equation you also need to apply (i), (ii), (iii) to the functions called within \"solve_heat_equation4\".\n"
   ]
  },
  {
   "cell_type": "code",
   "execution_count": 3,
   "metadata": {},
   "outputs": [],
   "source": [
    "%load_ext Cython"
   ]
  },
  {
   "cell_type": "code",
   "execution_count": 4,
   "metadata": {},
   "outputs": [],
   "source": [
    "%load_ext line_profiler"
   ]
  },
  {
   "cell_type": "code",
   "execution_count": 5,
   "metadata": {},
   "outputs": [],
   "source": [
    "size_of_grid = 100"
   ]
  },
  {
   "cell_type": "markdown",
   "metadata": {},
   "source": [
    "### Part 1: solve_heat_equation4(100)"
   ]
  },
  {
   "cell_type": "code",
   "execution_count": 6,
   "metadata": {},
   "outputs": [],
   "source": [
    "from math import exp\n",
    "def iteration_gen_nonhomogeneous(G):\n",
    "    \"\"\"the iteration function in hw05\"\"\"\n",
    "    n = G.shape[0]\n",
    "    indices = product(range(1, n-1), repeat=2) # Cartesian Product: all possible ordred set with len=2\n",
    "    for e in indices:\n",
    "        i = e[0]\n",
    "        j = e[1]\n",
    "        h0 = exp(-abs(i+1-j)/n**0.5)\n",
    "        h1 = exp(-abs(i-1-j)/n**0.5)\n",
    "        h2 = h1 # skip same calculation\n",
    "        h3 = h0 \n",
    "        G[e]=(h0*G[i+1,j] + h1*G[i-1,j] + h2*G[i,j+1] + h3*G[i,j-1])/(h0+h1+h2+h3)\n",
    "    \n",
    "    \n",
    "    \n",
    "def solve_heat_nonhomogeneous_equation4(n):\n",
    "    '''changing to both calc_error_np and iteration_gen functions'''\n",
    "    G = build_grid(n)\n",
    "    set_boundary_grid(G)\n",
    "    \n",
    "    G_prev = build_grid(n)\n",
    "    copy_array(G, G_prev)\n",
    "    \n",
    "    error = np.float64(\"inf\")\n",
    "    while error > 1e-7:\n",
    "        iteration_gen_nonhomogeneous(G)\n",
    "        error = calc_error_np(G, G_prev) \n",
    "        copy_array(G, G_prev)          \n",
    "    return(G)"
   ]
  },
  {
   "cell_type": "code",
   "execution_count": 7,
   "metadata": {},
   "outputs": [
    {
     "data": {
      "image/png": "[encoded data removed]",
      "text/plain": [
       "<Figure size 640x480 with 1 Axes>"
      ]
     },
     "metadata": {},
     "output_type": "display_data"
    }
   ],
   "source": [
    "%lprun -f solve_heat_nonhomogeneous_equation4 G = solve_heat_nonhomogeneous_equation4(size_of_grid)\n",
    "plot_grid(G)"
   ]
  },
  {
   "cell_type": "markdown",
   "metadata": {},
   "source": [
    "### HERE COPY-PASTE THE OUTPUT FROM LINE-PROFILER:\n"
   ]
  },
  {
   "cell_type": "raw",
   "metadata": {},
   "source": [
    "Total time: 7.57642 s\n",
    "File: /var/folders/bm/s0j8htzs7tn4d1t__749xglm0000gn/T/ipykernel_95304/1557535770.py\n",
    "Function: solve_heat_nonhomogeneous_equation4 at line 17\n",
    "\n",
    "Line #      Hits         Time  Per Hit   % Time  Line Contents\n",
    "==============================================================\n",
    "    17                                           def solve_heat_nonhomogeneous_equation4(n):\n",
    "    18                                               '''changing to both calc_error_np and iteration_gen functions'''\n",
    "    19         1    2791000.0 2791000.0      0.0      G = build_grid(n)\n",
    "    20         1      50000.0  50000.0      0.0      set_boundary_grid(G)\n",
    "    21                                               \n",
    "    22         1      38000.0  38000.0      0.0      G_prev = build_grid(n)\n",
    "    23         1      22000.0  22000.0      0.0      copy_array(G, G_prev)\n",
    "    24                                               \n",
    "    25         1       9000.0   9000.0      0.0      error = np.float64(\"inf\")\n",
    "    26       309     147000.0    475.7      0.0      while error > 1e-7:\n",
    "    27       309 7559025000.0 24462864.1     99.8          iteration_gen_nonhomogeneous(G)\n",
    "    28       309   11992000.0  38809.1      0.2          error = calc_error_np(G, G_prev) \n",
    "    29       309    2346000.0   7592.2      0.0          copy_array(G, G_prev)          \n",
    "    30         1          0.0      0.0      0.0      return(G)"
   ]
  },
  {
   "cell_type": "markdown",
   "metadata": {},
   "source": [
    "### Part 2: solve_heat_equation4(100) after applying (i)\n"
   ]
  },
  {
   "cell_type": "code",
   "execution_count": 8,
   "metadata": {},
   "outputs": [
    {
     "name": "stdout",
     "output_type": "stream",
     "text": [
      "The Cython extension is already loaded. To reload it, use:\n",
      "  %reload_ext Cython\n"
     ]
    }
   ],
   "source": [
    "%load_ext Cython"
   ]
  },
  {
   "cell_type": "code",
   "execution_count": 17,
   "metadata": {
    "collapsed": true
   },
   "outputs": [
    {
     "name": "stderr",
     "output_type": "stream",
     "text": [
      "/Users/tsung_macbook/.cache/ipython/cython/_cython_magic_6982313ec3a68c8b05bcc70ebabce3f3.c:5427:5: warning: 'tp_print' is deprecated [-Wdeprecated-declarations]\n",
      "    0,\n",
      "    ^\n",
      "/opt/anaconda3/envs/line_pr/include/python3.8/cpython/object.h:260:5: note: 'tp_print' has been explicitly marked deprecated here\n",
      "    Py_DEPRECATED(3.8) int (*tp_print)(PyObject *, FILE *, int);\n",
      "    ^\n",
      "/opt/anaconda3/envs/line_pr/include/python3.8/pyport.h:515:54: note: expanded from macro 'Py_DEPRECATED'\n",
      "#define Py_DEPRECATED(VERSION_UNUSED) __attribute__((__deprecated__))\n",
      "                                                     ^\n",
      "1 warning generated.\n"
     ]
    }
   ],
   "source": [
    "%%cython -f\n",
    "# cython: binding=True\n",
    "from itertools import product\n",
    "import numpy as np\n",
    "import matplotlib.pyplot as plt\n",
    "from math import exp\n",
    "def build_grid(n):\n",
    "    '''defines the grid'''\n",
    "    G = np.zeros((n, n))\n",
    "    return G\n",
    "def set_boundary_grid(G):\n",
    "    '''set the boundary values'''\n",
    "    n = G.shape[0]\n",
    "    G[:,  0] = 1.0\n",
    "    G[0,  :] = 1.0\n",
    "    G[-1, :] = 1.0\n",
    "    G[:, -1] = 1.0\n",
    "def plot_grid(G):\n",
    "    img = plt.imshow(G)\n",
    "    img.set_cmap('rainbow')\n",
    "    plt.axis('off')\n",
    "    plt.show()\n",
    "def calc_error_np(G1, G2):\n",
    "    error = np.square(np.subtract(G1, G2)).mean()\n",
    "    return(error)\n",
    "def copy_array(G1, G2):\n",
    "    G2[:, :] = G1[:, :]\n",
    "def iteration_gen_nonhomogeneous(G):\n",
    "    \"\"\"the iteration function in hw05\"\"\"\n",
    "    n = G.shape[0]\n",
    "    indices = product(range(1, n-1), repeat=2) # Cartesian Product: all possible ordred set with len=2\n",
    "    for e in indices:\n",
    "        i = e[0]\n",
    "        j = e[1]\n",
    "        h0 = exp(-abs(i+1-j)/n**0.5)\n",
    "        h1 = exp(-abs(i-1-j)/n**0.5)\n",
    "        h2 = h1 # skip same calculation\n",
    "        h3 = h0 \n",
    "        G[e]=(h0*G[i+1,j] + h1*G[i-1,j] + h2*G[i,j+1] + h3*G[i,j-1])/(h0+h1+h2+h3)\n",
    "def solve_heat_nonhomogeneous_equation4(n):\n",
    "    '''changing to both calc_error_np and iteration_gen functions'''\n",
    "    G = build_grid(n)\n",
    "    set_boundary_grid(G)\n",
    "    \n",
    "    G_prev = build_grid(n)\n",
    "    copy_array(G, G_prev)\n",
    "    \n",
    "    error = np.float64(\"inf\")\n",
    "    while error > 1e-7:\n",
    "        iteration_gen_nonhomogeneous(G)\n",
    "        error = calc_error_np(G, G_prev) \n",
    "        copy_array(G, G_prev)          \n",
    "    return(G)"
   ]
  },
  {
   "cell_type": "code",
   "execution_count": 20,
   "metadata": {},
   "outputs": [
    {
     "data": {
      "text/plain": [
       "(None, <pyximport.pyximport.PyxImporter at 0x7fd5b8138820>)"
      ]
     },
     "execution_count": 20,
     "metadata": {},
     "output_type": "execute_result"
    }
   ],
   "source": [
    "import pyximport\n",
    "pyximport.install()"
   ]
  },
  {
   "cell_type": "code",
   "execution_count": 19,
   "metadata": {},
   "outputs": [
    {
     "data": {
      "image/png": "[encoded data removed]",
      "text/plain": [
       "<Figure size 640x480 with 1 Axes>"
      ]
     },
     "metadata": {},
     "output_type": "display_data"
    }
   ],
   "source": [
    "%lprun -f solve_heat_nonhomogeneous_equation4 G = solve_heat_nonhomogeneous_equation4(size_of_grid)\n",
    "plot_grid(G)"
   ]
  },
  {
   "cell_type": "markdown",
   "metadata": {},
   "source": [
    "### HERE COPY-PASTE THE OUTPUT FROM LINE-PROFILER:"
   ]
  },
  {
   "cell_type": "markdown",
   "metadata": {},
   "source": []
  },
  {
   "cell_type": "markdown",
   "metadata": {},
   "source": [
    "### Part 3: solve_heat_equation4(100) after applying (ii)"
   ]
  },
  {
   "cell_type": "code",
   "execution_count": null,
   "metadata": {},
   "outputs": [],
   "source": []
  },
  {
   "cell_type": "code",
   "execution_count": null,
   "metadata": {},
   "outputs": [],
   "source": [
    "%lprun -f solve_heat_nonhomogenous_equation4 G = solve_heat_nonhomogenous_equation4(size_of_grid)\n",
    "plot_grid(G)"
   ]
  },
  {
   "cell_type": "markdown",
   "metadata": {},
   "source": [
    "### HERE COPY-PASTE THE OUTPUT FROM LINE-PROFILER:"
   ]
  },
  {
   "cell_type": "markdown",
   "metadata": {},
   "source": []
  },
  {
   "cell_type": "markdown",
   "metadata": {},
   "source": [
    "### Part 4: solve_heat_equation4(100) after applying (iii)"
   ]
  },
  {
   "cell_type": "code",
   "execution_count": null,
   "metadata": {},
   "outputs": [],
   "source": []
  },
  {
   "cell_type": "code",
   "execution_count": null,
   "metadata": {},
   "outputs": [],
   "source": [
    "%lprun -f solve_heat_nonhomogenous_equation4 G = solve_heat_nonhomogenous_equation4(size_of_grid)\n",
    "plot_grid(G)"
   ]
  },
  {
   "cell_type": "markdown",
   "metadata": {},
   "source": [
    "### HERE COPY-PASTE THE OUTPUT FROM LINE-PROFILER:"
   ]
  },
  {
   "cell_type": "markdown",
   "metadata": {},
   "source": []
  }
 ],
 "metadata": {
  "kernelspec": {
   "display_name": "Python 3 (ipykernel)",
   "language": "python",
   "name": "python3"
  },
  "language_info": {
   "codemirror_mode": {
    "name": "ipython",
    "version": 3
   },
   "file_extension": ".py",
   "mimetype": "text/x-python",
   "name": "python",
   "nbconvert_exporter": "python",
   "pygments_lexer": "ipython3",
   "version": "3.8.16"
  },
  "toc": {
   "base_numbering": 1,
   "nav_menu": {},
   "number_sections": true,
   "sideBar": true,
   "skip_h1_title": false,
   "title_cell": "Table of Contents",
   "title_sidebar": "Contents",
   "toc_cell": false,
   "toc_position": {},
   "toc_section_display": true,
   "toc_window_display": false
  },
  "varInspector": {
   "cols": {
    "lenName": 16,
    "lenType": 16,
    "lenVar": 40
   },
   "kernels_config": {
    "python": {
     "delete_cmd_postfix": "",
     "delete_cmd_prefix": "del ",
     "library": "var_list.py",
     "varRefreshCmd": "print(var_dic_list())"
    },
    "r": {
     "delete_cmd_postfix": ") ",
     "delete_cmd_prefix": "rm(",
     "library": "var_list.r",
     "varRefreshCmd": "cat(var_dic_list()) "
    }
   },
   "types_to_exclude": [
    "module",
    "function",
    "builtin_function_or_method",
    "instance",
    "_Feature"
   ],
   "window_display": false
  }
 },
 "nbformat": 4,
 "nbformat_minor": 2
}
